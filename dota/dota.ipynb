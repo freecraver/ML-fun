{
 "cells": [
  {
   "cell_type": "code",
   "execution_count": 36,
   "metadata": {},
   "outputs": [
    {
     "data": {
      "text/html": [
       "<script type=\"text/javascript\">window.PlotlyConfig = {MathJaxConfig: 'local'};</script><script type=\"text/javascript\">if (window.MathJax) {MathJax.Hub.Config({SVG: {font: \"STIX-Web\"}});}</script><script>requirejs.config({paths: { 'plotly': ['https://cdn.plot.ly/plotly-latest.min']},});if(!window._Plotly) {require(['plotly'],function(plotly) {window._Plotly=plotly;});}</script>"
      ],
      "text/vnd.plotly.v1+html": [
       "<script type=\"text/javascript\">window.PlotlyConfig = {MathJaxConfig: 'local'};</script><script type=\"text/javascript\">if (window.MathJax) {MathJax.Hub.Config({SVG: {font: \"STIX-Web\"}});}</script><script>requirejs.config({paths: { 'plotly': ['https://cdn.plot.ly/plotly-latest.min']},});if(!window._Plotly) {require(['plotly'],function(plotly) {window._Plotly=plotly;});}</script>"
      ]
     },
     "metadata": {},
     "output_type": "display_data"
    }
   ],
   "source": [
    "import pandas as pd\n",
    "import numpy as np\n",
    "from sklearn.tree import DecisionTreeClassifier\n",
    "from sklearn.model_selection import train_test_split, cross_validate\n",
    "import matplotlib as mpl\n",
    "import matplotlib.pyplot as plt\n",
    "from sklearn.svm import SVC\n",
    "from sklearn.ensemble import RandomForestClassifier\n",
    "from sklearn.neural_network import MLPClassifier\n",
    "\n",
    "\n",
    "import plotly.offline as py\n",
    "from plotly.offline import download_plotlyjs, init_notebook_mode\n",
    "import plotly.graph_objs as go\n",
    "\n",
    "init_notebook_mode(connected=True)\n",
    "\n",
    "\n",
    "train_path = \"res/dota2Train.csv\"\n",
    "test_path = \"res/dota2Test.csv\"\n",
    "result_folder = \"results/\"\n",
    "\n",
    "test_set_ratio = 0.1 \n",
    "\n",
    "   "
   ]
  },
  {
   "cell_type": "markdown",
   "metadata": {},
   "source": [
    "Preprocessing\n",
    "--------------"
   ]
  },
  {
   "cell_type": "code",
   "execution_count": 50,
   "metadata": {},
   "outputs": [],
   "source": [
    "from sklearn import preprocessing \n",
    "\n",
    "df_train = pd.read_csv(train_path)\n",
    "df_test = pd.read_csv(test_path)\n",
    "#df_train.pop(\"cid\")\n",
    "#df_test.pop(\"cid\")\n",
    "#df_train.pop(\"gmode\")\n",
    "#df_train.pop(\"gtype\")\n",
    "#df_test.pop(\"gmode\")\n",
    "#df_test.pop(\"gtype\")\n",
    "#df_train=df_train.values\n",
    "#f_test=df_test.values\n",
    "\n",
    "#df_train = pd.DataFrame(df_train, columns = cols)\n",
    "\n",
    "#df_train = preprocessing.scale(df_train)\n",
    "#df_test= preprocessing.scale(df_test)\n",
    "#a=df_train\n",
    "#a[:,1:]\n",
    "#b = preprocessing.scale(a[:,1:], axis=0, with_mean=True, with_std=True, copy=True)\n",
    "\n",
    "#df_train = np.concatenate((df_train[:,0:1],b),axis=1)\n",
    "#a=df_test\n",
    "#a[:,1:]\n",
    "#b = preprocessing.scale(a[:,1:], axis=0, with_mean=True, with_std=True, copy=True)\n",
    "#dF_test=np.concatenate((df_test[:,0:1],b),axis=1)\n",
    "\n",
    "#df_train[:,2:] = np.where(df_train[:,2:] < 0, 2, df_train[:,2:])\n",
    "#df_train[:,0] = np.where(df_train[:,0] < 0, 0, df_train[:,0] )\n",
    "#df_test[:,2:] = np.where(df_test[:,2:] < 0, 2, df_test[:,2:])\n",
    "#df_test[:,0] = np.where(df_test[:,0]  < 0, 0, df_test[:,0] )\n",
    "#a = preprocessing.scale(df_train[:,1:], axis=0, with_mean=True, with_std=True, copy=True)\n",
    "#b =  preprocessing.scale(df_test[:,1:], axis=0, with_mean=True, with_std=True, copy=True)\n",
    "#df_ = np.concatenate((df_train[:,0],a),axis=1)\n",
    "#df_test = np.concatenate(df_test[:,0],axis=1)\n",
    "#df_ = pd.DataFrame(df_, columns = cols)"
   ]
  },
  {
   "cell_type": "markdown",
   "metadata": {},
   "source": [
    "Precision | Recall\n",
    "-------------"
   ]
  },
  {
   "cell_type": "code",
   "execution_count": 54,
   "metadata": {},
   "outputs": [
    {
     "name": "stdout",
     "output_type": "stream",
     "text": [
      "dict_keys(['fit_time', 'score_time', 'test_acc', 'train_acc', 'test_prec_macro', 'train_prec_macro', 'test_rec_micro', 'train_rec_micro'])\n",
      "[1.         0.93333333 1.         0.93333333 0.93333333 0.86666667\n",
      " 0.93333333 1.         1.         1.        ]\n"
     ]
    }
   ],
   "source": [
    "from sklearn.model_selection import cross_validate\n",
    "from sklearn.datasets import  load_iris\n",
    "from sklearn.svm import SVC\n",
    "\n",
    "iris = load_iris()\n",
    "clf = DecisionTreeClassifier()\n",
    "scoring = {'acc': 'accuracy',\n",
    "           'prec_macro': 'precision_macro',\n",
    "           'rec_micro': 'recall_macro'}\n",
    "scores = cross_validate(clf, iris.data, iris.target, scoring=scoring,\n",
    "                         cv=10, return_train_score=True)\n",
    "print(scores.keys())\n",
    "print(scores['test_acc'])  "
   ]
  },
  {
   "cell_type": "code",
   "execution_count": 51,
   "metadata": {},
   "outputs": [
    {
     "data": {
      "text/plain": [
       "array([0, 0, 0, 0, 0, 0, 0, 0, 0, 0, 0, 0, 0, 0, 0, 0, 0, 0, 0, 0, 0, 0,\n",
       "       0, 0, 0, 0, 0, 0, 0, 0, 0, 0, 0, 0, 0, 0, 0, 0, 0, 0, 0, 0, 0, 0,\n",
       "       0, 0, 0, 0, 0, 0, 1, 1, 1, 1, 1, 1, 1, 1, 1, 1, 1, 1, 1, 1, 1, 1,\n",
       "       1, 1, 1, 1, 1, 1, 1, 1, 1, 1, 1, 1, 1, 1, 1, 1, 1, 1, 1, 1, 1, 1,\n",
       "       1, 1, 1, 1, 1, 1, 1, 1, 1, 1, 1, 1, 2, 2, 2, 2, 2, 2, 2, 2, 2, 2,\n",
       "       2, 2, 2, 2, 2, 2, 2, 2, 2, 2, 2, 2, 2, 2, 2, 2, 2, 2, 2, 2, 2, 2,\n",
       "       2, 2, 2, 2, 2, 2, 2, 2, 2, 2, 2, 2, 2, 2, 2, 2, 2, 2])"
      ]
     },
     "execution_count": 51,
     "metadata": {},
     "output_type": "execute_result"
    }
   ],
   "source": [
    "from sklearn import svm, datasets\n",
    "from sklearn.model_selection import train_test_split\n",
    "import numpy as np\n",
    "from sklearn.preprocessing import MinMaxScaler\n",
    "\n",
    "\n",
    "#df_vars = df_vars_all.drop('win', axis=1)\n",
    "\n",
    "\n",
    "df_vars_all = df_train.loc[:, df_train.columns != 'win']\n",
    "#df_vars = df_vars_all.drop('win', axis=1)\n",
    "#df_vars_scaled = preprocessing.scale(df_vars)\n",
    "scaler = MinMaxScaler()\n",
    "scaler.fit(df_vars_all)\n",
    "df_vars_all=scaler.transform(df_vars_all)\n",
    "df_class = df_train['win']"
   ]
  },
  {
   "cell_type": "markdown",
   "metadata": {},
   "source": [
    "### Initialize Training data"
   ]
  },
  {
   "cell_type": "markdown",
   "metadata": {},
   "source": [
    "### Simple cross validation for well-founded results"
   ]
  },
  {
   "cell_type": "code",
   "execution_count": 7,
   "metadata": {},
   "outputs": [
    {
     "data": {
      "image/png": "[encoded data removed]",
      "text/plain": [
       "<Figure size 432x288 with 1 Axes>"
      ]
     },
     "metadata": {
      "needs_background": "light"
     },
     "output_type": "display_data"
    }
   ],
   "source": [
    "min_samples_splits = [2,3,4,5,7,10,15,20,25]\n",
    "results = []\n",
    "for min_samples_split in min_samples_splits:\n",
    "    clf = DecisionTreeClassifier(min_samples_split=min_samples_split)\n",
    "    scores = cross_validate(clf, df_vars, df_class, cv=5)\n",
    "    results.append(scores['test_score'].mean())\n",
    "    \n",
    "plt.plot(min_samples_splits, results, \"r\", label=\"Test Accuracy\")\n",
    "plt.ylabel(\"accuracy\")\n",
    "plt.xlabel(\"min_samples_split\")\n",
    "plt.title(\"Mean 5-fold cross-validated accuracy\")\n",
    "plt.show()"
   ]
  },
  {
   "cell_type": "markdown",
   "metadata": {},
   "source": [
    "### Model fitting and sample testing"
   ]
  },
  {
   "cell_type": "code",
   "execution_count": 8,
   "metadata": {},
   "outputs": [
    {
     "data": {
      "text/plain": [
       "0.5211009174311927"
      ]
     },
     "execution_count": 8,
     "metadata": {},
     "output_type": "execute_result"
    }
   ],
   "source": [
    "df_vars_all = df_train.loc[:, df_train.columns != 'win']\n",
    "df_vars=df_vars_all\n",
    "#df_vars = df_vars_all.drop('win', axis=1)\n",
    "df_vars_scaled = preprocessing.scale(df_vars)\n",
    "df_class = df_train['win']\n",
    "\n",
    "names = [\"Nearest Centroid\", \"Linear SVM\",\n",
    "         \"Decision Tree\", \"Naive Bayes\"]\n",
    "\n",
    "classifiers = [\n",
    "    NearestCentroid(),\n",
    "    LinearSVC(),\n",
    "    DecisionTreeClassifier(),\n",
    "    GaussianNB()]\n",
    "\n",
    "for name, clf in zip(names, classifiers):\n",
    "    np.random.seed(32143421)\n",
    "    scores = cross_validate(clf, df_vars, df_class, cv=5)['test_score']\n",
    "    print(name, \"Unscaled\", scores.mean())\n",
    "    np.random.seed(32143421)\n",
    "    scores = cross_validate(clf, df_vars_scaled, df_class, cv=5)['test_score']\n",
    "    print(name, \"Scaled\", scores.mean())"
   ]
  },
  {
   "cell_type": "code",
   "execution_count": null,
   "metadata": {},
   "outputs": [],
   "source": []
  },
  {
   "cell_type": "markdown",
   "metadata": {},
   "source": [
    "### Final prediction"
   ]
  },
  {
   "cell_type": "code",
   "execution_count": 10,
   "metadata": {},
   "outputs": [
    {
     "name": "stdout",
     "output_type": "stream",
     "text": [
      "RangeIndex(start=0, stop=10294, step=1)\n",
      "           ID  win\n",
      "0       92650   -1\n",
      "1       92651    1\n",
      "2       92652    1\n",
      "3       92653    1\n",
      "4       92654   -1\n",
      "5       92655   -1\n",
      "6       92656   -1\n",
      "7       92657   -1\n",
      "8       92658    1\n",
      "9       92659   -1\n",
      "10      92660    1\n",
      "11      92661    1\n",
      "12      92662    1\n",
      "13      92663   -1\n",
      "14      92664    1\n",
      "15      92665   -1\n",
      "16      92666    1\n",
      "17      92667   -1\n",
      "18      92668   -1\n",
      "19      92669    1\n",
      "20      92670   -1\n",
      "21      92671    1\n",
      "22      92672    1\n",
      "23      92673    1\n",
      "24      92674   -1\n",
      "25      92675    1\n",
      "26      92676    1\n",
      "27      92677    1\n",
      "28      92678   -1\n",
      "29      92679   -1\n",
      "...       ...  ...\n",
      "10264  102914    1\n",
      "10265  102915    1\n",
      "10266  102916    1\n",
      "10267  102917   -1\n",
      "10268  102918   -1\n",
      "10269  102919   -1\n",
      "10270  102920   -1\n",
      "10271  102921   -1\n",
      "10272  102922   -1\n",
      "10273  102923   -1\n",
      "10274  102924    1\n",
      "10275  102925   -1\n",
      "10276  102926    1\n",
      "10277  102927    1\n",
      "10278  102928    1\n",
      "10279  102929    1\n",
      "10280  102930   -1\n",
      "10281  102931    1\n",
      "10282  102932   -1\n",
      "10283  102933    1\n",
      "10284  102934   -1\n",
      "10285  102935    1\n",
      "10286  102936   -1\n",
      "10287  102937   -1\n",
      "10288  102938    1\n",
      "10289  102939    1\n",
      "10290  102940    1\n",
      "10291  102941    1\n",
      "10292  102942    1\n",
      "10293  102943    1\n",
      "\n",
      "[10294 rows x 2 columns]\n"
     ]
    },
    {
     "data": {
      "text/plain": [
       "5310"
      ]
     },
     "execution_count": 10,
     "metadata": {},
     "output_type": "execute_result"
    }
   ],
   "source": [
    "df_res = pd.DataFrame()\n",
    "df_test_dropped = df_test.drop(['win'], axis=1)\n",
    "df_res['ID'] = df_test_dropped['ID']\n",
    "df_res['win'] = pd.Series(model.predict(df_test_dropped))\n",
    "print(df_test_dropped.index)\n",
    "df_res.head(10)\n",
    "print(df_res)\n",
    "np.count_nonzero(df_res['win']==df_test['win'])"
   ]
  },
  {
   "cell_type": "markdown",
   "metadata": {},
   "source": [
    "### Export"
   ]
  },
  {
   "cell_type": "code",
   "execution_count": 80,
   "metadata": {},
   "outputs": [],
   "source": [
    "export_file_name = result_folder + \"simple_dt.csv\"\n",
    "df_res.to_csv(export_file_name, index=False)"
   ]
  },
  {
   "cell_type": "markdown",
   "metadata": {},
   "source": [
    "Scaled vs Unscaled\n",
    "-------------"
   ]
  },
  {
   "cell_type": "code",
   "execution_count": 7,
   "metadata": {},
   "outputs": [
    {
     "name": "stdout",
     "output_type": "stream",
     "text": [
      "Nearest Centroid Unscaled 0.5027200505416898\n",
      "Nearest Centroid Scaled 0.5966864587034829\n",
      "Linear SVM Unscaled 0.4954236775379002\n",
      "Linear SVM Scaled 0.5992876768447539\n",
      "Decision Tree Unscaled 0.5239610468737222\n",
      "Decision Tree Scaled 0.5239178724760456\n",
      "Naive Bayes Unscaled 0.5575930790245216\n",
      "Naive Bayes Scaled 0.5575930790245216\n"
     ]
    }
   ],
   "source": [
    "from sklearn import preprocessing\n",
    "from sklearn.svm import SVC\n",
    "from sklearn.tree import DecisionTreeClassifier\n",
    "from sklearn.naive_bayes import GaussianNB\n",
    "from sklearn.neighbors.nearest_centroid import NearestCentroid\n",
    "from sklearn.svm import LinearSVC\n",
    "\n",
    "df_vars_all = df_train.loc[:, df_train.columns != 'win']\n",
    "df_vars=df_vars_all\n",
    "#df_vars = df_vars_all.drop('win', axis=1)\n",
    "df_vars_scaled = preprocessing.scale(df_vars)\n",
    "df_class = df_train['win']\n",
    "\n",
    "names = [\"Nearest Centroid\", \"Linear SVM\",\n",
    "         \"Decision Tree\", \"Naive Bayes\"]\n",
    "\n",
    "classifiers = [\n",
    "    NearestCentroid(),\n",
    "    LinearSVC(),\n",
    "    DecisionTreeClassifier(),\n",
    "    GaussianNB()]\n",
    "\n",
    "for name, clf in zip(names, classifiers):\n",
    "    np.random.seed(32143421)\n",
    "    scores = cross_validate(clf, df_vars, df_class, cv=5)['test_score']\n",
    "    print(name, \"Unscaled\", scores.mean())\n",
    "    np.random.seed(32143421)\n",
    "    scores = cross_validate(clf, df_vars_scaled, df_class, cv=5)['test_score']\n",
    "    print(name, \"Scaled\", scores.mean())"
   ]
  },
  {
   "cell_type": "code",
   "execution_count": 21,
   "metadata": {},
   "outputs": [
    {
     "ename": "TypeError",
     "evalue": "__init__() got an unexpected keyword argument 'weight'",
     "output_type": "error",
     "traceback": [
      "\u001b[1;31m---------------------------------------------------------------------------\u001b[0m",
      "\u001b[1;31mTypeError\u001b[0m                                 Traceback (most recent call last)",
      "\u001b[1;32m<ipython-input-21-6bbd145dde16>\u001b[0m in \u001b[0;36m<module>\u001b[1;34m()\u001b[0m\n\u001b[0;32m     20\u001b[0m \u001b[1;33m\u001b[0m\u001b[0m\n\u001b[0;32m     21\u001b[0m classifiers = [\n\u001b[1;32m---> 22\u001b[1;33m     NearestCentroid(metric=\"wminkovski\",weight=2)]\n\u001b[0m\u001b[0;32m     23\u001b[0m     \u001b[1;31m#NearestCentroid(metric=\"seuclidean\"),\u001b[0m\u001b[1;33m\u001b[0m\u001b[1;33m\u001b[0m\u001b[0m\n\u001b[0;32m     24\u001b[0m    \u001b[1;31m#NearestCentroid(metric=\"wminkowski\")]\u001b[0m\u001b[1;33m\u001b[0m\u001b[1;33m\u001b[0m\u001b[0m\n",
      "\u001b[1;31mTypeError\u001b[0m: __init__() got an unexpected keyword argument 'weight'"
     ]
    }
   ],
   "source": [
    "from sklearn import preprocessing\n",
    "from sklearn.svm import SVC\n",
    "from sklearn.tree import DecisionTreeClassifier\n",
    "from sklearn.naive_bayes import GaussianNB\n",
    "from sklearn.neighbors.nearest_centroid import NearestCentroid\n",
    "from sklearn.svm import LinearSVC\n",
    "from sklearn.preprocessing import MinMaxScaler\n",
    "\n",
    "df_vars_all = df_train.loc[:, df_train.columns != 'win']\n",
    "df_vars=df_vars_all\n",
    "#df_vars = df_vars_all.drop('win', axis=1)\n",
    "scaler = MinMaxScaler()\n",
    "scaler.fit(df_vars)\n",
    "df_vars_scaled=scaler.transform(df_vars)\n",
    "\n",
    "#df_vars_scaled = preprocessing.scale(df_vars)\n",
    "df_class = df_train['win']\n",
    "\n",
    "names = [\"wminkowski\"]\n",
    "\n",
    "classifiers = [\n",
    "    NearestCentroid(metric=\"wminkovski\",weight=2)]\n",
    "    #NearestCentroid(metric=\"seuclidean\"),\n",
    "   #NearestCentroid(metric=\"wminkowski\")]\n",
    "\n",
    "for name, clf in zip(names, classifiers):\n",
    "    np.random.seed(32143421)\n",
    "    scores = cross_validate(clf, df_vars, df_class, cv=5)['test_score']\n",
    "    print(name, \"Unscaled\", scores.mean())\n",
    "    np.random.seed(32143421)\n",
    "    scores = cross_validate(clf, df_vars_scaled, df_class, cv=5)['test_score']\n",
    "    print(name, \"Scaled\", scores.mean())"
   ]
  },
  {
   "cell_type": "markdown",
   "metadata": {},
   "source": [
    "Easy Comparison\n",
    "---------------------------"
   ]
  },
  {
   "cell_type": "code",
   "execution_count": 62,
   "metadata": {
    "scrolled": false
   },
   "outputs": [
    {
     "name": "stderr",
     "output_type": "stream",
     "text": [
      "C:\\Users\\Mathias\\Anaconda3\\lib\\site-packages\\sklearn\\preprocessing\\data.py:323: DataConversionWarning:\n",
      "\n",
      "Data with input dtype int64 were all converted to float64 by MinMaxScaler.\n",
      "\n"
     ]
    },
    {
     "name": "stdout",
     "output_type": "stream",
     "text": [
      "------------------------------------------------------------\n",
      "Feature count= ALL\n",
      "Nearest Centroid -- Training Set -- Mean Accuracy 0.5780668013938768\n",
      "Nearest Centroid -- Test Set -- Mean Accuracy 0.5766001851839964\n",
      "Nearest Centroid -- Training Set -- Mean Precision 0.577811749051963\n",
      "Nearest Centroid -- Test Set -- Mean Precision 0.5763636930276439\n",
      "Nearest Centroid -- Training Set -- Mean Recall 0.5780234626614618\n",
      "Nearest Centroid -- Test Set -- Mean Recall 0.5765609620475524\n",
      "Linear SVM -- Training Set -- Mean Accuracy 0.6008850543086481\n",
      "Linear SVM -- Test Set -- Mean Accuracy 0.5988560938688592\n",
      "Linear SVM -- Training Set -- Mean Precision 0.5992813354615303\n",
      "Linear SVM -- Test Set -- Mean Precision 0.5972021292636256\n",
      "Linear SVM -- Training Set -- Mean Recall 0.5965266078376579\n",
      "Linear SVM -- Test Set -- Mean Recall 0.5944960730266056\n",
      "Decision Tree -- Training Set -- Mean Accuracy 1.0\n",
      "Decision Tree -- Test Set -- Mean Accuracy 0.5215758266001639\n",
      "Decision Tree -- Training Set -- Mean Precision 1.0\n",
      "Decision Tree -- Test Set -- Mean Precision 0.5201869522276475\n",
      "Decision Tree -- Training Set -- Mean Recall 1.0\n",
      "Decision Tree -- Test Set -- Mean Recall 0.5201814622475938\n",
      "Naive Bayes -- Training Set -- Mean Accuracy 0.5716819605560629\n",
      "Naive Bayes -- Test Set -- Mean Accuracy 0.5600432795353387\n",
      "Naive Bayes -- Training Set -- Mean Precision 0.5697438664094975\n",
      "Naive Bayes -- Test Set -- Mean Precision 0.5579887020697869\n",
      "Naive Bayes -- Training Set -- Mean Recall 0.5692153836811169\n",
      "Naive Bayes -- Test Set -- Mean Recall 0.5575577035835526\n"
     ]
    }
   ],
   "source": [
    "import traceback\n",
    "from sklearn.svm import SVC\n",
    "from sklearn.tree import DecisionTreeClassifier\n",
    "from sklearn.naive_bayes import GaussianNB\n",
    "from sklearn.neighbors.nearest_centroid import NearestCentroid\n",
    "from sklearn.datasets import load_iris\n",
    "from sklearn.feature_selection import SelectKBest\n",
    "from sklearn.feature_selection import chi2\n",
    "from sklearn.feature_selection import f_classif\n",
    "from sklearn.svm import LinearSVC\n",
    "from sklearn.preprocessing import MinMaxScaler\n",
    "from sklearn.model_selection import cross_validate\n",
    "\n",
    "\n",
    "#df_vars = df_vars_all.drop('win', axis=1)\n",
    "\n",
    "\n",
    "df_vars_all = df_train.loc[:, df_train.columns != 'win']\n",
    "#df_vars = df_vars_all.drop('win', axis=1)\n",
    "#df_vars_scaled = preprocessing.scale(df_vars)\n",
    "scaler = MinMaxScaler()\n",
    "scaler.fit(df_vars_all)\n",
    "df_vars_all=scaler.transform(df_vars_all)\n",
    "df_class = df_train['win']\n",
    "#X, y = df_vars,df_class\n",
    "#Adjust k attributes here\n",
    "#X_new = SelectKBest(chi2, k=80).fit_transform(X, y)\n",
    "#df_vars=X_new\n",
    "\n",
    "\n",
    "#X_train, X_test, y_train, y_test = train_test_split(df_vars_all, df_class, test_size=test_set_ratio, random_state=0)\n",
    "\n",
    "names = [\"Nearest Centroid\", \"Linear SVM\",\n",
    "         \"Decision Tree\", \"Naive Bayes\"]\n",
    "scoring = {'acc': 'accuracy',\n",
    "           'prec': 'precision_macro',\n",
    "           'rec': 'recall_macro'}\n",
    "classifiers = [\n",
    "    NearestCentroid(metric=\"euclidean\"),\n",
    "    LinearSVC(dual=False),\n",
    "    DecisionTreeClassifier(),\n",
    "    GaussianNB()]\n",
    "\n",
    "\n",
    "cl_scores = {}\n",
    "for name in names:\n",
    "    cl_scores[name] = []\n",
    "    \n",
    "for feature_count in [0]:\n",
    "    if feature_count != 0:\n",
    "        df_vars = SelectKBest(chi2, k=feature_count).fit_transform(df_vars_all, df_class)\n",
    "    else:\n",
    "        df_vars = df_vars_all\n",
    "    print(\"-\"*60)\n",
    "    print(\"Feature count=\", feature_count if feature_count > 0 else \"ALL\")\n",
    "    for name, clf in zip(names, classifiers):\n",
    "        try:\n",
    "            np.random.seed(32143421)\n",
    "            scores = cross_validate(clf, df_vars, df_class, cv=10, scoring=scoring,return_train_score=True)\n",
    "            cl_scores[name].append(scores)\n",
    "            print(name,\"-- Training Set --\", \"Mean Accuracy\", scores['train_acc'].mean())\n",
    "            print(name,\"-- Test Set --\", \"Mean Accuracy\", scores['test_acc'].mean())\n",
    "            print(name,\"-- Training Set --\", \"Mean Precision\", scores['train_prec'].mean())\n",
    "            print(name,\"-- Test Set --\", \"Mean Precision\", scores['test_prec'].mean())\n",
    "            print(name,\"-- Training Set --\", \"Mean Recall\", scores['train_rec'].mean())\n",
    "            print(name,\"-- Test Set --\", \"Mean Recall\", scores['test_rec'].mean())\n",
    "            \n",
    "        \n",
    "        except:\n",
    "            print(\"Classification failed for\", name)\n",
    "            traceback.print_exc()"
   ]
  },
  {
   "cell_type": "code",
   "execution_count": 59,
   "metadata": {},
   "outputs": [
    {
     "name": "stderr",
     "output_type": "stream",
     "text": [
      "C:\\Users\\Mathias\\Anaconda3\\lib\\site-packages\\sklearn\\preprocessing\\data.py:323: DataConversionWarning:\n",
      "\n",
      "Data with input dtype int64 were all converted to float64 by MinMaxScaler.\n",
      "\n"
     ]
    },
    {
     "name": "stdout",
     "output_type": "stream",
     "text": [
      "dict_keys(['fit_time', 'score_time', 'test_score', 'train_score'])\n",
      "Classification failed for Nearest Centroid\n"
     ]
    },
    {
     "name": "stderr",
     "output_type": "stream",
     "text": [
      "Traceback (most recent call last):\n",
      "  File \"<ipython-input-59-35ce4ec1f33c>\", line 50, in <module>\n",
      "    print(scores['test_acc'])\n",
      "KeyError: 'test_acc'\n"
     ]
    },
    {
     "name": "stdout",
     "output_type": "stream",
     "text": [
      "dict_keys(['fit_time', 'score_time', 'test_score', 'train_score'])\n",
      "Classification failed for Linear SVM\n"
     ]
    },
    {
     "name": "stderr",
     "output_type": "stream",
     "text": [
      "Traceback (most recent call last):\n",
      "  File \"<ipython-input-59-35ce4ec1f33c>\", line 50, in <module>\n",
      "    print(scores['test_acc'])\n",
      "KeyError: 'test_acc'\n"
     ]
    },
    {
     "name": "stdout",
     "output_type": "stream",
     "text": [
      "dict_keys(['fit_time', 'score_time', 'test_score', 'train_score'])\n",
      "Classification failed for Decision Tree\n"
     ]
    },
    {
     "name": "stderr",
     "output_type": "stream",
     "text": [
      "Traceback (most recent call last):\n",
      "  File \"<ipython-input-59-35ce4ec1f33c>\", line 50, in <module>\n",
      "    print(scores['test_acc'])\n",
      "KeyError: 'test_acc'\n"
     ]
    },
    {
     "name": "stdout",
     "output_type": "stream",
     "text": [
      "dict_keys(['fit_time', 'score_time', 'test_score', 'train_score'])\n",
      "Classification failed for Naive Bayes\n"
     ]
    },
    {
     "name": "stderr",
     "output_type": "stream",
     "text": [
      "Traceback (most recent call last):\n",
      "  File \"<ipython-input-59-35ce4ec1f33c>\", line 50, in <module>\n",
      "    print(scores['test_acc'])\n",
      "KeyError: 'test_acc'\n"
     ]
    }
   ],
   "source": [
    "import traceback\n",
    "from sklearn.svm import SVC\n",
    "from sklearn.tree import DecisionTreeClassifier\n",
    "from sklearn.naive_bayes import GaussianNB\n",
    "from sklearn.neighbors.nearest_centroid import NearestCentroid\n",
    "from sklearn.datasets import load_iris\n",
    "from sklearn.feature_selection import SelectKBest\n",
    "from sklearn.feature_selection import chi2\n",
    "from sklearn.feature_selection import f_classif\n",
    "from sklearn.svm import LinearSVC\n",
    "from sklearn.preprocessing import MinMaxScaler\n",
    "\n",
    "\n",
    "#df_vars = df_vars_all.drop('win', axis=1)\n",
    "\n",
    "\n",
    "df_vars_all = df_train.loc[:, df_train.columns != 'win']\n",
    "#df_vars = df_vars_all.drop('win', axis=1)\n",
    "#df_vars_scaled = preprocessing.scale(df_vars)\n",
    "scaler = MinMaxScaler()\n",
    "scaler.fit(df_vars_all)\n",
    "df_vars_all=scaler.transform(df_vars_all)\n",
    "df_class = df_train['win']\n",
    "#X, y = df_vars,df_class\n",
    "#Adjust k attributes here\n",
    "#X_new = SelectKBest(chi2, k=80).fit_transform(X, y)\n",
    "#df_vars=X_new\n",
    "\n",
    "\n",
    "#X_train, X_test, y_train, y_test = train_test_split(df_vars_all, df_class, test_size=test_set_ratio, random_state=0)\n",
    "\n",
    "names = [\"Nearest Centroid\", \"Linear SVM\",\n",
    "         \"Decision Tree\", \"Naive Bayes\"]\n",
    "\n",
    "classifiers = [\n",
    "    NearestCentroid(metric=\"euclidean\"),\n",
    "    LinearSVC(dual=False),\n",
    "    DecisionTreeClassifier(),\n",
    "    GaussianNB()]\n",
    "\n",
    "\n",
    "cl_scores = {}\n",
    "\n",
    "for name, clf in zip(names, classifiers):\n",
    "    try:\n",
    "        np.random.seed(32143421)\n",
    "        scores = cross_validate(clf, df_vars_all, df_class, cv=10, scoring='accuracy', return_train_score=True)\n",
    "        cl_scores[name] = scores\n",
    "        print(scores.keys())\n",
    "        print(scores['test_acc']) \n",
    "        print(name,\"-- Training Set --\", \"Mean\", scores['train_score'].mean(), \"-- Min\", scores['train_score'].min(), \"-- Max\", scores['train_score'].max())\n",
    "        print(name,\"-- Test Set --\", \"Mean\", scores['test_score'].mean(), \"-- Min\", scores['test_score'].min(), \"-- Max\", scores['test_score'].max())\n",
    "    except:\n",
    "        print(\"Classification failed for\", name)\n",
    "        traceback.print_exc()\n",
    "        \n",
    "        \n"
   ]
  },
  {
   "cell_type": "code",
   "execution_count": 20,
   "metadata": {},
   "outputs": [
    {
     "ename": "ValueError",
     "evalue": "\n    Invalid value of type 'pandas.core.frame.DataFrame' received for the 'data' property of \n        Received value:           classifier name     score  x\n0   Nearest Centroid  ALL  0.575545  0\n1   Nearest Centroid  ALL  0.577056  0\n2   Nearest Centroid  ALL  0.572693  0\n3   Nearest Centroid  ALL  0.572369  0\n4   Nearest Centroid  ALL  0.573125  0\n5   Nearest Centroid  ALL  0.573448  0\n6   Nearest Centroid  ALL  0.586185  0\n7   Nearest Centroid  ALL  0.575823  0\n8   Nearest Centroid  ALL  0.576965  0\n9   Nearest Centroid  ALL  0.582794  0\n10        Linear SVM  ALL  0.596158  0\n11        Linear SVM  ALL  0.596913  0\n12        Linear SVM  ALL  0.603238  0\n13        Linear SVM  ALL  0.595467  0\n14        Linear SVM  ALL  0.591905  0\n15        Linear SVM  ALL  0.597410  0\n16        Linear SVM  ALL  0.602698  0\n17        Linear SVM  ALL  0.594603  0\n18        Linear SVM  ALL  0.606973  0\n19        Linear SVM  ALL  0.603195  0\n20     Decision Tree  ALL  0.522664  0\n21     Decision Tree  ALL  0.526765  0\n22     Decision Tree  ALL  0.516028  0\n23     Decision Tree  ALL  0.521964  0\n24     Decision Tree  ALL  0.517431  0\n25     Decision Tree  ALL  0.517539  0\n26     Decision Tree  ALL  0.523583  0\n27     Decision Tree  ALL  0.520022  0\n28     Decision Tree  ALL  0.521481  0\n29     Decision Tree  ALL  0.528282  0\n30       Naive Bayes  ALL  0.555472  0\n31       Naive Bayes  ALL  0.564861  0\n32       Naive Bayes  ALL  0.565030  0\n33       Naive Bayes  ALL  0.559849  0\n34       Naive Bayes  ALL  0.553049  0\n35       Naive Bayes  ALL  0.551106  0\n36       Naive Bayes  ALL  0.568484  0\n37       Naive Bayes  ALL  0.552402  0\n38       Naive Bayes  ALL  0.558830  0\n39       Naive Bayes  ALL  0.571351  0\n\n    The 'data' property is a tuple of trace instances\n    that may be specified as:\n      - A list or tuple of trace instances\n        (e.g. [Scatter(...), Bar(...)])\n      - A list or tuple of dicts of string/value properties where:\n        - The 'type' property specifies the trace type\n            One of: ['area', 'bar', 'barpolar', 'box',\n                     'candlestick', 'carpet', 'choropleth', 'cone',\n                     'contour', 'contourcarpet', 'heatmap',\n                     'heatmapgl', 'histogram', 'histogram2d',\n                     'histogram2dcontour', 'mesh3d', 'ohlc',\n                     'parcats', 'parcoords', 'pie', 'pointcloud',\n                     'sankey', 'scatter', 'scatter3d',\n                     'scattercarpet', 'scattergeo', 'scattergl',\n                     'scattermapbox', 'scatterpolar',\n                     'scatterpolargl', 'scatterternary', 'splom',\n                     'streamtube', 'surface', 'table', 'violin']\n\n        - All remaining properties are passed to the constructor of\n          the specified trace type\n\n        (e.g. [{'type': 'scatter', ...}, {'type': 'bar, ...}])",
     "output_type": "error",
     "traceback": [
      "\u001b[1;31m---------------------------------------------------------------------------\u001b[0m",
      "\u001b[1;31mValueError\u001b[0m                                Traceback (most recent call last)",
      "\u001b[1;32m<ipython-input-20-80a6887671fe>\u001b[0m in \u001b[0;36m<module>\u001b[1;34m()\u001b[0m\n\u001b[0;32m     11\u001b[0m \u001b[0mdf_trace\u001b[0m \u001b[1;33m=\u001b[0m \u001b[0mpd\u001b[0m\u001b[1;33m.\u001b[0m\u001b[0mDataFrame\u001b[0m\u001b[1;33m.\u001b[0m\u001b[0mfrom_dict\u001b[0m\u001b[1;33m(\u001b[0m\u001b[0mtrace\u001b[0m\u001b[1;33m)\u001b[0m\u001b[1;33m\u001b[0m\u001b[0m\n\u001b[0;32m     12\u001b[0m \u001b[0mlayout\u001b[0m \u001b[1;33m=\u001b[0m \u001b[0mgo\u001b[0m\u001b[1;33m.\u001b[0m\u001b[0mLayout\u001b[0m\u001b[1;33m(\u001b[0m\u001b[0mtitle\u001b[0m\u001b[1;33m=\u001b[0m\u001b[1;34m\"Dota2 results - Boxplot\"\u001b[0m\u001b[1;33m)\u001b[0m\u001b[1;33m\u001b[0m\u001b[0m\n\u001b[1;32m---> 13\u001b[1;33m \u001b[0mpy\u001b[0m\u001b[1;33m.\u001b[0m\u001b[0miplot\u001b[0m\u001b[1;33m(\u001b[0m\u001b[0mgo\u001b[0m\u001b[1;33m.\u001b[0m\u001b[0mFigure\u001b[0m\u001b[1;33m(\u001b[0m\u001b[0mdata\u001b[0m\u001b[1;33m=\u001b[0m\u001b[0mdf_trace\u001b[0m\u001b[1;33m,\u001b[0m \u001b[0mlayout\u001b[0m\u001b[1;33m=\u001b[0m\u001b[0mlayout\u001b[0m\u001b[1;33m)\u001b[0m\u001b[1;33m)\u001b[0m\u001b[1;33m\u001b[0m\u001b[0m\n\u001b[0m\u001b[0;32m     14\u001b[0m \u001b[1;31m#py.show()\u001b[0m\u001b[1;33m\u001b[0m\u001b[1;33m\u001b[0m\u001b[0m\n",
      "\u001b[1;32m~\\Anaconda3\\lib\\site-packages\\plotly\\graph_objs\\_figure.py\u001b[0m in \u001b[0;36m__init__\u001b[1;34m(self, data, layout, frames, skip_invalid)\u001b[0m\n\u001b[0;32m    409\u001b[0m             \u001b[1;32mis\u001b[0m \u001b[0minvalid\u001b[0m \u001b[0mAND\u001b[0m \u001b[0mskip_invalid\u001b[0m \u001b[1;32mis\u001b[0m \u001b[1;32mFalse\u001b[0m\u001b[1;33m\u001b[0m\u001b[0m\n\u001b[0;32m    410\u001b[0m         \"\"\"\n\u001b[1;32m--> 411\u001b[1;33m         \u001b[0msuper\u001b[0m\u001b[1;33m(\u001b[0m\u001b[0mFigure\u001b[0m\u001b[1;33m,\u001b[0m \u001b[0mself\u001b[0m\u001b[1;33m)\u001b[0m\u001b[1;33m.\u001b[0m\u001b[0m__init__\u001b[0m\u001b[1;33m(\u001b[0m\u001b[0mdata\u001b[0m\u001b[1;33m,\u001b[0m \u001b[0mlayout\u001b[0m\u001b[1;33m,\u001b[0m \u001b[0mframes\u001b[0m\u001b[1;33m,\u001b[0m \u001b[0mskip_invalid\u001b[0m\u001b[1;33m)\u001b[0m\u001b[1;33m\u001b[0m\u001b[0m\n\u001b[0m\u001b[0;32m    412\u001b[0m \u001b[1;33m\u001b[0m\u001b[0m\n\u001b[0;32m    413\u001b[0m     def add_area(\n",
      "\u001b[1;32m~\\Anaconda3\\lib\\site-packages\\plotly\\basedatatypes.py\u001b[0m in \u001b[0;36m__init__\u001b[1;34m(self, data, layout_plotly, frames, skip_invalid)\u001b[0m\n\u001b[0;32m    139\u001b[0m         \u001b[1;31m# ### Import traces ###\u001b[0m\u001b[1;33m\u001b[0m\u001b[1;33m\u001b[0m\u001b[0m\n\u001b[0;32m    140\u001b[0m         data = self._data_validator.validate_coerce(data,\n\u001b[1;32m--> 141\u001b[1;33m                                                     skip_invalid=skip_invalid)\n\u001b[0m\u001b[0;32m    142\u001b[0m \u001b[1;33m\u001b[0m\u001b[0m\n\u001b[0;32m    143\u001b[0m         \u001b[1;31m# ### Save tuple of trace objects ###\u001b[0m\u001b[1;33m\u001b[0m\u001b[1;33m\u001b[0m\u001b[0m\n",
      "\u001b[1;32m~\\Anaconda3\\lib\\site-packages\\_plotly_utils\\basevalidators.py\u001b[0m in \u001b[0;36mvalidate_coerce\u001b[1;34m(self, v, skip_invalid)\u001b[0m\n\u001b[0;32m   2305\u001b[0m                 \u001b[0mv\u001b[0m \u001b[1;33m=\u001b[0m \u001b[1;33m[\u001b[0m\u001b[1;33m]\u001b[0m\u001b[1;33m\u001b[0m\u001b[0m\n\u001b[0;32m   2306\u001b[0m             \u001b[1;32melse\u001b[0m\u001b[1;33m:\u001b[0m\u001b[1;33m\u001b[0m\u001b[0m\n\u001b[1;32m-> 2307\u001b[1;33m                 \u001b[0mself\u001b[0m\u001b[1;33m.\u001b[0m\u001b[0mraise_invalid_val\u001b[0m\u001b[1;33m(\u001b[0m\u001b[0mv\u001b[0m\u001b[1;33m)\u001b[0m\u001b[1;33m\u001b[0m\u001b[0m\n\u001b[0m\u001b[0;32m   2308\u001b[0m \u001b[1;33m\u001b[0m\u001b[0m\n\u001b[0;32m   2309\u001b[0m         \u001b[1;32mreturn\u001b[0m \u001b[0mv\u001b[0m\u001b[1;33m\u001b[0m\u001b[0m\n",
      "\u001b[1;32m~\\Anaconda3\\lib\\site-packages\\_plotly_utils\\basevalidators.py\u001b[0m in \u001b[0;36mraise_invalid_val\u001b[1;34m(self, v, inds)\u001b[0m\n\u001b[0;32m    252\u001b[0m             \u001b[0mtyp\u001b[0m\u001b[1;33m=\u001b[0m\u001b[0mtype_str\u001b[0m\u001b[1;33m(\u001b[0m\u001b[0mv\u001b[0m\u001b[1;33m)\u001b[0m\u001b[1;33m,\u001b[0m\u001b[1;33m\u001b[0m\u001b[0m\n\u001b[0;32m    253\u001b[0m             \u001b[0mv\u001b[0m\u001b[1;33m=\u001b[0m\u001b[0mrepr\u001b[0m\u001b[1;33m(\u001b[0m\u001b[0mv\u001b[0m\u001b[1;33m)\u001b[0m\u001b[1;33m,\u001b[0m\u001b[1;33m\u001b[0m\u001b[0m\n\u001b[1;32m--> 254\u001b[1;33m             valid_clr_desc=self.description()))\n\u001b[0m\u001b[0;32m    255\u001b[0m \u001b[1;33m\u001b[0m\u001b[0m\n\u001b[0;32m    256\u001b[0m     \u001b[1;32mdef\u001b[0m \u001b[0mraise_invalid_elements\u001b[0m\u001b[1;33m(\u001b[0m\u001b[0mself\u001b[0m\u001b[1;33m,\u001b[0m \u001b[0minvalid_els\u001b[0m\u001b[1;33m)\u001b[0m\u001b[1;33m:\u001b[0m\u001b[1;33m\u001b[0m\u001b[0m\n",
      "\u001b[1;31mValueError\u001b[0m: \n    Invalid value of type 'pandas.core.frame.DataFrame' received for the 'data' property of \n        Received value:           classifier name     score  x\n0   Nearest Centroid  ALL  0.575545  0\n1   Nearest Centroid  ALL  0.577056  0\n2   Nearest Centroid  ALL  0.572693  0\n3   Nearest Centroid  ALL  0.572369  0\n4   Nearest Centroid  ALL  0.573125  0\n5   Nearest Centroid  ALL  0.573448  0\n6   Nearest Centroid  ALL  0.586185  0\n7   Nearest Centroid  ALL  0.575823  0\n8   Nearest Centroid  ALL  0.576965  0\n9   Nearest Centroid  ALL  0.582794  0\n10        Linear SVM  ALL  0.596158  0\n11        Linear SVM  ALL  0.596913  0\n12        Linear SVM  ALL  0.603238  0\n13        Linear SVM  ALL  0.595467  0\n14        Linear SVM  ALL  0.591905  0\n15        Linear SVM  ALL  0.597410  0\n16        Linear SVM  ALL  0.602698  0\n17        Linear SVM  ALL  0.594603  0\n18        Linear SVM  ALL  0.606973  0\n19        Linear SVM  ALL  0.603195  0\n20     Decision Tree  ALL  0.522664  0\n21     Decision Tree  ALL  0.526765  0\n22     Decision Tree  ALL  0.516028  0\n23     Decision Tree  ALL  0.521964  0\n24     Decision Tree  ALL  0.517431  0\n25     Decision Tree  ALL  0.517539  0\n26     Decision Tree  ALL  0.523583  0\n27     Decision Tree  ALL  0.520022  0\n28     Decision Tree  ALL  0.521481  0\n29     Decision Tree  ALL  0.528282  0\n30       Naive Bayes  ALL  0.555472  0\n31       Naive Bayes  ALL  0.564861  0\n32       Naive Bayes  ALL  0.565030  0\n33       Naive Bayes  ALL  0.559849  0\n34       Naive Bayes  ALL  0.553049  0\n35       Naive Bayes  ALL  0.551106  0\n36       Naive Bayes  ALL  0.568484  0\n37       Naive Bayes  ALL  0.552402  0\n38       Naive Bayes  ALL  0.558830  0\n39       Naive Bayes  ALL  0.571351  0\n\n    The 'data' property is a tuple of trace instances\n    that may be specified as:\n      - A list or tuple of trace instances\n        (e.g. [Scatter(...), Bar(...)])\n      - A list or tuple of dicts of string/value properties where:\n        - The 'type' property specifies the trace type\n            One of: ['area', 'bar', 'barpolar', 'box',\n                     'candlestick', 'carpet', 'choropleth', 'cone',\n                     'contour', 'contourcarpet', 'heatmap',\n                     'heatmapgl', 'histogram', 'histogram2d',\n                     'histogram2dcontour', 'mesh3d', 'ohlc',\n                     'parcats', 'parcoords', 'pie', 'pointcloud',\n                     'sankey', 'scatter', 'scatter3d',\n                     'scattercarpet', 'scattergeo', 'scattergl',\n                     'scattermapbox', 'scatterpolar',\n                     'scatterpolargl', 'scatterternary', 'splom',\n                     'streamtube', 'surface', 'table', 'violin']\n\n        - All remaining properties are passed to the constructor of\n          the specified trace type\n\n        (e.g. [{'type': 'scatter', ...}, {'type': 'bar, ...}])"
     ]
    }
   ],
   "source": [
    "import plotly.graph_objs as go\n",
    "import plotly.offline as py\n",
    "trace = []\n",
    "names = [\"Nearest Centroid\", \"Linear SVM\",\n",
    "         \"Decision Tree\", \"Naive Bayes\"]\n",
    "feature_counts = [\"ALL\"]#, \"All\"]\n",
    "for idx, feature_count in enumerate(feature_counts):\n",
    "    for cl in names:\n",
    "        for score in cl_scores[cl][idx]['test_score']:\n",
    "            trace.append({'score': score, 'x':idx, 'name':feature_count , 'classifier':cl})\n",
    "df_trace = pd.DataFrame.from_dict(trace)\n",
    "layout = go.Layout(title=\"Dota2 results - Boxplot\")\n",
    "py.iplot(go.Figure(data=df_trace, layout=layout))\n",
    "#py.show()\n"
   ]
  },
  {
   "cell_type": "code",
   "execution_count": 49,
   "metadata": {},
   "outputs": [
    {
     "data": {
      "application/vnd.plotly.v1+json": {
       "config": {
        "linkText": "Export to plot.ly",
        "plotlyServerURL": "https://plot.ly",
        "showLink": true
       },
       "data": [
        {
         "boxpoints": "all",
         "name": "Nearest Centroid",
         "type": "box",
         "uid": "8ea6b90a-7912-4507-af77-f7255776f36e",
         "y": [
          0.575545003237643,
          0.5770559033023959,
          0.5726929303831625,
          0.572369131138694,
          0.5731246627091203,
          0.5734484619535888,
          0.5861845655693471,
          0.5758229897463573,
          0.5769645941278065,
          0.582793609671848
         ]
        },
        {
         "boxpoints": "all",
         "name": "Linear SVM",
         "type": "box",
         "uid": "24e39c65-6f48-4851-89e8-c68c428cb020",
         "y": [
          0.5961579969781998,
          0.5969134470105762,
          0.6032379924446843,
          0.595466810577442,
          0.5919050188882893,
          0.5974096060442525,
          0.6026983270372369,
          0.5946033459255262,
          0.6069732297063903,
          0.603195164075993
         ]
        },
        {
         "boxpoints": "all",
         "name": "Decision Tree",
         "type": "box",
         "uid": "d74cbba9-92ba-46bd-a9a4-9b04ccbca215",
         "y": [
          0.5226635009712929,
          0.5267645154327649,
          0.5160280626011873,
          0.5219643820831085,
          0.5174311926605505,
          0.51753912574204,
          0.5235833783054507,
          0.5200215866162979,
          0.5214810017271158,
          0.5282815198618307
         ]
        },
        {
         "boxpoints": "all",
         "name": "Naive Bayes",
         "type": "box",
         "uid": "858df389-4210-4fef-9c8a-1f34c968784c",
         "y": [
          0.5554716166630693,
          0.5648607813511763,
          0.5650296815974096,
          0.5598488936859147,
          0.5530491095520778,
          0.5511063140852671,
          0.5684835402050729,
          0.5524015110631408,
          0.5588298791018999,
          0.5713514680483592
         ]
        }
       ],
       "layout": {
        "title": "Accuracy on Test Set (Dota 2 Match Results)"
       }
      },
      "text/html": [
       "<div id=\"fd6a14c1-f453-41ce-a0e6-129579b28cdb\" style=\"height: 525px; width: 100%;\" class=\"plotly-graph-div\"></div><script type=\"text/javascript\">require([\"plotly\"], function(Plotly) { window.PLOTLYENV=window.PLOTLYENV || {};window.PLOTLYENV.BASE_URL=\"https://plot.ly\";Plotly.newPlot(\"fd6a14c1-f453-41ce-a0e6-129579b28cdb\", [{\"boxpoints\": \"all\", \"name\": \"Nearest Centroid\", \"y\": [0.575545003237643, 0.5770559033023959, 0.5726929303831625, 0.572369131138694, 0.5731246627091203, 0.5734484619535888, 0.5861845655693471, 0.5758229897463573, 0.5769645941278065, 0.582793609671848], \"type\": \"box\", \"uid\": \"8ea6b90a-7912-4507-af77-f7255776f36e\"}, {\"boxpoints\": \"all\", \"name\": \"Linear SVM\", \"y\": [0.5961579969781998, 0.5969134470105762, 0.6032379924446843, 0.595466810577442, 0.5919050188882893, 0.5974096060442525, 0.6026983270372369, 0.5946033459255262, 0.6069732297063903, 0.603195164075993], \"type\": \"box\", \"uid\": \"24e39c65-6f48-4851-89e8-c68c428cb020\"}, {\"boxpoints\": \"all\", \"name\": \"Decision Tree\", \"y\": [0.5226635009712929, 0.5267645154327649, 0.5160280626011873, 0.5219643820831085, 0.5174311926605505, 0.51753912574204, 0.5235833783054507, 0.5200215866162979, 0.5214810017271158, 0.5282815198618307], \"type\": \"box\", \"uid\": \"d74cbba9-92ba-46bd-a9a4-9b04ccbca215\"}, {\"boxpoints\": \"all\", \"name\": \"Naive Bayes\", \"y\": [0.5554716166630693, 0.5648607813511763, 0.5650296815974096, 0.5598488936859147, 0.5530491095520778, 0.5511063140852671, 0.5684835402050729, 0.5524015110631408, 0.5588298791018999, 0.5713514680483592], \"type\": \"box\", \"uid\": \"858df389-4210-4fef-9c8a-1f34c968784c\"}], {\"title\": \"Accuracy on Test Set (Dota 2 Match Results)\"}, {\"showLink\": true, \"linkText\": \"Export to plot.ly\", \"plotlyServerURL\": \"https://plot.ly\"})});</script><script type=\"text/javascript\">window.addEventListener(\"resize\", function(){window._Plotly.Plots.resize(document.getElementById(\"fd6a14c1-f453-41ce-a0e6-129579b28cdb\"));});</script>"
      ],
      "text/vnd.plotly.v1+html": [
       "<div id=\"fd6a14c1-f453-41ce-a0e6-129579b28cdb\" style=\"height: 525px; width: 100%;\" class=\"plotly-graph-div\"></div><script type=\"text/javascript\">require([\"plotly\"], function(Plotly) { window.PLOTLYENV=window.PLOTLYENV || {};window.PLOTLYENV.BASE_URL=\"https://plot.ly\";Plotly.newPlot(\"fd6a14c1-f453-41ce-a0e6-129579b28cdb\", [{\"boxpoints\": \"all\", \"name\": \"Nearest Centroid\", \"y\": [0.575545003237643, 0.5770559033023959, 0.5726929303831625, 0.572369131138694, 0.5731246627091203, 0.5734484619535888, 0.5861845655693471, 0.5758229897463573, 0.5769645941278065, 0.582793609671848], \"type\": \"box\", \"uid\": \"8ea6b90a-7912-4507-af77-f7255776f36e\"}, {\"boxpoints\": \"all\", \"name\": \"Linear SVM\", \"y\": [0.5961579969781998, 0.5969134470105762, 0.6032379924446843, 0.595466810577442, 0.5919050188882893, 0.5974096060442525, 0.6026983270372369, 0.5946033459255262, 0.6069732297063903, 0.603195164075993], \"type\": \"box\", \"uid\": \"24e39c65-6f48-4851-89e8-c68c428cb020\"}, {\"boxpoints\": \"all\", \"name\": \"Decision Tree\", \"y\": [0.5226635009712929, 0.5267645154327649, 0.5160280626011873, 0.5219643820831085, 0.5174311926605505, 0.51753912574204, 0.5235833783054507, 0.5200215866162979, 0.5214810017271158, 0.5282815198618307], \"type\": \"box\", \"uid\": \"d74cbba9-92ba-46bd-a9a4-9b04ccbca215\"}, {\"boxpoints\": \"all\", \"name\": \"Naive Bayes\", \"y\": [0.5554716166630693, 0.5648607813511763, 0.5650296815974096, 0.5598488936859147, 0.5530491095520778, 0.5511063140852671, 0.5684835402050729, 0.5524015110631408, 0.5588298791018999, 0.5713514680483592], \"type\": \"box\", \"uid\": \"858df389-4210-4fef-9c8a-1f34c968784c\"}], {\"title\": \"Accuracy on Test Set (Dota 2 Match Results)\"}, {\"showLink\": true, \"linkText\": \"Export to plot.ly\", \"plotlyServerURL\": \"https://plot.ly\"})});</script><script type=\"text/javascript\">window.addEventListener(\"resize\", function(){window._Plotly.Plots.resize(document.getElementById(\"fd6a14c1-f453-41ce-a0e6-129579b28cdb\"));});</script>"
      ]
     },
     "metadata": {},
     "output_type": "display_data"
    }
   ],
   "source": [
    "import plotly.io as pio\n",
    "traces = []\n",
    "for clf_name in names:\n",
    "    traces.append(go.Box(\n",
    "        y=cl_scores[clf_name]['test_score'],\n",
    "        boxpoints='all',\n",
    "        name=clf_name\n",
    "    ))\n",
    "    \n",
    "layout = go.Layout(title=\"Accuracy on Test Set (Dota 2 Match Results)\")\n",
    "    \n",
    "fig=go.Figure(data=traces, layout=layout)\n",
    "\n",
    "py.iplot(fig)\n",
    "pio.write_image(fig, 'fig1.pdf')"
   ]
  },
  {
   "cell_type": "code",
   "execution_count": 10,
   "metadata": {},
   "outputs": [
    {
     "name": "stderr",
     "output_type": "stream",
     "text": [
      "C:\\Users\\Mathias\\Anaconda3\\lib\\site-packages\\scipy\\stats\\stats.py:1713: FutureWarning: Using a non-tuple sequence for multidimensional indexing is deprecated; use `arr[tuple(seq)]` instead of `arr[seq]`. In the future this will be interpreted as an array index, `arr[np.array(seq)]`, which will result either in an error or a different result.\n",
      "  return np.add.reduce(sorted[indexer] * weights, axis=axis) / sumval\n"
     ]
    },
    {
     "data": {
      "image/png": "[encoded data removed]",
      "text/plain": [
       "<Figure size 480.875x360 with 1 Axes>"
      ]
     },
     "metadata": {
      "needs_background": "light"
     },
     "output_type": "display_data"
    }
   ],
   "source": [
    "import seaborn as sns\n",
    "import matplotlib.pyplot as plt\n",
    "g = sns.relplot(x=\"x\", y=\"score\", kind=\"line\", hue=\"classifier\", style=\"classifier\", data=df_trace)\n",
    "plt.xticks(range(len(feature_counts)), feature_counts, rotation='vertical')\n",
    "plt.xlabel(\"Feature counts\")\n",
    "plt.title(\"10-fold CV Accuracy scores by Feature count\")\n",
    "axes = plt.gca()\n",
    "axes.set_ylim([0.5,0.61])\n",
    "axes.set_xlim([0,len(feature_counts)])\n",
    "plt.savefig('feature_cnt_eval_dota2.pdf')\n",
    "plt.show()"
   ]
  },
  {
   "cell_type": "markdown",
   "metadata": {},
   "source": [
    "Neat hyperparameter evaluation\n",
    "----------"
   ]
  },
  {
   "cell_type": "code",
   "execution_count": 16,
   "metadata": {},
   "outputs": [
    {
     "name": "stdout",
     "output_type": "stream",
     "text": [
      "0 --- 1e-05\n",
      "[0.59726944 0.60007555 0.59368591 0.59679421 0.60478169]\n",
      "1 --- 0.0001\n",
      "[0.59683773 0.60099293 0.59487318 0.597172   0.6054833 ]\n",
      "2 --- 0.001\n",
      "[0.59678377 0.60077708 0.59476525 0.59781963 0.60510551]\n",
      "3 --- 0.01\n",
      "[0.59694566 0.60072311 0.59465731 0.5977117  0.60483566]\n",
      "4 --- 0.1\n",
      "[0.59699962 0.60072311 0.59465731 0.5977117  0.6049436 ]\n",
      "5 --- 1\n",
      "[0.59624413 0.60039933 0.59535888 0.59614658 0.60737223]\n",
      "6 --- 10\n",
      "[0.53925854 0.52085694 0.53588775 0.5254466  0.5545901 ]\n",
      "7 --- 100\n",
      "[0.52290756 0.52377098 0.53437669 0.52663393 0.5203195 ]\n",
      "8 --- 1000\n",
      "[0.52431061 0.52101883 0.53453859 0.53143721 0.53402774]\n"
     ]
    },
    {
     "name": "stderr",
     "output_type": "stream",
     "text": [
      "C:\\Users\\Mathias\\Anaconda3\\lib\\site-packages\\scipy\\stats\\stats.py:1713: FutureWarning: Using a non-tuple sequence for multidimensional indexing is deprecated; use `arr[tuple(seq)]` instead of `arr[seq]`. In the future this will be interpreted as an array index, `arr[np.array(seq)]`, which will result either in an error or a different result.\n",
      "  return np.add.reduce(sorted[indexer] * weights, axis=axis) / sumval\n"
     ]
    },
    {
     "data": {
      "image/png": "[encoded data removed]",
      "text/plain": [
       "<Figure size 360x360 with 1 Axes>"
      ]
     },
     "metadata": {
      "needs_background": "light"
     },
     "output_type": "display_data"
    }
   ],
   "source": [
    "import seaborn as sns\n",
    "import matplotlib.pyplot as plt\n",
    "from sklearn import preprocessing\n",
    "from sklearn.svm import LinearSVC\n",
    "\n",
    "df_vars_all = df_train.loc[:, df_train.columns != 'win']\n",
    "df_vars = df_vars_all\n",
    "df_vars = preprocessing.scale(df_vars)\n",
    "df_class = df_train['win']\n",
    "\n",
    "C = [0.00001, 0.0001, 0.001, 0.01, 0.1, 1, 10, 100, 1000]\n",
    "results = []\n",
    "for idx, c in enumerate(C):\n",
    "    print(idx, \"---\", c)\n",
    "    clf = LinearSVC(C=c)\n",
    "    scores = cross_validate(clf, df_vars, df_class, cv=5)['test_score']\n",
    "    print(scores)\n",
    "    for score in scores:\n",
    "        results.append({'score': score, 'x':idx, 'penalty':c})\n",
    "\n",
    "df_trace = pd.DataFrame.from_dict(results)\n",
    "g = sns.relplot(x=\"x\", y=\"score\", kind=\"line\", data=df_trace)\n",
    "plt.xticks(range(len(C)), C, rotation='vertical')\n",
    "plt.xlabel(\"Penalty parameter C\")\n",
    "plt.title(\"5-fold CV Accuracy scores by Penalty parameter C\")\n",
    "axes = plt.gca()\n",
    "axes.set_ylim([0.0,0.65])\n",
    "axes.set_xlim([0,len(C)])\n",
    "plt.savefig('scaled_amz_C_eval.pdf')\n",
    "plt.show()"
   ]
  }
 ],
 "metadata": {
  "kernelspec": {
   "display_name": "Python 3",
   "language": "python",
   "name": "python3"
  },
  "language_info": {
   "codemirror_mode": {
    "name": "ipython",
    "version": 3
   },
   "file_extension": ".py",
   "mimetype": "text/x-python",
   "name": "python",
   "nbconvert_exporter": "python",
   "pygments_lexer": "ipython3",
   "version": "3.7.0"
  }
 },
 "nbformat": 4,
 "nbformat_minor": 2
}
