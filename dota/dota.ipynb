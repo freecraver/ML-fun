{
 "cells": [
  {
   "cell_type": "code",
   "execution_count": 1,
   "metadata": {},
   "outputs": [
    {
     "name": "stderr",
     "output_type": "stream",
     "text": [
      "C:\\Users\\Mathias\\Anaconda3\\lib\\site-packages\\sklearn\\ensemble\\weight_boosting.py:29: DeprecationWarning: numpy.core.umath_tests is an internal NumPy module and should not be imported. It will be removed in a future NumPy release.\n",
      "  from numpy.core.umath_tests import inner1d\n"
     ]
    },
    {
     "data": {
      "text/html": [
       "<script type=\"text/javascript\">window.PlotlyConfig = {MathJaxConfig: 'local'};</script><script type=\"text/javascript\">if (window.MathJax) {MathJax.Hub.Config({SVG: {font: \"STIX-Web\"}});}</script><script>requirejs.config({paths: { 'plotly': ['https://cdn.plot.ly/plotly-latest.min']},});if(!window._Plotly) {require(['plotly'],function(plotly) {window._Plotly=plotly;});}</script>"
      ],
      "text/vnd.plotly.v1+html": [
       "<script type=\"text/javascript\">window.PlotlyConfig = {MathJaxConfig: 'local'};</script><script type=\"text/javascript\">if (window.MathJax) {MathJax.Hub.Config({SVG: {font: \"STIX-Web\"}});}</script><script>requirejs.config({paths: { 'plotly': ['https://cdn.plot.ly/plotly-latest.min']},});if(!window._Plotly) {require(['plotly'],function(plotly) {window._Plotly=plotly;});}</script>"
      ]
     },
     "metadata": {},
     "output_type": "display_data"
    }
   ],
   "source": [
    "import pandas as pd\n",
    "import numpy as np\n",
    "from sklearn.tree import DecisionTreeClassifier\n",
    "from sklearn.model_selection import train_test_split, cross_validate\n",
    "import matplotlib as mpl\n",
    "import matplotlib.pyplot as plt\n",
    "from sklearn.svm import SVC\n",
    "from sklearn.ensemble import RandomForestClassifier\n",
    "from sklearn.neural_network import MLPClassifier\n",
    "\n",
    "import plotly.offline as py\n",
    "from plotly.offline import download_plotlyjs, init_notebook_mode\n",
    "import plotly.graph_objs as go\n",
    "\n",
    "init_notebook_mode(connected=True)\n",
    "\n",
    "\n",
    "train_path = \"res/dota2Train.csv\"\n",
    "test_path = \"res/dota2Test.csv\"\n",
    "result_folder = \"results/\"\n",
    "\n",
    "test_set_ratio = 0.1 \n",
    "\n",
    "   "
   ]
  },
  {
   "cell_type": "markdown",
   "metadata": {},
   "source": [
    "Preprocessing\n",
    "--------------"
   ]
  },
  {
   "cell_type": "code",
   "execution_count": 2,
   "metadata": {},
   "outputs": [
    {
     "data": {
      "text/html": [
       "<div>\n",
       "<style scoped>\n",
       "    .dataframe tbody tr th:only-of-type {\n",
       "        vertical-align: middle;\n",
       "    }\n",
       "\n",
       "    .dataframe tbody tr th {\n",
       "        vertical-align: top;\n",
       "    }\n",
       "\n",
       "    .dataframe thead th {\n",
       "        text-align: right;\n",
       "    }\n",
       "</style>\n",
       "<table border=\"1\" class=\"dataframe\">\n",
       "  <thead>\n",
       "    <tr style=\"text-align: right;\">\n",
       "      <th></th>\n",
       "      <th>win</th>\n",
       "      <th>cid</th>\n",
       "      <th>gmode</th>\n",
       "      <th>gtype</th>\n",
       "      <th>1</th>\n",
       "      <th>2</th>\n",
       "      <th>3</th>\n",
       "      <th>4</th>\n",
       "      <th>5</th>\n",
       "      <th>6</th>\n",
       "      <th>...</th>\n",
       "      <th>104</th>\n",
       "      <th>105</th>\n",
       "      <th>106</th>\n",
       "      <th>107</th>\n",
       "      <th>108</th>\n",
       "      <th>109</th>\n",
       "      <th>110</th>\n",
       "      <th>111</th>\n",
       "      <th>112</th>\n",
       "      <th>113</th>\n",
       "    </tr>\n",
       "  </thead>\n",
       "  <tbody>\n",
       "    <tr>\n",
       "      <th>0</th>\n",
       "      <td>-1</td>\n",
       "      <td>223</td>\n",
       "      <td>8</td>\n",
       "      <td>2</td>\n",
       "      <td>0</td>\n",
       "      <td>-1</td>\n",
       "      <td>0</td>\n",
       "      <td>0</td>\n",
       "      <td>0</td>\n",
       "      <td>0</td>\n",
       "      <td>...</td>\n",
       "      <td>-1</td>\n",
       "      <td>0</td>\n",
       "      <td>0</td>\n",
       "      <td>0</td>\n",
       "      <td>0</td>\n",
       "      <td>0</td>\n",
       "      <td>0</td>\n",
       "      <td>0</td>\n",
       "      <td>0</td>\n",
       "      <td>0</td>\n",
       "    </tr>\n",
       "    <tr>\n",
       "      <th>1</th>\n",
       "      <td>1</td>\n",
       "      <td>227</td>\n",
       "      <td>8</td>\n",
       "      <td>2</td>\n",
       "      <td>0</td>\n",
       "      <td>0</td>\n",
       "      <td>0</td>\n",
       "      <td>0</td>\n",
       "      <td>0</td>\n",
       "      <td>0</td>\n",
       "      <td>...</td>\n",
       "      <td>-1</td>\n",
       "      <td>0</td>\n",
       "      <td>0</td>\n",
       "      <td>0</td>\n",
       "      <td>0</td>\n",
       "      <td>0</td>\n",
       "      <td>0</td>\n",
       "      <td>0</td>\n",
       "      <td>0</td>\n",
       "      <td>0</td>\n",
       "    </tr>\n",
       "    <tr>\n",
       "      <th>2</th>\n",
       "      <td>-1</td>\n",
       "      <td>136</td>\n",
       "      <td>2</td>\n",
       "      <td>2</td>\n",
       "      <td>1</td>\n",
       "      <td>0</td>\n",
       "      <td>0</td>\n",
       "      <td>0</td>\n",
       "      <td>-1</td>\n",
       "      <td>0</td>\n",
       "      <td>...</td>\n",
       "      <td>0</td>\n",
       "      <td>0</td>\n",
       "      <td>0</td>\n",
       "      <td>0</td>\n",
       "      <td>0</td>\n",
       "      <td>0</td>\n",
       "      <td>0</td>\n",
       "      <td>0</td>\n",
       "      <td>0</td>\n",
       "      <td>0</td>\n",
       "    </tr>\n",
       "    <tr>\n",
       "      <th>3</th>\n",
       "      <td>1</td>\n",
       "      <td>227</td>\n",
       "      <td>2</td>\n",
       "      <td>2</td>\n",
       "      <td>-1</td>\n",
       "      <td>0</td>\n",
       "      <td>0</td>\n",
       "      <td>0</td>\n",
       "      <td>0</td>\n",
       "      <td>0</td>\n",
       "      <td>...</td>\n",
       "      <td>0</td>\n",
       "      <td>0</td>\n",
       "      <td>0</td>\n",
       "      <td>0</td>\n",
       "      <td>0</td>\n",
       "      <td>0</td>\n",
       "      <td>0</td>\n",
       "      <td>0</td>\n",
       "      <td>0</td>\n",
       "      <td>0</td>\n",
       "    </tr>\n",
       "    <tr>\n",
       "      <th>4</th>\n",
       "      <td>1</td>\n",
       "      <td>184</td>\n",
       "      <td>2</td>\n",
       "      <td>3</td>\n",
       "      <td>0</td>\n",
       "      <td>0</td>\n",
       "      <td>0</td>\n",
       "      <td>-1</td>\n",
       "      <td>0</td>\n",
       "      <td>0</td>\n",
       "      <td>...</td>\n",
       "      <td>0</td>\n",
       "      <td>0</td>\n",
       "      <td>0</td>\n",
       "      <td>0</td>\n",
       "      <td>0</td>\n",
       "      <td>0</td>\n",
       "      <td>0</td>\n",
       "      <td>0</td>\n",
       "      <td>0</td>\n",
       "      <td>0</td>\n",
       "    </tr>\n",
       "    <tr>\n",
       "      <th>5</th>\n",
       "      <td>1</td>\n",
       "      <td>231</td>\n",
       "      <td>2</td>\n",
       "      <td>2</td>\n",
       "      <td>0</td>\n",
       "      <td>0</td>\n",
       "      <td>0</td>\n",
       "      <td>0</td>\n",
       "      <td>0</td>\n",
       "      <td>0</td>\n",
       "      <td>...</td>\n",
       "      <td>0</td>\n",
       "      <td>0</td>\n",
       "      <td>0</td>\n",
       "      <td>0</td>\n",
       "      <td>0</td>\n",
       "      <td>0</td>\n",
       "      <td>-1</td>\n",
       "      <td>0</td>\n",
       "      <td>0</td>\n",
       "      <td>0</td>\n",
       "    </tr>\n",
       "    <tr>\n",
       "      <th>6</th>\n",
       "      <td>1</td>\n",
       "      <td>152</td>\n",
       "      <td>2</td>\n",
       "      <td>2</td>\n",
       "      <td>0</td>\n",
       "      <td>0</td>\n",
       "      <td>0</td>\n",
       "      <td>0</td>\n",
       "      <td>0</td>\n",
       "      <td>-1</td>\n",
       "      <td>...</td>\n",
       "      <td>0</td>\n",
       "      <td>1</td>\n",
       "      <td>0</td>\n",
       "      <td>0</td>\n",
       "      <td>0</td>\n",
       "      <td>0</td>\n",
       "      <td>0</td>\n",
       "      <td>0</td>\n",
       "      <td>0</td>\n",
       "      <td>0</td>\n",
       "    </tr>\n",
       "    <tr>\n",
       "      <th>7</th>\n",
       "      <td>-1</td>\n",
       "      <td>153</td>\n",
       "      <td>2</td>\n",
       "      <td>2</td>\n",
       "      <td>1</td>\n",
       "      <td>0</td>\n",
       "      <td>0</td>\n",
       "      <td>0</td>\n",
       "      <td>0</td>\n",
       "      <td>0</td>\n",
       "      <td>...</td>\n",
       "      <td>0</td>\n",
       "      <td>0</td>\n",
       "      <td>0</td>\n",
       "      <td>0</td>\n",
       "      <td>0</td>\n",
       "      <td>0</td>\n",
       "      <td>0</td>\n",
       "      <td>0</td>\n",
       "      <td>0</td>\n",
       "      <td>0</td>\n",
       "    </tr>\n",
       "    <tr>\n",
       "      <th>8</th>\n",
       "      <td>-1</td>\n",
       "      <td>223</td>\n",
       "      <td>8</td>\n",
       "      <td>2</td>\n",
       "      <td>0</td>\n",
       "      <td>0</td>\n",
       "      <td>0</td>\n",
       "      <td>0</td>\n",
       "      <td>0</td>\n",
       "      <td>0</td>\n",
       "      <td>...</td>\n",
       "      <td>0</td>\n",
       "      <td>0</td>\n",
       "      <td>0</td>\n",
       "      <td>0</td>\n",
       "      <td>0</td>\n",
       "      <td>0</td>\n",
       "      <td>0</td>\n",
       "      <td>0</td>\n",
       "      <td>0</td>\n",
       "      <td>0</td>\n",
       "    </tr>\n",
       "    <tr>\n",
       "      <th>9</th>\n",
       "      <td>-1</td>\n",
       "      <td>153</td>\n",
       "      <td>2</td>\n",
       "      <td>2</td>\n",
       "      <td>0</td>\n",
       "      <td>0</td>\n",
       "      <td>0</td>\n",
       "      <td>0</td>\n",
       "      <td>-1</td>\n",
       "      <td>1</td>\n",
       "      <td>...</td>\n",
       "      <td>0</td>\n",
       "      <td>0</td>\n",
       "      <td>0</td>\n",
       "      <td>0</td>\n",
       "      <td>0</td>\n",
       "      <td>0</td>\n",
       "      <td>0</td>\n",
       "      <td>0</td>\n",
       "      <td>0</td>\n",
       "      <td>0</td>\n",
       "    </tr>\n",
       "  </tbody>\n",
       "</table>\n",
       "<p>10 rows × 117 columns</p>\n",
       "</div>"
      ],
      "text/plain": [
       "   win  cid  gmode  gtype  1  2  3  4  5  6 ...   104  105  106  107  108  \\\n",
       "0   -1  223      8      2  0 -1  0  0  0  0 ...    -1    0    0    0    0   \n",
       "1    1  227      8      2  0  0  0  0  0  0 ...    -1    0    0    0    0   \n",
       "2   -1  136      2      2  1  0  0  0 -1  0 ...     0    0    0    0    0   \n",
       "3    1  227      2      2 -1  0  0  0  0  0 ...     0    0    0    0    0   \n",
       "4    1  184      2      3  0  0  0 -1  0  0 ...     0    0    0    0    0   \n",
       "5    1  231      2      2  0  0  0  0  0  0 ...     0    0    0    0    0   \n",
       "6    1  152      2      2  0  0  0  0  0 -1 ...     0    1    0    0    0   \n",
       "7   -1  153      2      2  1  0  0  0  0  0 ...     0    0    0    0    0   \n",
       "8   -1  223      8      2  0  0  0  0  0  0 ...     0    0    0    0    0   \n",
       "9   -1  153      2      2  0  0  0  0 -1  1 ...     0    0    0    0    0   \n",
       "\n",
       "   109  110  111  112  113  \n",
       "0    0    0    0    0    0  \n",
       "1    0    0    0    0    0  \n",
       "2    0    0    0    0    0  \n",
       "3    0    0    0    0    0  \n",
       "4    0    0    0    0    0  \n",
       "5    0   -1    0    0    0  \n",
       "6    0    0    0    0    0  \n",
       "7    0    0    0    0    0  \n",
       "8    0    0    0    0    0  \n",
       "9    0    0    0    0    0  \n",
       "\n",
       "[10 rows x 117 columns]"
      ]
     },
     "execution_count": 2,
     "metadata": {},
     "output_type": "execute_result"
    }
   ],
   "source": [
    "df_train = pd.read_csv(train_path)\n",
    "df_test = pd.read_csv(test_path)\n",
    "df_test.head(10)"
   ]
  },
  {
   "cell_type": "markdown",
   "metadata": {},
   "source": [
    "### Initialize Training data"
   ]
  },
  {
   "cell_type": "markdown",
   "metadata": {},
   "source": [
    "### Simple cross validation for well-founded results"
   ]
  },
  {
   "cell_type": "code",
   "execution_count": 7,
   "metadata": {},
   "outputs": [
    {
     "data": {
      "image/png": "[encoded data removed]",
      "text/plain": [
       "<Figure size 432x288 with 1 Axes>"
      ]
     },
     "metadata": {
      "needs_background": "light"
     },
     "output_type": "display_data"
    }
   ],
   "source": [
    "min_samples_splits = [2,3,4,5,7,10,15,20,25]\n",
    "results = []\n",
    "for min_samples_split in min_samples_splits:\n",
    "    clf = DecisionTreeClassifier(min_samples_split=min_samples_split)\n",
    "    scores = cross_validate(clf, df_vars, df_class, cv=5)\n",
    "    results.append(scores['test_score'].mean())\n",
    "    \n",
    "plt.plot(min_samples_splits, results, \"r\", label=\"Test Accuracy\")\n",
    "plt.ylabel(\"accuracy\")\n",
    "plt.xlabel(\"min_samples_split\")\n",
    "plt.title(\"Mean 5-fold cross-validated accuracy\")\n",
    "plt.show()"
   ]
  },
  {
   "cell_type": "markdown",
   "metadata": {},
   "source": [
    "### Model fitting and sample testing"
   ]
  },
  {
   "cell_type": "code",
   "execution_count": 8,
   "metadata": {},
   "outputs": [
    {
     "data": {
      "text/plain": [
       "0.5211009174311927"
      ]
     },
     "execution_count": 8,
     "metadata": {},
     "output_type": "execute_result"
    }
   ],
   "source": [
    "model = clf.fit(X_train, y_train)\n",
    "model.score(X_test, y_test)"
   ]
  },
  {
   "cell_type": "markdown",
   "metadata": {},
   "source": [
    "### Final prediction"
   ]
  },
  {
   "cell_type": "code",
   "execution_count": 10,
   "metadata": {},
   "outputs": [
    {
     "name": "stdout",
     "output_type": "stream",
     "text": [
      "RangeIndex(start=0, stop=10294, step=1)\n",
      "           ID  win\n",
      "0       92650   -1\n",
      "1       92651    1\n",
      "2       92652    1\n",
      "3       92653    1\n",
      "4       92654   -1\n",
      "5       92655   -1\n",
      "6       92656   -1\n",
      "7       92657   -1\n",
      "8       92658    1\n",
      "9       92659   -1\n",
      "10      92660    1\n",
      "11      92661    1\n",
      "12      92662    1\n",
      "13      92663   -1\n",
      "14      92664    1\n",
      "15      92665   -1\n",
      "16      92666    1\n",
      "17      92667   -1\n",
      "18      92668   -1\n",
      "19      92669    1\n",
      "20      92670   -1\n",
      "21      92671    1\n",
      "22      92672    1\n",
      "23      92673    1\n",
      "24      92674   -1\n",
      "25      92675    1\n",
      "26      92676    1\n",
      "27      92677    1\n",
      "28      92678   -1\n",
      "29      92679   -1\n",
      "...       ...  ...\n",
      "10264  102914    1\n",
      "10265  102915    1\n",
      "10266  102916    1\n",
      "10267  102917   -1\n",
      "10268  102918   -1\n",
      "10269  102919   -1\n",
      "10270  102920   -1\n",
      "10271  102921   -1\n",
      "10272  102922   -1\n",
      "10273  102923   -1\n",
      "10274  102924    1\n",
      "10275  102925   -1\n",
      "10276  102926    1\n",
      "10277  102927    1\n",
      "10278  102928    1\n",
      "10279  102929    1\n",
      "10280  102930   -1\n",
      "10281  102931    1\n",
      "10282  102932   -1\n",
      "10283  102933    1\n",
      "10284  102934   -1\n",
      "10285  102935    1\n",
      "10286  102936   -1\n",
      "10287  102937   -1\n",
      "10288  102938    1\n",
      "10289  102939    1\n",
      "10290  102940    1\n",
      "10291  102941    1\n",
      "10292  102942    1\n",
      "10293  102943    1\n",
      "\n",
      "[10294 rows x 2 columns]\n"
     ]
    },
    {
     "data": {
      "text/plain": [
       "5310"
      ]
     },
     "execution_count": 10,
     "metadata": {},
     "output_type": "execute_result"
    }
   ],
   "source": [
    "df_res = pd.DataFrame()\n",
    "df_test_dropped = df_test.drop(['win'], axis=1)\n",
    "df_res['ID'] = df_test_dropped['ID']\n",
    "df_res['win'] = pd.Series(model.predict(df_test_dropped))\n",
    "print(df_test_dropped.index)\n",
    "df_res.head(10)\n",
    "print(df_res)\n",
    "np.count_nonzero(df_res['win']==df_test['win'])"
   ]
  },
  {
   "cell_type": "markdown",
   "metadata": {},
   "source": [
    "### Export"
   ]
  },
  {
   "cell_type": "code",
   "execution_count": 80,
   "metadata": {},
   "outputs": [],
   "source": [
    "export_file_name = result_folder + \"simple_dt.csv\"\n",
    "df_res.to_csv(export_file_name, index=False)"
   ]
  },
  {
   "cell_type": "markdown",
   "metadata": {},
   "source": [
    "Easy Comparison\n",
    "---------------------------"
   ]
  },
  {
   "cell_type": "code",
   "execution_count": 6,
   "metadata": {},
   "outputs": [
    {
     "name": "stdout",
     "output_type": "stream",
     "text": [
      "Nearest Centroid -- Training Set -- Mean 0.5292630586897996 -- Min 0.5277687833543203 -- Max 0.5300657200422143\n",
      "Nearest Centroid -- Test Set -- Mean 0.5264975646399133 -- Min 0.5221802482460874 -- Max 0.5316783594171614\n",
      "Decision Tree -- Training Set -- Mean 0.9711015179494631 -- Min 0.9706182167056425 -- Max 0.9715652883047108\n",
      "Decision Tree -- Test Set -- Mean 0.5190718105240378 -- Min 0.5108472746896924 -- Max 0.5279007015650297\n",
      "Naive Bayes -- Training Set -- Mean 0.5294201599630315 -- Min 0.5287881513461654 -- Max 0.5301553037116987\n",
      "Naive Bayes -- Test Set -- Mean 0.5284404696180282 -- Min 0.5237992444684296 -- Max 0.5342687533729088\n"
     ]
    }
   ],
   "source": [
    "import traceback\n",
    "from sklearn.svm import SVC\n",
    "from sklearn.tree import DecisionTreeClassifier\n",
    "from sklearn.naive_bayes import GaussianNB\n",
    "from sklearn.neighbors.nearest_centroid import NearestCentroid\n",
    "from sklearn.datasets import load_iris\n",
    "from sklearn.feature_selection import SelectKBest\n",
    "from sklearn.feature_selection import chi2\n",
    "from sklearn.feature_selection import f_classif\n",
    "\n",
    "df_vars = df_train.loc[:, df_train.columns != 'win']\n",
    "df_class = df_train['win']\n",
    "# Adjust size here - Terminates in reasonable time for 10.000 elements and k<=40 attributes\n",
    "# Won't terminate for 100.000\n",
    "#df_vars=df_vars.head(5000)\n",
    "#df_class=df_class.head(5000)\n",
    "df_class[df_class<0] = 0\n",
    "df_vars = np.where(df_vars < 0, 2, df_vars)\n",
    "\n",
    "X, y = df_vars,df_class\n",
    "#Adjust k attributes here\n",
    "X_new = SelectKBest(chi2, k=50).fit_transform(X, y)\n",
    "df_vars=X_new\n",
    "X_train, X_test, y_train, y_test = train_test_split(X_new, df_class, test_size=test_set_ratio, random_state=0)\n",
    "\n",
    "names = [\"Nearest Centroid\", #\"Linear SVM\",\n",
    "         \"Decision Tree\", \"Naive Bayes\"]\n",
    "\n",
    "classifiers = [\n",
    "    NearestCentroid(),\n",
    "    #SVC(kernel=\"linear\"),\n",
    "    DecisionTreeClassifier(),\n",
    "    GaussianNB()]\n",
    "\n",
    "cl_scores = {}\n",
    "\n",
    "for name, clf in zip(names, classifiers):\n",
    "    try:\n",
    "        np.random.seed(32143421)\n",
    "        scores = cross_validate(clf, df_vars, df_class, cv=10, scoring='accuracy', return_train_score=True)\n",
    "        cl_scores[name] = scores\n",
    "        print(name,\"-- Training Set --\", \"Mean\", scores['train_score'].mean(), \"-- Min\", scores['train_score'].min(), \"-- Max\", scores['train_score'].max())\n",
    "        print(name,\"-- Test Set --\", \"Mean\", scores['test_score'].mean(), \"-- Min\", scores['test_score'].min(), \"-- Max\", scores['test_score'].max())\n",
    "    except:\n",
    "        print(\"Classification failed for\", name)\n",
    "        traceback.print_exc()"
   ]
  },
  {
   "cell_type": "code",
   "execution_count": 7,
   "metadata": {},
   "outputs": [
    {
     "data": {
      "application/vnd.plotly.v1+json": {
       "config": {
        "linkText": "Export to plot.ly",
        "plotlyServerURL": "https://plot.ly",
        "showLink": true
       },
       "data": [
        {
         "boxpoints": "all",
         "name": "Nearest Centroid",
         "type": "box",
         "uid": "c1482930-bb61-4416-ad73-184a50205e9c",
         "y": [
          0.526440751133175,
          0.5270882797323548,
          0.5316783594171614,
          0.5254182406907717,
          0.5253103076092822,
          0.5221802482460874,
          0.5271451699946034,
          0.5268213707501349,
          0.5260146804835925,
          0.5268782383419689
         ]
        },
        {
         "boxpoints": "all",
         "name": "Decision Tree",
         "type": "box",
         "uid": "d001e47d-82c4-4bfb-ae59-00c1f975c33b",
         "y": [
          0.5151090006475286,
          0.5159723721131017,
          0.5279007015650297,
          0.5219643820831085,
          0.5151645979492715,
          0.5108472746896924,
          0.5247706422018349,
          0.5246627091203454,
          0.5111183074265976,
          0.5232081174438687
         ]
        },
        {
         "boxpoints": "all",
         "name": "Naive Bayes",
         "type": "box",
         "uid": "911197c8-6edf-4533-98d8-3a962779d0d4",
         "y": [
          0.5269803582991582,
          0.5238506367364558,
          0.5290879654614139,
          0.5244468429573664,
          0.5283324338909876,
          0.5332973556395035,
          0.5342687533729088,
          0.5237992444684296,
          0.533786701208981,
          0.5265544041450777
         ]
        }
       ],
       "layout": {
        "title": "Dota2 results - Size 10000 - Kbestattributes=20"
       }
      },
      "text/html": [
       "<div id=\"4fed7ff0-1935-4f08-8888-4c8d49d0801c\" style=\"height: 525px; width: 100%;\" class=\"plotly-graph-div\"></div><script type=\"text/javascript\">require([\"plotly\"], function(Plotly) { window.PLOTLYENV=window.PLOTLYENV || {};window.PLOTLYENV.BASE_URL=\"https://plot.ly\";Plotly.newPlot(\"4fed7ff0-1935-4f08-8888-4c8d49d0801c\", [{\"boxpoints\": \"all\", \"name\": \"Nearest Centroid\", \"y\": [0.526440751133175, 0.5270882797323548, 0.5316783594171614, 0.5254182406907717, 0.5253103076092822, 0.5221802482460874, 0.5271451699946034, 0.5268213707501349, 0.5260146804835925, 0.5268782383419689], \"type\": \"box\", \"uid\": \"c1482930-bb61-4416-ad73-184a50205e9c\"}, {\"boxpoints\": \"all\", \"name\": \"Decision Tree\", \"y\": [0.5151090006475286, 0.5159723721131017, 0.5279007015650297, 0.5219643820831085, 0.5151645979492715, 0.5108472746896924, 0.5247706422018349, 0.5246627091203454, 0.5111183074265976, 0.5232081174438687], \"type\": \"box\", \"uid\": \"d001e47d-82c4-4bfb-ae59-00c1f975c33b\"}, {\"boxpoints\": \"all\", \"name\": \"Naive Bayes\", \"y\": [0.5269803582991582, 0.5238506367364558, 0.5290879654614139, 0.5244468429573664, 0.5283324338909876, 0.5332973556395035, 0.5342687533729088, 0.5237992444684296, 0.533786701208981, 0.5265544041450777], \"type\": \"box\", \"uid\": \"911197c8-6edf-4533-98d8-3a962779d0d4\"}], {\"title\": \"Dota2 results - Size 10000 - Kbestattributes=20\"}, {\"showLink\": true, \"linkText\": \"Export to plot.ly\", \"plotlyServerURL\": \"https://plot.ly\"})});</script><script type=\"text/javascript\">window.addEventListener(\"resize\", function(){window._Plotly.Plots.resize(document.getElementById(\"4fed7ff0-1935-4f08-8888-4c8d49d0801c\"));});</script>"
      ],
      "text/vnd.plotly.v1+html": [
       "<div id=\"4fed7ff0-1935-4f08-8888-4c8d49d0801c\" style=\"height: 525px; width: 100%;\" class=\"plotly-graph-div\"></div><script type=\"text/javascript\">require([\"plotly\"], function(Plotly) { window.PLOTLYENV=window.PLOTLYENV || {};window.PLOTLYENV.BASE_URL=\"https://plot.ly\";Plotly.newPlot(\"4fed7ff0-1935-4f08-8888-4c8d49d0801c\", [{\"boxpoints\": \"all\", \"name\": \"Nearest Centroid\", \"y\": [0.526440751133175, 0.5270882797323548, 0.5316783594171614, 0.5254182406907717, 0.5253103076092822, 0.5221802482460874, 0.5271451699946034, 0.5268213707501349, 0.5260146804835925, 0.5268782383419689], \"type\": \"box\", \"uid\": \"c1482930-bb61-4416-ad73-184a50205e9c\"}, {\"boxpoints\": \"all\", \"name\": \"Decision Tree\", \"y\": [0.5151090006475286, 0.5159723721131017, 0.5279007015650297, 0.5219643820831085, 0.5151645979492715, 0.5108472746896924, 0.5247706422018349, 0.5246627091203454, 0.5111183074265976, 0.5232081174438687], \"type\": \"box\", \"uid\": \"d001e47d-82c4-4bfb-ae59-00c1f975c33b\"}, {\"boxpoints\": \"all\", \"name\": \"Naive Bayes\", \"y\": [0.5269803582991582, 0.5238506367364558, 0.5290879654614139, 0.5244468429573664, 0.5283324338909876, 0.5332973556395035, 0.5342687533729088, 0.5237992444684296, 0.533786701208981, 0.5265544041450777], \"type\": \"box\", \"uid\": \"911197c8-6edf-4533-98d8-3a962779d0d4\"}], {\"title\": \"Dota2 results - Size 10000 - Kbestattributes=20\"}, {\"showLink\": true, \"linkText\": \"Export to plot.ly\", \"plotlyServerURL\": \"https://plot.ly\"})});</script><script type=\"text/javascript\">window.addEventListener(\"resize\", function(){window._Plotly.Plots.resize(document.getElementById(\"4fed7ff0-1935-4f08-8888-4c8d49d0801c\"));});</script>"
      ]
     },
     "metadata": {},
     "output_type": "display_data"
    }
   ],
   "source": [
    "traces = []\n",
    "for clf_name in names:\n",
    "    traces.append(go.Box(\n",
    "        y=cl_scores[clf_name]['test_score'],\n",
    "        boxpoints='all',\n",
    "        name=clf_name\n",
    "    ))\n",
    "    \n",
    "layout = go.Layout(title=\"Dota2 results - Size 10000 - Kbestattributes=20\")\n",
    "    \n",
    "py.iplot(go.Figure(data=traces, layout=layout))"
   ]
  }
 ],
 "metadata": {
  "kernelspec": {
   "display_name": "Python 3",
   "language": "python",
   "name": "python3"
  },
  "language_info": {
   "codemirror_mode": {
    "name": "ipython",
    "version": 3
   },
   "file_extension": ".py",
   "mimetype": "text/x-python",
   "name": "python",
   "nbconvert_exporter": "python",
   "pygments_lexer": "ipython3",
   "version": "3.7.0"
  }
 },
 "nbformat": 4,
 "nbformat_minor": 2
}
