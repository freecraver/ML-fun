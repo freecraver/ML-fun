{
 "cells": [
  {
   "cell_type": "markdown",
   "metadata": {},
   "source": [
    "### Bag of Words"
   ]
  },
  {
   "cell_type": "code",
   "execution_count": 34,
   "metadata": {},
   "outputs": [],
   "source": [
    "import numpy as np\n",
    "from sklearn.model_selection import train_test_split"
   ]
  },
  {
   "cell_type": "markdown",
   "metadata": {},
   "source": [
    "### kmeans.py"
   ]
  },
  {
   "cell_type": "code",
   "execution_count": 35,
   "metadata": {
    "scrolled": true
   },
   "outputs": [
    {
     "name": "stdout",
     "output_type": "stream",
     "text": [
      "[2 0 1 1 0 1 0 2 0 1 2 1 1 0 0 0 0 1 0 2 0 0 1 0 2 2 2 2 0 0 0 2 2 2 0 0 2\n",
      " 0 1 2 1 0 2 1 0 2 0 2 0 1 2 2 2 2 2 2 1 1 2 1 0 2 2 2 2 2 2 2 0 2 0 1 0 0\n",
      " 1 1 1 2 0 0 1 1 2 0 0 0 1 0 0 2 0 0 0 1 1 1 1 2 0 2 0 1 2 2 2 1 2 2 1 1 2\n",
      " 1 2 1 1 2 0 0 1 0 2 1 1 0 0 2 0 0 1 2 1 0 0 2 2 0 2 2 2 0 1 0 0 1 1 2 0 2\n",
      " 2 1 0 2 2 2 1 0 2 0 0 1 1 2 2 1 0 2 0 0 1 0 2 0 1 1 0 2 1 1 1 1 1 1 1 0 0\n",
      " 0 2 1 2 0 1 1 2 2 1 0 2 0 1 2 2 2 0 1 2 2 0 2 1 0 1 0 1 2 1 1 0 1 0 0 0 1\n",
      " 1 1 1 2 0 0 2 2 1 1 1 1 2 2 2 2 2 2 1 1 0 0 1 0 0 2 0 2 2 2 1 0 0 1 1 1 0\n",
      " 0 1 1 2 1 1 1 1 0 0 1 2 1 1 0 1 1 2 0 1 0 1 2 1 2 2 2 1 1 2 2 2 1 2 2 0 2\n",
      " 2 2 0 0 2 2 1 2 2 2 0 1 2 1 0 2 0 0 0 0 2 2 2 2 1 1 1 1 2 1 2 2 1 1 0 1 1\n",
      " 2 1 1 2 1 0 2 0 0 0 0 0 0 2 2 1 1 2 1 2 0 2 1 1 2 2 1 2 2 0 1 2 2 2 1 0 2\n",
      " 2 1 0 0 0 1 1 1 1 2 2 2 2 2 1 1 2 0 2 0 0 2 0 0 0 0 0 2 2 0 1 1 0 1 0 2 1\n",
      " 0 2 0 0 1 1 2 0 1 1 0 2 0 2 0 0 2 0 0 1 0 2 1 1 0 2 0 1 2 2 2 0 2 2 2 2 1\n",
      " 0 0 0 2 0 1 1 1 1 2 2 2 1 2 2 2 0 1 0 0 2 0 1 0 1 2 0 0 0 1 1 2 0 2 2 2 2\n",
      " 1 2 0 0 0 0 2 2 0 0 0 1 1 0 1 2 1 0 0 1 2 0 0 1 1 0 2 0 0 0 1 0 2 0 0 0 2\n",
      " 1 0 0 0 0 1 2 0 2 1 1 1 0 0 2 0 1 2 1 0 0 1 0 0 2 1 1 0 0 2 0 2 1 2 2 1 2\n",
      " 1 1 1 1 1 1 2 1 1 2 2 1 2 0 2 2 0 2 0 0 1 1 2 1 2 0 1 2 1 0 1 0 0 2 1 2 2\n",
      " 0 1 2 2 1 1 2 1 2 0 1 1 2 1 1 2 0 0 2 2 2 0 0 0 1 1 2 0 0 2 2 0 0 1 2 1 1\n",
      " 1 0 2 1 0 0 2 2 2 2 0 0 1 0 1 1 2 1 0 2 1 1 0 1 1 2 1 2 1 1 1 2 0 2 2 1 0\n",
      " 0 1 0 1 0 2 2 2 0 1 2 1 0 2 2 0 0 1 2 2 0 2 1 2 1 2 1 0 1 2 1 1 0 2 0 1 1\n",
      " 0 2 1 0 1 1 2 0 1 0 2 1 1 2 2 1 1 2 0 2 0 0 0 2 2 1 2 2 1 1 1 2 1 0 1 1 2\n",
      " 0 2 2 1 0 2 2 1 1 2 2 1 2 1 0 1 2 1 0 0 1 2 2 0 0 1 1 0 2 2 1 1 1 0 0 0 0\n",
      " 0 2 2 0 2 2 2 1 0 2 2 2 2 0 1 0 1 0 0 0 1 2 1 1 1 1 1 1 1 2 1 2 0 2 0 2 1\n",
      " 2 2 0 1 0 0 2 0 2 0 1 2 2 0 0 2 1 0 1 0 0 1 0 0 0 1 0 0 1 0 1 0 1 2 2 2 0\n",
      " 0 0 0 1 0 1 2 2 1 2 1 0 1 0 1 1 0 2 0 0 2 0 0 0 1 2 1 1 1 1 2 1 0 1 1 0 1\n",
      " 2 2 1 1 2 1 0 2 0 1 1 0 1 0 0 2 2 1 2 0 1 2 0 2 0 2 2 2 1 2 1 0 2 1 2 0 0\n",
      " 0 1 1 0 2 1 1 0 0 2 2 0 2 0 2 0 1 1 0 0 1 2 0 2 1 1 0 0 1 1 0 2 2 0 1 1 2\n",
      " 1 0 1 2 2 0 0 1 0 2 1 0 1 2 1 2 0 1 1 2 0 0 0 0 0 1 2 0 2 2 1 0 1 2 0 0 1\n",
      " 0]\n"
     ]
    },
    {
     "data": {
      "image/png": "[encoded data removed]",
      "text/plain": [
       "<Figure size 432x288 with 2 Axes>"
      ]
     },
     "metadata": {
      "needs_background": "light"
     },
     "output_type": "display_data"
    }
   ],
   "source": [
    "\"\"\"\n",
    "Using SKLearns API for performing Kmeans clustering.\n",
    "Using sklearn.datasets.make_blobs for generating randomized gaussians\n",
    "for clustering.\n",
    "\n",
    "\"\"\"\n",
    "\n",
    "import numpy as np \n",
    "from matplotlib import pyplot as plt \n",
    "from sklearn.cluster import KMeans\n",
    "from sklearn.datasets import make_blobs \n",
    "\n",
    "# create a dataset sample space that will be used\n",
    "# to test KMeans. Use function : make_blobs\n",
    "# \n",
    "\n",
    "n_samples = 1000\n",
    "n_features = 5;\n",
    "n_clusters = 3;\n",
    "\n",
    "# aint this sweet \n",
    "X, y = make_blobs(n_samples, n_features) \n",
    "# X => array of shape [nsamples,nfeatures] ;;; y => array of shape[nsamples]\n",
    "\n",
    "# X : generated samples, y : integer labels for cluster membership of each sample\n",
    "# \n",
    "# \n",
    "\n",
    "# performing KMeans clustering\n",
    "\n",
    "ret =  KMeans(n_clusters = n_clusters).fit_predict(X)\n",
    "print(ret)\n",
    "\n",
    "__, ax = plt.subplots(2)\n",
    "ax[0].scatter(X[:,0], X[:,1])\n",
    "ax[0].set_title(\"Initial Scatter Distribution\")\n",
    "ax[1].scatter(X[:,0], X[:,1], c=ret)\n",
    "ax[1].set_title(\"Colored Partition denoting Clusters\")\n",
    "# plt.scatter\n",
    "plt.show()\n",
    "\n"
   ]
  },
  {
   "cell_type": "markdown",
   "metadata": {},
   "source": [
    "### Bag.py"
   ]
  },
  {
   "cell_type": "code",
   "execution_count": 36,
   "metadata": {},
   "outputs": [],
   "source": [
    "import cv2\n",
    "import numpy as np \n",
    "from glob import glob \n",
    "import argparse\n",
    "#from helpers import *\n",
    "from matplotlib import pyplot as plt \n",
    "\n",
    "\n",
    "class BOV:\n",
    "    def __init__(self, no_clusters):\n",
    "        self.no_clusters = no_clusters\n",
    "        self.train_path = None\n",
    "        self.test_path = None\n",
    "        self.im_helper = ImageHelpers()\n",
    "        self.bov_helper = BOVHelpers(no_clusters)\n",
    "        self.file_helper = FileHelpers()\n",
    "        self.imageCount = 0\n",
    "        self.trainImageCount = 0\n",
    "        self.train_labels = np.array([])\n",
    "        self.name_dict = {}\n",
    "        self.descriptor_list = []\n",
    "        \n",
    "        self.path = None\n",
    "        self.gray = 0\n",
    "        \n",
    "        self.train_images = []\n",
    "        self.train_img_names = []\n",
    "        self.train_cls = []\n",
    "        \n",
    "        self.test_images = []\n",
    "        self.test_img_names = []\n",
    "        self.test_cls = []      \n",
    "\n",
    "        \n",
    "    def dictionaryfy(self):\n",
    "        train_dict = {}\n",
    "        for i, image in enumerate(self.train_images):        \n",
    "            cls = str(self.train_cls[i]).split('_')[0]\n",
    "            if (cls not in train_dict):\n",
    "                train_dict[cls] = []\n",
    "\n",
    "            train_dict[cls].append(image)\n",
    "        self.images = train_dict\n",
    "        \n",
    "        test_dict = {}\n",
    "        for i, image in enumerate(self.test_images):        \n",
    "            cls = str(self.test_cls[i]).split('_')[0]\n",
    "            if (cls not in test_dict):\n",
    "                test_dict[cls] = []\n",
    "\n",
    "            test_dict[cls].append(image)\n",
    "        self.testImages = test_dict\n",
    "        \n",
    "     \n",
    "    def extractFeatures(self):\n",
    "        # extract SIFT Features from each image\n",
    "        print(\"train image count: \", self.trainImageCount)\n",
    "        label_count = 0 \n",
    "        for word, imlist in self.images.items():\n",
    "            self.name_dict[str(label_count)] = word\n",
    "            print(\"Computing Features for \", word)\n",
    "            #print(\"List: \", imlist)\n",
    "            for im in imlist:\n",
    "                # cv2.imshow(\"im\", im)\n",
    "                # cv2.waitKey()\n",
    "                self.train_labels = np.append(self.train_labels, label_count)\n",
    "                #plt.figure()\n",
    "                #plt.imshow(cv2.cvtColor(im, cv2.COLOR_BGR2RGB))\n",
    "                \n",
    "                kp, des = self.im_helper.features(im) #self.im_helper.gray(im)\n",
    "                #featureV = self.im_helper.featuresPL(im)\n",
    "                #print(\"featureV: \", featureV)\n",
    "                #print(\"des: \", des)\n",
    "                \n",
    "                \n",
    "                \n",
    "                self.descriptor_list.append(des)\n",
    "\n",
    "            label_count += 1\n",
    "            \n",
    "        #print(self.descriptor_list)\n",
    "    \n",
    "    def trainModel(self):\n",
    "        \"\"\"\n",
    "        This method contains the entire module \n",
    "        required for training the bag of visual words model\n",
    "\n",
    "        Use of helper functions will be extensive.\n",
    "\n",
    "        \"\"\"\n",
    "        # perform clustering   \n",
    "        bov_descriptor_stack = self.bov_helper.formatND(self.descriptor_list)\n",
    "        print(\"Cluster\")\n",
    "        self.bov_helper.cluster()\n",
    "        self.bov_helper.developVocabulary(n_images = self.trainImageCount, descriptor_list=self.descriptor_list)\n",
    "\n",
    "        # show vocabulary trained\n",
    "        self.bov_helper.plotHist()\n",
    " \n",
    "\n",
    "        self.bov_helper.standardize()\n",
    "        self.runCrossval()\n",
    "        print(\"trainModel DONE.\")\n",
    "\n",
    "    def runCrossval(self):\n",
    "        self.bov_helper.train(self.train_labels)\n",
    "        \n",
    "    def recognize(self,test_img, test_image_path=None):\n",
    "\n",
    "        \"\"\" \n",
    "        This method recognizes a single image \n",
    "        It can be utilized individually as well.\n",
    "\n",
    "\n",
    "        \"\"\"\n",
    "\n",
    "        kp, des = self.im_helper.features(test_img)\n",
    "        #des = self.im_helper.featuresPL(im)\n",
    "        # print kp\n",
    "        print(des.shape)\n",
    "\n",
    "        # generate vocab for test image\n",
    "        vocab = np.array( [[ 0 for i in range(self.no_clusters)]])\n",
    "        # locate nearest clusters for each of \n",
    "        # the visual word (feature) present in the image\n",
    "        \n",
    "        # test_ret =<> return of kmeans nearest clusters for N features\n",
    "        test_ret = self.bov_helper.kmeans_obj.predict(des)\n",
    "        # print test_ret\n",
    "\n",
    "        # print vocab\n",
    "        for each in test_ret:\n",
    "            vocab[0][each] += 1\n",
    "\n",
    "        print(vocab)\n",
    "        # Scale the features\n",
    "        vocab = self.bov_helper.scale.transform(vocab)\n",
    "\n",
    "        # predict the class of the image\n",
    "        lb = self.bov_helper.clf.predict(vocab)\n",
    "        # print \"Image belongs to class : \", self.name_dict[str(int(lb[0]))]\n",
    "        return lb\n",
    "\n",
    "\n",
    "    def getHistogramLabels(self):\n",
    "        return self.bov_helper.getHistogramLabels()\n",
    "        \n",
    "    def testModel(self):\n",
    "        \"\"\" \n",
    "        This method is to test the trained classifier\n",
    "\n",
    "        read all images from testing path \n",
    "        use BOVHelpers.predict() function to obtain classes of each image\n",
    "\n",
    "        \"\"\"\n",
    "        \n",
    "        #self.testImages, self.testImageCount = self.file_helper.getFiles(self.test_path)\n",
    "\n",
    "        predictions = []\n",
    "\n",
    "        for word, imlist in self.testImages.items():\n",
    "            print(\"processing \" ,word)\n",
    "            for im in imlist:\n",
    "                # print imlist[0].shape, imlist[1].shape\n",
    "                print(im.shape)\n",
    "                cl = self.recognize(im)\n",
    "                print(cl)\n",
    "                predictions.append({\n",
    "                    'image':im,\n",
    "                    'class':cl,\n",
    "                    'object_name':self.name_dict[str(int(cl[0]))]\n",
    "                    })\n",
    "\n",
    "        print(predictions)\n",
    "        for each in predictions:\n",
    "            # cv2.imshow(each['object_name'], each['image'])\n",
    "            # cv2.waitKey()\n",
    "            # cv2.destroyWindow(each['object_name'])\n",
    "            # \n",
    "            #if (self.gray):\n",
    "            #    plt.imshow(cv2.cvtColor(each['image'], cv2.COLOR_GRAY2RGB))\n",
    "            #else: \n",
    "            #    plt.imshow(cv2.cvtColor(each['image'], cv2.COLOR_BGR2RGB))\n",
    "            plt.imshow(Image.fromarray(each['image']))\n",
    "            plt.title(each['object_name'])\n",
    "            plt.show()\n",
    "\n",
    "\n",
    "    def print_vars(self):\n",
    "        pass\n",
    "    \n",
    "    def loadFruits(self, path):\n",
    "        self.path = path\n",
    "        \n",
    "        # read file. prepare file lists.\n",
    "        self.train_images, self.train_img_names = self.file_helper.get_fruit_images(self.path)\n",
    "        self.train_cls = [name.split('_')[0] for name in self.train_img_names]\n",
    "        \n",
    "        # train the model\n",
    "        #self.trainModel()\n",
    "        # test model\n",
    "        #self.testModel()\n",
    "    \n",
    "    def trainTestSplit(self):\n",
    "        self.train_images, self.test_images, self.train_cls, self.test_cls = train_test_split(self.train_images, self.train_cls, test_size=0.2, random_state=9253, stratify=self.train_cls)\n",
    "        self.trainImageCount = len(self.train_images)\n",
    "        self.testImageCount = len(self.test_images)\n",
    "    \n",
    "    def loadCars(self, path):\n",
    "        self.path = path\n",
    "        \n",
    "        self.train_images, self.train_img_names = self.file_helper.get_car_images(self.path)\n",
    "        self.train_cls = [0 if name.startswith('neg') else 1 for name in self.train_img_names]\n",
    "        self.trainImageCount = len(self.train_images)\n",
    "        \n",
    "        \n",
    "        self.test_images, self.test_img_names = self.file_helper.get_car_images(self.path, 'TestImages')\n",
    "        self.test_cls = [0 if name.startswith('neg') else 1 for name in self.test_img_names]\n",
    "        self.testImageCount = len(self.test_images)\n",
    "        \n",
    "        # set testing paths\n",
    "        #self.test_path = test_path\n",
    "        # train the model\n",
    "        #self.trainModel()\n",
    "        # test model\n",
    "        #self.testModel()    \n",
    "\n",
    "# if __name__ == '__main__':\n",
    "\n",
    "#     # parse cmd args\n",
    "#     parser = argparse.ArgumentParser(\n",
    "#             description=\" Bag of visual words example\"\n",
    "#         )\n",
    "#     parser.add_argument('--train_path', action=\"store\", dest=\"train_path\", required=True)\n",
    "#     parser.add_argument('--test_path', action=\"store\", dest=\"test_path\", required=True)\n",
    "\n",
    "#     args =  vars(parser.parse_args())\n",
    "#     print(args)\n",
    "\n",
    "    \n",
    "#     bov = BOV(no_clusters=100)\n",
    "\n",
    "#     # set training paths\n",
    "#     bov.train_path = args['train_path'] \n",
    "#     # set testing paths\n",
    "#     bov.test_path = args['test_path'] \n",
    "#     # train the model\n",
    "#     bov.trainModel()\n",
    "#     # test model\n",
    "#     bov.testModel()\n"
   ]
  },
  {
   "cell_type": "markdown",
   "metadata": {},
   "source": [
    "### helper.py"
   ]
  },
  {
   "cell_type": "code",
   "execution_count": 37,
   "metadata": {},
   "outputs": [],
   "source": [
    "import numpy as np \n",
    "\n",
    "from PIL import Image\n",
    "import cv2\n",
    "\n",
    "import requests\n",
    "import zipfile\n",
    "import tarfile\n",
    "import io\n",
    "\n",
    "import os\n",
    "import glob\n",
    "\n",
    "import gc\n",
    "\n",
    "from sklearn.cluster import KMeans\n",
    "from sklearn.svm import SVC\n",
    "from sklearn.preprocessing import StandardScaler\n",
    "from matplotlib import pyplot as plt\n",
    "from sklearn.svm import LinearSVC\n",
    "from sklearn.tree import DecisionTreeClassifier\n",
    "from sklearn.naive_bayes import GaussianNB\n",
    "from sklearn.neighbors.nearest_centroid import NearestCentroid\n",
    "from sklearn.metrics import precision_score\n",
    "from sklearn.metrics import accuracy_score\n",
    "from sklearn.metrics import f1_score\n",
    "from sklearn.model_selection import cross_validate\n",
    "from sklearn.neural_network import MLPClassifier\n",
    "\n",
    "class ImageHelpers:\n",
    "    def __init__(self):\n",
    "        self.sift_object = cv2.xfeatures2d.SIFT_create()\n",
    "\n",
    "    def gray(self, image):\n",
    "        plt.figure()\n",
    "        plt.imshow(image)\n",
    "        gray = cv2.cvtColor(image, cv2.COLOR_BGR2GRAY)\n",
    "        return gray\n",
    "\n",
    "    def colorRGB(self, image):\n",
    "        colorRGB = cv2.cvtColor(image, cv2.COLOR_BGR2RGB)\n",
    "        return colorRGB\n",
    "    \n",
    "    def features(self, image):\n",
    "        keypoints, descriptors = self.sift_object.detectAndCompute(image, None)\n",
    "        return [keypoints, descriptors]\n",
    "    \n",
    "    def featuresPL(self, image):\n",
    "        im = Image.fromarray(image)\n",
    "        featureVector = im.histogram()\n",
    "        return featureVector\n",
    "\n",
    "\n",
    "class BOVHelpers:\n",
    "    def __init__(self, n_clusters = 20):\n",
    "        self.n_clusters = n_clusters\n",
    "        self.kmeans_obj = KMeans(n_clusters = n_clusters)\n",
    "        self.kmeans_ret = None\n",
    "        self.descriptor_vstack = None\n",
    "        self.mega_histogram = None\n",
    "        self.train_labels = None\n",
    "        self.clf  = SVC()    \n",
    "    def getHistogramLabels(self):\n",
    "        return [self.mega_histogram,self.train_labels]\n",
    "    \n",
    "    def cluster(self):\n",
    "        \"\"\"    \n",
    "        cluster using KMeans algorithm, \n",
    "\n",
    "        \"\"\"\n",
    "        self.kmeans_ret = self.kmeans_obj.fit_predict(self.descriptor_vstack)\n",
    "\n",
    "    def developVocabulary(self,n_images, descriptor_list, kmeans_ret = None):\n",
    "        \n",
    "        \"\"\"\n",
    "        Each cluster denotes a particular visual word \n",
    "        Every image can be represeted as a combination of multiple \n",
    "        visual words. The best method is to generate a sparse histogram\n",
    "        that contains the frequency of occurence of each visual word \n",
    "\n",
    "        Thus the vocabulary comprises of a set of histograms of encompassing\n",
    "        all descriptions for all images\n",
    "\n",
    "        \"\"\"\n",
    "\n",
    "        self.mega_histogram = np.array([np.zeros(self.n_clusters) for i in range(n_images)])\n",
    "        old_count = 0\n",
    "        print(\"n_images:\",n_images)\n",
    "        print(\"descriptor_list length:\", len(descriptor_list))\n",
    "        \n",
    "        for i in range(n_images):\n",
    "            #print(i)\n",
    "            l = len(descriptor_list[i])\n",
    "            for j in range(l): \n",
    "                #print(i, j)\n",
    "                if kmeans_ret is None:\n",
    "                    #if (old_count+j==n_images):\n",
    "                    #    print(old_count+j)\n",
    "                    #    break;\n",
    "                    #else: \n",
    "                    idx = self.kmeans_ret[old_count+j]\n",
    "                else:\n",
    "                    idx = kmeans_ret[old_count+j]\n",
    "                #print(\"why are we still here\")\n",
    "                self.mega_histogram[i][idx] += 1\n",
    "            old_count += l\n",
    "        print(\"Vocabulary Histogram Generated\")\n",
    "\n",
    "    def standardize(self, std=None):\n",
    "        \"\"\"\n",
    "        \n",
    "        standardize is required to normalize the distribution\n",
    "        wrt sample size and features. If not normalized, the classifier may become\n",
    "        biased due to steep variances.\n",
    "\n",
    "        \"\"\"\n",
    "        if std is None:\n",
    "            self.scale = StandardScaler().fit(self.mega_histogram)\n",
    "            self.mega_histogram = self.scale.transform(self.mega_histogram)\n",
    "        else:\n",
    "            print(\"STD not none. External STD supplied\")\n",
    "            self.mega_histogram = std.transform(self.mega_histogram)\n",
    "\n",
    "    def formatND(self, l):\n",
    "        \"\"\"    \n",
    "        restructures list into vstack array of shape\n",
    "        M samples x N features for sklearn\n",
    "\n",
    "        \"\"\"\n",
    "        #print(\"l: \")\n",
    "        #print(l)\n",
    "        \n",
    "        vStack = np.array(l[0])\n",
    "        for remaining in l[1:]:\n",
    "            vStack = np.vstack((vStack, remaining))\n",
    "        self.descriptor_vstack = vStack.copy()\n",
    "        return vStack\n",
    "\n",
    "    def train(self, train_labels):\n",
    "        \"\"\"\n",
    "        uses sklearn.svm.SVC classifier (SVM) \n",
    "\n",
    "\n",
    "        \"\"\"\n",
    "        #print(\"Training SVM\")\n",
    "        #print(self.clf)\n",
    "        #print(\"Train labels\", train_labels)\n",
    "        #self.clf.fit(self.mega_histogram, train_labels)\n",
    "        self.train_labels=train_labels\n",
    "        self.clf.fit(self.mega_histogram, train_labels)\n",
    "        names = [\"Nearest Centroid\", \"Linear SVM\",\"Decision Tree\", \"Naive Bayes\",\"MLP\"]\n",
    "        classifiers = [NearestCentroid(metric=\"euclidean\"),LinearSVC(dual=False),DecisionTreeClassifier(),GaussianNB(),MLPClassifier(solver='lbfgs', alpha=1e-5,hidden_layer_sizes=(15,), random_state=1)]\n",
    "        \n",
    "        for name, clf in zip(names, classifiers):\n",
    "            scoring = {'acc': 'accuracy','prec': 'precision_macro','rec': 'recall_macro'}\n",
    "            scores = cross_validate(clf, self.mega_histogram, train_labels, cv=5, scoring=scoring,return_train_score=True)\n",
    "            print(name,\" -- Training Set --\", \"Mean Accuracy\", scores['train_acc'].mean())\n",
    "            print(name,\" -- Test Set --\", \"Mean Accuracy\", scores['test_acc'].mean())\n",
    "            print(name,\" -- Training Set --\", \"Mean Precision\", scores['train_prec'].mean())\n",
    "            print(name,\" -- Test Set --\", \"Mean Precision\", scores['test_prec'].mean())\n",
    "            print(name,\" -- Training Set --\", \"Mean Recall\", scores['train_rec'].mean())\n",
    "            print(name,\" -- Test Set --\", \"Mean Recall\", scores['test_rec'].mean())\n",
    "        print(\"Training completed\")\n",
    "\n",
    "    def predict(self, iplist):\n",
    "        predictions = self.clf.predict(iplist)\n",
    "        return predictions\n",
    "\n",
    "    def plotHist(self, vocabulary = None):\n",
    "        print(\"Plotting histogram\")\n",
    "        if vocabulary is None:\n",
    "            vocabulary = self.mega_histogram\n",
    "\n",
    "        x_scalar = np.arange(self.n_clusters)\n",
    "        y_scalar = np.array([abs(np.sum(vocabulary[:,h], dtype=np.int32)) for h in range(self.n_clusters)])\n",
    "\n",
    "        print(y_scalar)\n",
    "\n",
    "        plt.bar(x_scalar, y_scalar)\n",
    "        plt.xlabel(\"Visual Word Index\")\n",
    "        plt.ylabel(\"Frequency\")\n",
    "        plt.title(\"Complete Vocabulary Generated\")\n",
    "        plt.xticks(x_scalar + 0.4, x_scalar)\n",
    "        plt.show()\n",
    "\n",
    "class FileHelpers:\n",
    "\n",
    "    def __init__(self):\n",
    "        pass\n",
    "    \n",
    "    def resize_images(self,images):\n",
    "        \"\"\"\n",
    "        used to resize all images to the mean height/width\n",
    "        note that this is prone to generating distorted images\n",
    "        better results are expected with methods like pyramid pooling (https://arxiv.org/abs/1406.4729)\n",
    "        \"\"\"\n",
    "        target_size = 200\n",
    "        mean_shape = np.mean([[i.shape[0],i.shape[1]] for i in images], axis=0)\n",
    "        max_v = max(mean_shape[0], mean_shape[1])\n",
    "        # scale by preserving average ratio\n",
    "        target_height = int(target_size * mean_shape[0]/max_v)\n",
    "        target_width = int(target_size * mean_shape[1]/max_v)\n",
    "        for i in range(len(images)):\n",
    "            images[i] = np.array(Image.fromarray(images[i]).resize((target_width, target_height), Image.ANTIALIAS))\n",
    "            print(\"Resized {} fruit images\".format(i), end=\"\\r\")\n",
    "\n",
    "        return images\n",
    "    \n",
    "    def get_car_images(self, car_data_path, folder = 'TrainImages'):\n",
    "        print(car_data_path, folder)\n",
    "        p = os.path.join(car_data_path,folder,'*.pgm')\n",
    "        files = glob.glob(p)\n",
    "        print(\"Found {} car files\".format(len(files)))\n",
    "        images = []\n",
    "        image_names = []\n",
    "\n",
    "        for filename in files:\n",
    "            image_names.append(os.path.basename(filename))\n",
    "            with Image.open(filename) as img:\n",
    "                images.append(np.array(img))\n",
    "\n",
    "        return np.array(images), image_names\n",
    "\n",
    "    def get_fruit_images(self, fruits_data_path):\n",
    "        images = []\n",
    "        image_names = []\n",
    "        cnt=0\n",
    "\n",
    "        for dirpath, dirnames, filenames in os.walk(fruits_data_path):\n",
    "            for filename in [f for f in filenames if f.endswith(\".jpg\")]:\n",
    "                cnt = cnt+1\n",
    "                with Image.open(os.path.join(dirpath,filename)) as img:\n",
    "                    if img.format != \"JPEG\":\n",
    "                        # we only want 3 channels\n",
    "                        img = img.convert(\"RGB\")\n",
    "                    np_img = np.array(img)\n",
    "                    if len(np_img.shape) != 3 or np_img.shape[2] != 3:\n",
    "                        # incorrectly imported/converted RGB file\n",
    "                        continue\n",
    "                    images.append(np_img)\n",
    "                    image_names.append(os.path.split(dirpath)[-1] + \"_\" + filename)\n",
    "                    print(\"Found {} fruit files\".format(len(image_names)), end=\"\\r\")\n",
    "        \n",
    "        \n",
    "        images = np.stack(self.resize_images(images), axis=0)\n",
    "\n",
    "        return images, image_names\n",
    "    \n",
    "    def getFiles(self, path):\n",
    "        \"\"\"\n",
    "        - returns  a dictionary of all files \n",
    "        having key => value as  objectname => image path\n",
    "\n",
    "        - returns total number of files.\n",
    "\n",
    "        \"\"\"\n",
    "        imlist = {}\n",
    "        count = 0\n",
    "        for each in glob(path + \"*\"):\n",
    "            each = each.replace(\"\\\\\", \"/\")\n",
    "            word = each.split(\"/\")[-1]\n",
    "            print(\" #### Reading image category \", word, \" ##### \")\n",
    "            imlist[word] = []\n",
    "            for imagefile in glob(path+word+\"/*\"):\n",
    "                imagefile = imagefile.replace(\"\\\\\", \"/\")\n",
    "                print(\"Reading file \", imagefile)\n",
    "                \n",
    "                \n",
    "                im = Image.open(imagefile)\n",
    "                if (im.format != \"JPEG\"):\n",
    "                    im = im.convert(\"RGB\")\n",
    "                np_im = np.array(im)\n",
    "                if len(np_im.shape) != 3 or np_im.shape[2] != 3:\n",
    "                    # incorrectly imported/converted RGB file\n",
    "                    continue\n",
    "                \n",
    "                #im = cv2.imread(imagefile,1)\n",
    "                \n",
    "                #plt.imshow(im)\n",
    "                imlist[word].append(np_im)\n",
    "                count +=1 \n",
    "\n",
    "        return [imlist, count]\n",
    "\n"
   ]
  },
  {
   "cell_type": "markdown",
   "metadata": {},
   "source": [
    "### Load images"
   ]
  },
  {
   "cell_type": "code",
   "execution_count": 38,
   "metadata": {
    "scrolled": true
   },
   "outputs": [
    {
     "name": "stdout",
     "output_type": "stream",
     "text": [
      "../../../ex3/CarData/ TrainImages\n",
      "Found 0 car files\n",
      "../../../ex3/CarData/ TestImages\n",
      "Found 0 car files\n",
      "Resized 967 fruit images\r"
     ]
    }
   ],
   "source": [
    "cars = BOV(no_clusters=100)\n",
    "cars.loadCars(\"../../../ex3/CarData/\")\n",
    "fruits = BOV(no_clusters=100)\n",
    "fruits.loadFruits(\"../../ex3/FIDS30/\")"
   ]
  },
  {
   "cell_type": "code",
   "execution_count": 39,
   "metadata": {},
   "outputs": [
    {
     "data": {
      "text/plain": [
       "Text(0.5, 1.0, 'Colour Histogram, using PIL')"
      ]
     },
     "execution_count": 39,
     "metadata": {},
     "output_type": "execute_result"
    },
    {
     "data": {
      "image/png": "[encoded data removed]",
      "text/plain": [
       "<Figure size 432x288 with 1 Axes>"
      ]
     },
     "metadata": {
      "needs_background": "light"
     },
     "output_type": "display_data"
    },
    {
     "data": {
      "image/png": "[encoded data removed]",
      "text/plain": [
       "<Figure size 432x288 with 1 Axes>"
      ]
     },
     "metadata": {
      "needs_background": "light"
     },
     "output_type": "display_data"
    }
   ],
   "source": [
    "im = Image.fromarray(fruits.train_images[0])\n",
    "plt.imshow(im)\n",
    "plt.title(fruits.train_img_names[0])\n",
    "\n",
    "featureVector = im.histogram()\n",
    "\n",
    "plt.figure()\n",
    "plt.plot(featureVector[:256], 'r')\n",
    "plt.plot(featureVector[257:512], 'g')\n",
    "plt.plot(featureVector[513:], 'b')\n",
    "plt.xlim([0, 256])\n",
    "plt.xlabel(\"Bins\")\n",
    "plt.ylabel(\"# of Pixels\")\n",
    "plt.title(\"Colour Histogram, using PIL\")"
   ]
  },
  {
   "cell_type": "markdown",
   "metadata": {},
   "source": [
    "### Train/test split"
   ]
  },
  {
   "cell_type": "code",
   "execution_count": 40,
   "metadata": {},
   "outputs": [
    {
     "name": "stdout",
     "output_type": "stream",
     "text": [
      "0 unique classes for cars\n",
      "30 unique classes for fruits\n"
     ]
    }
   ],
   "source": [
    "print(\"{} unique classes for cars\".format(len(set(cars.train_cls))))\n",
    "print(\"{} unique classes for fruits\".format(len(set(fruits.train_cls))))\n",
    "\n",
    "fruits.trainTestSplit()"
   ]
  },
  {
   "cell_type": "code",
   "execution_count": 41,
   "metadata": {
    "scrolled": false
   },
   "outputs": [
    {
     "data": {
      "text/plain": [
       "Text(0.5, 1.0, 'watermelons')"
      ]
     },
     "execution_count": 41,
     "metadata": {},
     "output_type": "execute_result"
    },
    {
     "data": {
      "image/png": "[encoded data removed]",
      "text/plain": [
       "<Figure size 432x288 with 1 Axes>"
      ]
     },
     "metadata": {
      "needs_background": "light"
     },
     "output_type": "display_data"
    }
   ],
   "source": [
    "cars.dictionaryfy()\n",
    "fruits.dictionaryfy()\n",
    "im = Image.fromarray(fruits.images['watermelons'][0])\n",
    "plt.imshow(im)\n",
    "plt.title('watermelons')"
   ]
  },
  {
   "cell_type": "code",
   "execution_count": 42,
   "metadata": {},
   "outputs": [
    {
     "name": "stdout",
     "output_type": "stream",
     "text": [
      "train image count:  0\n",
      "Wall time: 0 ns\n"
     ]
    }
   ],
   "source": [
    "%time cars.extractFeatures()\n",
    "#cars.testModel()"
   ]
  },
  {
   "cell_type": "code",
   "execution_count": 43,
   "metadata": {},
   "outputs": [],
   "source": [
    "#%time cars.trainModel()\n",
    "# perform clustering   \n",
    "#%time bov_descriptor_stack = cars.bov_helper.formatND(cars.descriptor_list)\n",
    "#%time cars.bov_helper.cluster()\n",
    "#%time cars.bov_helper.developVocabulary(n_images = cars.trainImageCount, descriptor_list=cars.descriptor_list)\n",
    "\n",
    "# show vocabulary trained\n",
    "#%time cars.bov_helper.plotHist()\n",
    "\n",
    "\n",
    "#%time cars.bov_helper.standardize()\n",
    "#%time cars.bov_helper.train(cars.train_labels)\n",
    "#print(\"trainModel DONE.\")\n"
   ]
  },
  {
   "cell_type": "code",
   "execution_count": 44,
   "metadata": {},
   "outputs": [],
   "source": [
    "for i,l in enumerate(cars.descriptor_list):\n",
    "    print(i)\n",
    "    if (l is None):\n",
    "        print(i)\n",
    "        print(l)"
   ]
  },
  {
   "cell_type": "code",
   "execution_count": 45,
   "metadata": {
    "scrolled": true
   },
   "outputs": [
    {
     "name": "stdout",
     "output_type": "stream",
     "text": [
      "train image count:  774\n",
      "Computing Features for  pomegranates\n",
      "Computing Features for  mangos\n",
      "Computing Features for  apples\n",
      "Computing Features for  cherries\n",
      "Computing Features for  cantaloupes\n",
      "Computing Features for  olives\n",
      "Computing Features for  grapes\n",
      "Computing Features for  peaches\n",
      "Computing Features for  passionfruit\n",
      "Computing Features for  tomatoes\n",
      "Computing Features for  guava\n",
      "Computing Features for  pineapples\n",
      "Computing Features for  strawberries\n",
      "Computing Features for  oranges\n",
      "Computing Features for  bananas\n",
      "Computing Features for  watermelons\n",
      "Computing Features for  blueberries\n",
      "Computing Features for  avocados\n",
      "Computing Features for  limes\n",
      "Computing Features for  acerolas\n",
      "Computing Features for  grapefruits\n",
      "Computing Features for  coconuts\n",
      "Computing Features for  apricots\n",
      "Computing Features for  raspberries\n",
      "Computing Features for  figs\n",
      "Computing Features for  kiwifruit\n",
      "Computing Features for  blackberries\n",
      "Computing Features for  pears\n",
      "Computing Features for  plums\n",
      "Computing Features for  lemons\n",
      "Wall time: 8.17 s\n"
     ]
    }
   ],
   "source": [
    "%time fruits.extractFeatures()"
   ]
  },
  {
   "cell_type": "code",
   "execution_count": 46,
   "metadata": {},
   "outputs": [
    {
     "name": "stdout",
     "output_type": "stream",
     "text": [
      "Cluster\n",
      "n_images: 774\n",
      "descriptor_list length: 774\n",
      "Vocabulary Histogram Generated\n",
      "Plotting histogram\n",
      "[1395 1278 1484 1071 2450 1486 1268 1578 1204 2793 1820 2041 1390 1789\n",
      " 1277 1403 1383 1550 2319 1922 1121 1843 1693 1249 2239 1714 1970 1464\n",
      " 1855 1204 1731 1421 1323 1293 1438 1591 1349 1559 1328 1370 1995 1459\n",
      " 1706 1438 1566 1387 1546 1363 1410 1674 1568 1621 1401 1807 1832 1458\n",
      " 1374 1502 1460 1016 1467 1459 1585 1744 1651 1320 1705 1180 1648 1388\n",
      " 1589 1287 1459 1360 1275 1388 1296 1294 1450 1525 1345 2306 1472 1486\n",
      " 1207 1502 1619 1403 1150 1572 1582 1313 1194 1621 1292 1484 1509 1612\n",
      " 1719 1087]\n"
     ]
    },
    {
     "data": {
      "image/png": "[encoded data removed]",
      "text/plain": [
       "<Figure size 432x288 with 1 Axes>"
      ]
     },
     "metadata": {
      "needs_background": "light"
     },
     "output_type": "display_data"
    },
    {
     "name": "stderr",
     "output_type": "stream",
     "text": [
      "D:\\Programme\\Anaconda3\\lib\\site-packages\\sklearn\\metrics\\classification.py:1143: UndefinedMetricWarning: Precision is ill-defined and being set to 0.0 in labels with no predicted samples.\n",
      "  'precision', 'predicted', average, warn_for)\n",
      "D:\\Programme\\Anaconda3\\lib\\site-packages\\sklearn\\metrics\\classification.py:1143: UndefinedMetricWarning: Precision is ill-defined and being set to 0.0 in labels with no predicted samples.\n",
      "  'precision', 'predicted', average, warn_for)\n",
      "D:\\Programme\\Anaconda3\\lib\\site-packages\\sklearn\\metrics\\classification.py:1143: UndefinedMetricWarning: Precision is ill-defined and being set to 0.0 in labels with no predicted samples.\n",
      "  'precision', 'predicted', average, warn_for)\n"
     ]
    },
    {
     "name": "stdout",
     "output_type": "stream",
     "text": [
      "Nearest Centroid  -- Training Set -- Mean Accuracy 0.4310179230699437\n",
      "Nearest Centroid  -- Test Set -- Mean Accuracy 0.3018457419827244\n",
      "Nearest Centroid  -- Training Set -- Mean Precision 0.48324478303595475\n",
      "Nearest Centroid  -- Test Set -- Mean Precision 0.3525201397043502\n",
      "Nearest Centroid  -- Training Set -- Mean Recall 0.4325642610964633\n",
      "Nearest Centroid  -- Test Set -- Mean Recall 0.29876190476190473\n",
      "Linear SVM  -- Training Set -- Mean Accuracy 0.9867314014817129\n",
      "Linear SVM  -- Test Set -- Mean Accuracy 0.2613334943250317\n",
      "Linear SVM  -- Training Set -- Mean Precision 0.9885275206735875\n",
      "Linear SVM  -- Test Set -- Mean Precision 0.2769057794057794\n",
      "Linear SVM  -- Training Set -- Mean Recall 0.987118195711662\n",
      "Linear SVM  -- Test Set -- Mean Recall 0.25391269841269837\n",
      "Decision Tree  -- Training Set -- Mean Accuracy 1.0\n",
      "Decision Tree  -- Test Set -- Mean Accuracy 0.18183895442743048\n",
      "Decision Tree  -- Training Set -- Mean Precision 1.0\n",
      "Decision Tree  -- Test Set -- Mean Precision 0.18347816997816996\n",
      "Decision Tree  -- Training Set -- Mean Recall 1.0\n",
      "Decision Tree  -- Test Set -- Mean Recall 0.17396031746031748\n"
     ]
    },
    {
     "name": "stderr",
     "output_type": "stream",
     "text": [
      "D:\\Programme\\Anaconda3\\lib\\site-packages\\sklearn\\metrics\\classification.py:1143: UndefinedMetricWarning: Precision is ill-defined and being set to 0.0 in labels with no predicted samples.\n",
      "  'precision', 'predicted', average, warn_for)\n",
      "D:\\Programme\\Anaconda3\\lib\\site-packages\\sklearn\\metrics\\classification.py:1143: UndefinedMetricWarning: Precision is ill-defined and being set to 0.0 in labels with no predicted samples.\n",
      "  'precision', 'predicted', average, warn_for)\n",
      "D:\\Programme\\Anaconda3\\lib\\site-packages\\sklearn\\metrics\\classification.py:1143: UndefinedMetricWarning: Precision is ill-defined and being set to 0.0 in labels with no predicted samples.\n",
      "  'precision', 'predicted', average, warn_for)\n",
      "D:\\Programme\\Anaconda3\\lib\\site-packages\\sklearn\\metrics\\classification.py:1143: UndefinedMetricWarning: Precision is ill-defined and being set to 0.0 in labels with no predicted samples.\n",
      "  'precision', 'predicted', average, warn_for)\n"
     ]
    },
    {
     "name": "stdout",
     "output_type": "stream",
     "text": [
      "Naive Bayes  -- Training Set -- Mean Accuracy 0.4908604489666598\n",
      "Naive Bayes  -- Test Set -- Mean Accuracy 0.27905738414459275\n",
      "Naive Bayes  -- Training Set -- Mean Precision 0.5563556242469117\n",
      "Naive Bayes  -- Test Set -- Mean Precision 0.27827271866064973\n",
      "Naive Bayes  -- Training Set -- Mean Recall 0.49376183510549365\n",
      "Naive Bayes  -- Test Set -- Mean Recall 0.2702380952380952\n"
     ]
    },
    {
     "name": "stderr",
     "output_type": "stream",
     "text": [
      "D:\\Programme\\Anaconda3\\lib\\site-packages\\sklearn\\metrics\\classification.py:1143: UndefinedMetricWarning: Precision is ill-defined and being set to 0.0 in labels with no predicted samples.\n",
      "  'precision', 'predicted', average, warn_for)\n",
      "D:\\Programme\\Anaconda3\\lib\\site-packages\\sklearn\\metrics\\classification.py:1143: UndefinedMetricWarning: Precision is ill-defined and being set to 0.0 in labels with no predicted samples.\n",
      "  'precision', 'predicted', average, warn_for)\n",
      "D:\\Programme\\Anaconda3\\lib\\site-packages\\sklearn\\metrics\\classification.py:1143: UndefinedMetricWarning: Precision is ill-defined and being set to 0.0 in labels with no predicted samples.\n",
      "  'precision', 'predicted', average, warn_for)\n",
      "D:\\Programme\\Anaconda3\\lib\\site-packages\\sklearn\\metrics\\classification.py:1143: UndefinedMetricWarning: Precision is ill-defined and being set to 0.0 in labels with no predicted samples.\n",
      "  'precision', 'predicted', average, warn_for)\n",
      "D:\\Programme\\Anaconda3\\lib\\site-packages\\sklearn\\metrics\\classification.py:1143: UndefinedMetricWarning: Precision is ill-defined and being set to 0.0 in labels with no predicted samples.\n",
      "  'precision', 'predicted', average, warn_for)\n",
      "D:\\Programme\\Anaconda3\\lib\\site-packages\\sklearn\\metrics\\classification.py:1143: UndefinedMetricWarning: Precision is ill-defined and being set to 0.0 in labels with no predicted samples.\n",
      "  'precision', 'predicted', average, warn_for)\n",
      "D:\\Programme\\Anaconda3\\lib\\site-packages\\sklearn\\metrics\\classification.py:1143: UndefinedMetricWarning: Precision is ill-defined and being set to 0.0 in labels with no predicted samples.\n",
      "  'precision', 'predicted', average, warn_for)\n",
      "D:\\Programme\\Anaconda3\\lib\\site-packages\\sklearn\\metrics\\classification.py:1143: UndefinedMetricWarning: Precision is ill-defined and being set to 0.0 in labels with no predicted samples.\n",
      "  'precision', 'predicted', average, warn_for)\n"
     ]
    },
    {
     "name": "stdout",
     "output_type": "stream",
     "text": [
      "MLP  -- Training Set -- Mean Accuracy 0.17369713514716345\n",
      "MLP  -- Test Set -- Mean Accuracy 0.0818016082466029\n",
      "MLP  -- Training Set -- Mean Precision 0.08887263815158718\n",
      "MLP  -- Test Set -- Mean Precision 0.043841236086850116\n",
      "MLP  -- Training Set -- Mean Recall 0.1456843647915957\n",
      "MLP  -- Test Set -- Mean Recall 0.06896031746031746\n",
      "Training completed\n",
      "trainModel DONE.\n",
      "Wall time: 17min 47s\n"
     ]
    },
    {
     "name": "stderr",
     "output_type": "stream",
     "text": [
      "D:\\Programme\\Anaconda3\\lib\\site-packages\\sklearn\\metrics\\classification.py:1143: UndefinedMetricWarning: Precision is ill-defined and being set to 0.0 in labels with no predicted samples.\n",
      "  'precision', 'predicted', average, warn_for)\n",
      "D:\\Programme\\Anaconda3\\lib\\site-packages\\sklearn\\metrics\\classification.py:1143: UndefinedMetricWarning: Precision is ill-defined and being set to 0.0 in labels with no predicted samples.\n",
      "  'precision', 'predicted', average, warn_for)\n"
     ]
    }
   ],
   "source": [
    "%time fruits.trainModel()"
   ]
  },
  {
   "cell_type": "code",
   "execution_count": 47,
   "metadata": {},
   "outputs": [
    {
     "name": "stderr",
     "output_type": "stream",
     "text": [
      "D:\\Programme\\Anaconda3\\lib\\site-packages\\sklearn\\metrics\\classification.py:1143: UndefinedMetricWarning: Precision is ill-defined and being set to 0.0 in labels with no predicted samples.\n",
      "  'precision', 'predicted', average, warn_for)\n",
      "D:\\Programme\\Anaconda3\\lib\\site-packages\\sklearn\\metrics\\classification.py:1143: UndefinedMetricWarning: Precision is ill-defined and being set to 0.0 in labels with no predicted samples.\n",
      "  'precision', 'predicted', average, warn_for)\n",
      "D:\\Programme\\Anaconda3\\lib\\site-packages\\sklearn\\metrics\\classification.py:1143: UndefinedMetricWarning: Precision is ill-defined and being set to 0.0 in labels with no predicted samples.\n",
      "  'precision', 'predicted', average, warn_for)\n"
     ]
    },
    {
     "name": "stdout",
     "output_type": "stream",
     "text": [
      "Nearest Centroid  -- Training Set -- Mean Accuracy 0.4310179230699437\n",
      "Nearest Centroid  -- Test Set -- Mean Accuracy 0.3018457419827244\n",
      "Nearest Centroid  -- Training Set -- Mean Precision 0.48324478303595475\n",
      "Nearest Centroid  -- Test Set -- Mean Precision 0.3525201397043502\n",
      "Nearest Centroid  -- Training Set -- Mean Recall 0.4325642610964633\n",
      "Nearest Centroid  -- Test Set -- Mean Recall 0.29876190476190473\n",
      "Linear SVM  -- Training Set -- Mean Accuracy 0.9867314014817129\n",
      "Linear SVM  -- Test Set -- Mean Accuracy 0.2613334943250317\n",
      "Linear SVM  -- Training Set -- Mean Precision 0.9885275206735875\n",
      "Linear SVM  -- Test Set -- Mean Precision 0.2769057794057794\n",
      "Linear SVM  -- Training Set -- Mean Recall 0.987118195711662\n",
      "Linear SVM  -- Test Set -- Mean Recall 0.25391269841269837\n",
      "Decision Tree  -- Training Set -- Mean Accuracy 1.0\n",
      "Decision Tree  -- Test Set -- Mean Accuracy 0.1916632480399228\n",
      "Decision Tree  -- Training Set -- Mean Precision 1.0\n",
      "Decision Tree  -- Test Set -- Mean Precision 0.1885747955747956\n",
      "Decision Tree  -- Training Set -- Mean Recall 1.0\n",
      "Decision Tree  -- Test Set -- Mean Recall 0.18141269841269841\n"
     ]
    },
    {
     "name": "stderr",
     "output_type": "stream",
     "text": [
      "D:\\Programme\\Anaconda3\\lib\\site-packages\\sklearn\\metrics\\classification.py:1143: UndefinedMetricWarning: Precision is ill-defined and being set to 0.0 in labels with no predicted samples.\n",
      "  'precision', 'predicted', average, warn_for)\n",
      "D:\\Programme\\Anaconda3\\lib\\site-packages\\sklearn\\metrics\\classification.py:1143: UndefinedMetricWarning: Precision is ill-defined and being set to 0.0 in labels with no predicted samples.\n",
      "  'precision', 'predicted', average, warn_for)\n",
      "D:\\Programme\\Anaconda3\\lib\\site-packages\\sklearn\\metrics\\classification.py:1143: UndefinedMetricWarning: Precision is ill-defined and being set to 0.0 in labels with no predicted samples.\n",
      "  'precision', 'predicted', average, warn_for)\n",
      "D:\\Programme\\Anaconda3\\lib\\site-packages\\sklearn\\metrics\\classification.py:1143: UndefinedMetricWarning: Precision is ill-defined and being set to 0.0 in labels with no predicted samples.\n",
      "  'precision', 'predicted', average, warn_for)\n",
      "D:\\Programme\\Anaconda3\\lib\\site-packages\\sklearn\\metrics\\classification.py:1143: UndefinedMetricWarning: Precision is ill-defined and being set to 0.0 in labels with no predicted samples.\n",
      "  'precision', 'predicted', average, warn_for)\n"
     ]
    },
    {
     "name": "stdout",
     "output_type": "stream",
     "text": [
      "Naive Bayes  -- Training Set -- Mean Accuracy 0.4908604489666598\n",
      "Naive Bayes  -- Test Set -- Mean Accuracy 0.27905738414459275\n",
      "Naive Bayes  -- Training Set -- Mean Precision 0.5563556242469117\n",
      "Naive Bayes  -- Test Set -- Mean Precision 0.27827271866064973\n",
      "Naive Bayes  -- Training Set -- Mean Recall 0.49376183510549365\n",
      "Naive Bayes  -- Test Set -- Mean Recall 0.2702380952380952\n"
     ]
    },
    {
     "name": "stderr",
     "output_type": "stream",
     "text": [
      "D:\\Programme\\Anaconda3\\lib\\site-packages\\sklearn\\metrics\\classification.py:1143: UndefinedMetricWarning: Precision is ill-defined and being set to 0.0 in labels with no predicted samples.\n",
      "  'precision', 'predicted', average, warn_for)\n",
      "D:\\Programme\\Anaconda3\\lib\\site-packages\\sklearn\\metrics\\classification.py:1143: UndefinedMetricWarning: Precision is ill-defined and being set to 0.0 in labels with no predicted samples.\n",
      "  'precision', 'predicted', average, warn_for)\n",
      "D:\\Programme\\Anaconda3\\lib\\site-packages\\sklearn\\metrics\\classification.py:1143: UndefinedMetricWarning: Precision is ill-defined and being set to 0.0 in labels with no predicted samples.\n",
      "  'precision', 'predicted', average, warn_for)\n",
      "D:\\Programme\\Anaconda3\\lib\\site-packages\\sklearn\\metrics\\classification.py:1143: UndefinedMetricWarning: Precision is ill-defined and being set to 0.0 in labels with no predicted samples.\n",
      "  'precision', 'predicted', average, warn_for)\n",
      "D:\\Programme\\Anaconda3\\lib\\site-packages\\sklearn\\metrics\\classification.py:1143: UndefinedMetricWarning: Precision is ill-defined and being set to 0.0 in labels with no predicted samples.\n",
      "  'precision', 'predicted', average, warn_for)\n",
      "D:\\Programme\\Anaconda3\\lib\\site-packages\\sklearn\\metrics\\classification.py:1143: UndefinedMetricWarning: Precision is ill-defined and being set to 0.0 in labels with no predicted samples.\n",
      "  'precision', 'predicted', average, warn_for)\n",
      "D:\\Programme\\Anaconda3\\lib\\site-packages\\sklearn\\metrics\\classification.py:1143: UndefinedMetricWarning: Precision is ill-defined and being set to 0.0 in labels with no predicted samples.\n",
      "  'precision', 'predicted', average, warn_for)\n",
      "D:\\Programme\\Anaconda3\\lib\\site-packages\\sklearn\\metrics\\classification.py:1143: UndefinedMetricWarning: Precision is ill-defined and being set to 0.0 in labels with no predicted samples.\n",
      "  'precision', 'predicted', average, warn_for)\n"
     ]
    },
    {
     "name": "stdout",
     "output_type": "stream",
     "text": [
      "MLP  -- Training Set -- Mean Accuracy 0.17369713514716345\n",
      "MLP  -- Test Set -- Mean Accuracy 0.0818016082466029\n",
      "MLP  -- Training Set -- Mean Precision 0.08887263815158718\n",
      "MLP  -- Test Set -- Mean Precision 0.043841236086850116\n",
      "MLP  -- Training Set -- Mean Recall 0.1456843647915957\n",
      "MLP  -- Test Set -- Mean Recall 0.06896031746031746\n",
      "Training completed\n"
     ]
    },
    {
     "name": "stderr",
     "output_type": "stream",
     "text": [
      "D:\\Programme\\Anaconda3\\lib\\site-packages\\sklearn\\metrics\\classification.py:1143: UndefinedMetricWarning: Precision is ill-defined and being set to 0.0 in labels with no predicted samples.\n",
      "  'precision', 'predicted', average, warn_for)\n",
      "D:\\Programme\\Anaconda3\\lib\\site-packages\\sklearn\\metrics\\classification.py:1143: UndefinedMetricWarning: Precision is ill-defined and being set to 0.0 in labels with no predicted samples.\n",
      "  'precision', 'predicted', average, warn_for)\n"
     ]
    }
   ],
   "source": [
    "#%time fruits.runCrossval()\n",
    "histogramLabels = fruits.getHistogramLabels()\n",
    "names = [\"Nearest Centroid\", \"Linear SVM\",\"Decision Tree\", \"Naive Bayes\",\"MLP\"]\n",
    "classifiers = [NearestCentroid(metric=\"euclidean\"),LinearSVC(dual=False),DecisionTreeClassifier(),GaussianNB(),MLPClassifier(solver='lbfgs', alpha=1e-5,hidden_layer_sizes=(5, 2), random_state=1)]\n",
    "        \n",
    "for name, clf in zip(names, classifiers):\n",
    "    scoring = {'acc': 'accuracy','prec': 'precision_macro','rec': 'recall_macro'}\n",
    "    scores = cross_validate(clf, histogramLabels[0], histogramLabels[1], cv=5, scoring=scoring,return_train_score=True)\n",
    "    print(name,\" -- Training Set --\", \"Mean Accuracy\", scores['train_acc'].mean())\n",
    "    print(name,\" -- Test Set --\", \"Mean Accuracy\", scores['test_acc'].mean())\n",
    "    print(name,\" -- Training Set --\", \"Mean Precision\", scores['train_prec'].mean())\n",
    "    print(name,\" -- Test Set --\", \"Mean Precision\", scores['test_prec'].mean())\n",
    "    print(name,\" -- Training Set --\", \"Mean Recall\", scores['train_rec'].mean())\n",
    "    print(name,\" -- Test Set --\", \"Mean Recall\", scores['test_rec'].mean())\n",
    "print(\"Training completed\")"
   ]
  },
  {
   "cell_type": "code",
   "execution_count": 53,
   "metadata": {},
   "outputs": [
    {
     "data": {
      "image/png": "[encoded data removed]",
      "text/plain": [
       "<Figure size 432x288 with 1 Axes>"
      ]
     },
     "metadata": {
      "needs_background": "light"
     },
     "output_type": "display_data"
    }
   ],
   "source": [
    "min_samples_splits = [2,3,4,5,7,10,15,20,25,40,50,80,120]\n",
    "results = []\n",
    "for min_samples_split in min_samples_splits:\n",
    "    clf = DecisionTreeClassifier(min_samples_split=min_samples_split)\n",
    "    scores = cross_validate(clf, histogramLabels[0], histogramLabels[1], cv=5)\n",
    "    results.append(scores['test_score'].mean())\n",
    "    \n",
    "plt.plot(min_samples_splits, results, \"r\", label=\"Test Accuracy\")\n",
    "plt.ylabel(\"accuracy\")\n",
    "plt.xlabel(\"min_samples_split\")\n",
    "plt.title(\"Mean 5-fold cross-validated accuracy\")\n",
    "plt.show()"
   ]
  },
  {
   "cell_type": "code",
   "execution_count": 60,
   "metadata": {},
   "outputs": [
    {
     "name": "stdout",
     "output_type": "stream",
     "text": [
      "0 --- 1e-05\n",
      "[0.31868132 0.22093023 0.23255814 0.26506024 0.27160494 0.28571429\n",
      " 0.31944444 0.33333333 0.25757576 0.23809524]\n",
      "1 --- 0.0001\n",
      "[0.35164835 0.30232558 0.29069767 0.31325301 0.2962963  0.38961039\n",
      " 0.31944444 0.37681159 0.31818182 0.31746032]\n",
      "2 --- 0.001\n",
      "[0.42857143 0.3372093  0.39534884 0.40963855 0.39506173 0.37662338\n",
      " 0.44444444 0.46376812 0.36363636 0.33333333]\n",
      "3 --- 0.01\n",
      "[0.41758242 0.34883721 0.34883721 0.43373494 0.35802469 0.27272727\n",
      " 0.40277778 0.39130435 0.31818182 0.25396825]\n",
      "4 --- 0.1\n",
      "[0.37362637 0.36046512 0.3372093  0.42168675 0.25925926 0.31168831\n",
      " 0.31944444 0.39130435 0.31818182 0.19047619]\n",
      "5 --- 1\n",
      "[0.2967033  0.22093023 0.22093023 0.3373494  0.2345679  0.23376623\n",
      " 0.20833333 0.34782609 0.27272727 0.20634921]\n",
      "6 --- 10\n",
      "[0.25274725 0.20930233 0.18604651 0.30120482 0.20987654 0.19480519\n",
      " 0.19444444 0.23188406 0.22727273 0.17460317]\n",
      "7 --- 100\n"
     ]
    },
    {
     "name": "stderr",
     "output_type": "stream",
     "text": [
      "D:\\Programme\\Anaconda3\\lib\\site-packages\\sklearn\\svm\\base.py:922: ConvergenceWarning: Liblinear failed to converge, increase the number of iterations.\n",
      "  \"the number of iterations.\", ConvergenceWarning)\n",
      "D:\\Programme\\Anaconda3\\lib\\site-packages\\sklearn\\svm\\base.py:922: ConvergenceWarning: Liblinear failed to converge, increase the number of iterations.\n",
      "  \"the number of iterations.\", ConvergenceWarning)\n",
      "D:\\Programme\\Anaconda3\\lib\\site-packages\\sklearn\\svm\\base.py:922: ConvergenceWarning: Liblinear failed to converge, increase the number of iterations.\n",
      "  \"the number of iterations.\", ConvergenceWarning)\n",
      "D:\\Programme\\Anaconda3\\lib\\site-packages\\sklearn\\svm\\base.py:922: ConvergenceWarning: Liblinear failed to converge, increase the number of iterations.\n",
      "  \"the number of iterations.\", ConvergenceWarning)\n",
      "D:\\Programme\\Anaconda3\\lib\\site-packages\\sklearn\\svm\\base.py:922: ConvergenceWarning: Liblinear failed to converge, increase the number of iterations.\n",
      "  \"the number of iterations.\", ConvergenceWarning)\n",
      "D:\\Programme\\Anaconda3\\lib\\site-packages\\sklearn\\svm\\base.py:922: ConvergenceWarning: Liblinear failed to converge, increase the number of iterations.\n",
      "  \"the number of iterations.\", ConvergenceWarning)\n",
      "D:\\Programme\\Anaconda3\\lib\\site-packages\\sklearn\\svm\\base.py:922: ConvergenceWarning: Liblinear failed to converge, increase the number of iterations.\n",
      "  \"the number of iterations.\", ConvergenceWarning)\n",
      "D:\\Programme\\Anaconda3\\lib\\site-packages\\sklearn\\svm\\base.py:922: ConvergenceWarning: Liblinear failed to converge, increase the number of iterations.\n",
      "  \"the number of iterations.\", ConvergenceWarning)\n",
      "D:\\Programme\\Anaconda3\\lib\\site-packages\\sklearn\\svm\\base.py:922: ConvergenceWarning: Liblinear failed to converge, increase the number of iterations.\n",
      "  \"the number of iterations.\", ConvergenceWarning)\n"
     ]
    },
    {
     "name": "stdout",
     "output_type": "stream",
     "text": [
      "[0.1978022  0.20930233 0.1627907  0.28915663 0.22222222 0.18181818\n",
      " 0.18055556 0.2173913  0.1969697  0.15873016]\n",
      "8 --- 1000\n"
     ]
    },
    {
     "name": "stderr",
     "output_type": "stream",
     "text": [
      "D:\\Programme\\Anaconda3\\lib\\site-packages\\sklearn\\svm\\base.py:922: ConvergenceWarning: Liblinear failed to converge, increase the number of iterations.\n",
      "  \"the number of iterations.\", ConvergenceWarning)\n",
      "D:\\Programme\\Anaconda3\\lib\\site-packages\\sklearn\\svm\\base.py:922: ConvergenceWarning: Liblinear failed to converge, increase the number of iterations.\n",
      "  \"the number of iterations.\", ConvergenceWarning)\n",
      "D:\\Programme\\Anaconda3\\lib\\site-packages\\sklearn\\svm\\base.py:922: ConvergenceWarning: Liblinear failed to converge, increase the number of iterations.\n",
      "  \"the number of iterations.\", ConvergenceWarning)\n",
      "D:\\Programme\\Anaconda3\\lib\\site-packages\\sklearn\\svm\\base.py:922: ConvergenceWarning: Liblinear failed to converge, increase the number of iterations.\n",
      "  \"the number of iterations.\", ConvergenceWarning)\n",
      "D:\\Programme\\Anaconda3\\lib\\site-packages\\sklearn\\svm\\base.py:922: ConvergenceWarning: Liblinear failed to converge, increase the number of iterations.\n",
      "  \"the number of iterations.\", ConvergenceWarning)\n",
      "D:\\Programme\\Anaconda3\\lib\\site-packages\\sklearn\\svm\\base.py:922: ConvergenceWarning: Liblinear failed to converge, increase the number of iterations.\n",
      "  \"the number of iterations.\", ConvergenceWarning)\n",
      "D:\\Programme\\Anaconda3\\lib\\site-packages\\sklearn\\svm\\base.py:922: ConvergenceWarning: Liblinear failed to converge, increase the number of iterations.\n",
      "  \"the number of iterations.\", ConvergenceWarning)\n",
      "D:\\Programme\\Anaconda3\\lib\\site-packages\\sklearn\\svm\\base.py:922: ConvergenceWarning: Liblinear failed to converge, increase the number of iterations.\n",
      "  \"the number of iterations.\", ConvergenceWarning)\n",
      "D:\\Programme\\Anaconda3\\lib\\site-packages\\sklearn\\svm\\base.py:922: ConvergenceWarning: Liblinear failed to converge, increase the number of iterations.\n",
      "  \"the number of iterations.\", ConvergenceWarning)\n",
      "D:\\Programme\\Anaconda3\\lib\\site-packages\\sklearn\\svm\\base.py:922: ConvergenceWarning: Liblinear failed to converge, increase the number of iterations.\n",
      "  \"the number of iterations.\", ConvergenceWarning)\n",
      "D:\\Programme\\Anaconda3\\lib\\site-packages\\scipy\\stats\\stats.py:1713: FutureWarning: Using a non-tuple sequence for multidimensional indexing is deprecated; use `arr[tuple(seq)]` instead of `arr[seq]`. In the future this will be interpreted as an array index, `arr[np.array(seq)]`, which will result either in an error or a different result.\n",
      "  return np.add.reduce(sorted[indexer] * weights, axis=axis) / sumval\n"
     ]
    },
    {
     "name": "stdout",
     "output_type": "stream",
     "text": [
      "[0.1978022  0.20930233 0.1627907  0.28915663 0.22222222 0.19480519\n",
      " 0.16666667 0.2173913  0.1969697  0.15873016]\n"
     ]
    },
    {
     "data": {
      "image/png": "[encoded data removed]",
      "text/plain": [
       "<Figure size 360x360 with 1 Axes>"
      ]
     },
     "metadata": {
      "needs_background": "light"
     },
     "output_type": "display_data"
    }
   ],
   "source": [
    "import seaborn as sns\n",
    "import matplotlib.pyplot as plt\n",
    "from sklearn import preprocessing\n",
    "from sklearn.svm import LinearSVC\n",
    "import pandas as pd\n",
    "\n",
    "C = [0.00001, 0.0001, 0.001, 0.01, 0.1, 1, 10, 100,1000]\n",
    "results = []\n",
    "for idx, c in enumerate(C):\n",
    "    print(idx, \"---\", c)\n",
    "    clf=LinearSVC(C=c, loss='squared_hinge', max_iter=100000, multi_class='ovr', penalty='l2', random_state=0, tol=1e-05, verbose=0)\n",
    "    scores = cross_validate(clf,  histogramLabels[0], histogramLabels[1], cv=10)['test_score']\n",
    "    print(scores)\n",
    "    for score in scores:\n",
    "        results.append({'score': score, 'x':idx, 'penalty':c})\n",
    "\n",
    "df_trace = pd.DataFrame.from_dict(results)\n",
    "g = sns.relplot(x=\"x\", y=\"score\", kind=\"line\", data=df_trace)\n",
    "plt.xticks(range(len(C)), C, rotation='vertical')\n",
    "plt.xlabel(\"Penalty parameter C\")\n",
    "plt.title(\"5-fold CV Accuracy scores by Penalty parameter C\")\n",
    "axes = plt.gca()\n",
    "axes.set_ylim([0.0,0.65])\n",
    "axes.set_xlim([0,len(C)])\n",
    "plt.savefig('scaled_amz_C_eval.pdf')\n",
    "plt.show()"
   ]
  },
  {
   "cell_type": "code",
   "execution_count": 69,
   "metadata": {},
   "outputs": [
    {
     "name": "stderr",
     "output_type": "stream",
     "text": [
      "D:\\Programme\\Anaconda3\\lib\\site-packages\\sklearn\\metrics\\classification.py:1143: UndefinedMetricWarning: Precision is ill-defined and being set to 0.0 in labels with no predicted samples.\n",
      "  'precision', 'predicted', average, warn_for)\n",
      "D:\\Programme\\Anaconda3\\lib\\site-packages\\sklearn\\metrics\\classification.py:1143: UndefinedMetricWarning: Precision is ill-defined and being set to 0.0 in labels with no predicted samples.\n",
      "  'precision', 'predicted', average, warn_for)\n",
      "D:\\Programme\\Anaconda3\\lib\\site-packages\\sklearn\\metrics\\classification.py:1143: UndefinedMetricWarning: Precision is ill-defined and being set to 0.0 in labels with no predicted samples.\n",
      "  'precision', 'predicted', average, warn_for)\n",
      "D:\\Programme\\Anaconda3\\lib\\site-packages\\sklearn\\metrics\\classification.py:1143: UndefinedMetricWarning: Precision is ill-defined and being set to 0.0 in labels with no predicted samples.\n",
      "  'precision', 'predicted', average, warn_for)\n",
      "D:\\Programme\\Anaconda3\\lib\\site-packages\\sklearn\\metrics\\classification.py:1143: UndefinedMetricWarning: Precision is ill-defined and being set to 0.0 in labels with no predicted samples.\n",
      "  'precision', 'predicted', average, warn_for)\n",
      "D:\\Programme\\Anaconda3\\lib\\site-packages\\sklearn\\metrics\\classification.py:1143: UndefinedMetricWarning: Precision is ill-defined and being set to 0.0 in labels with no predicted samples.\n",
      "  'precision', 'predicted', average, warn_for)\n",
      "D:\\Programme\\Anaconda3\\lib\\site-packages\\sklearn\\metrics\\classification.py:1143: UndefinedMetricWarning: Precision is ill-defined and being set to 0.0 in labels with no predicted samples.\n",
      "  'precision', 'predicted', average, warn_for)\n",
      "D:\\Programme\\Anaconda3\\lib\\site-packages\\sklearn\\metrics\\classification.py:1143: UndefinedMetricWarning: Precision is ill-defined and being set to 0.0 in labels with no predicted samples.\n",
      "  'precision', 'predicted', average, warn_for)\n",
      "D:\\Programme\\Anaconda3\\lib\\site-packages\\sklearn\\metrics\\classification.py:1143: UndefinedMetricWarning: Precision is ill-defined and being set to 0.0 in labels with no predicted samples.\n",
      "  'precision', 'predicted', average, warn_for)\n",
      "D:\\Programme\\Anaconda3\\lib\\site-packages\\sklearn\\metrics\\classification.py:1143: UndefinedMetricWarning: Precision is ill-defined and being set to 0.0 in labels with no predicted samples.\n",
      "  'precision', 'predicted', average, warn_for)\n",
      "D:\\Programme\\Anaconda3\\lib\\site-packages\\sklearn\\metrics\\classification.py:1143: UndefinedMetricWarning: Precision is ill-defined and being set to 0.0 in labels with no predicted samples.\n",
      "  'precision', 'predicted', average, warn_for)\n",
      "D:\\Programme\\Anaconda3\\lib\\site-packages\\sklearn\\metrics\\classification.py:1143: UndefinedMetricWarning: Precision is ill-defined and being set to 0.0 in labels with no predicted samples.\n",
      "  'precision', 'predicted', average, warn_for)\n",
      "D:\\Programme\\Anaconda3\\lib\\site-packages\\sklearn\\metrics\\classification.py:1143: UndefinedMetricWarning: Precision is ill-defined and being set to 0.0 in labels with no predicted samples.\n",
      "  'precision', 'predicted', average, warn_for)\n",
      "D:\\Programme\\Anaconda3\\lib\\site-packages\\sklearn\\metrics\\classification.py:1143: UndefinedMetricWarning: Precision is ill-defined and being set to 0.0 in labels with no predicted samples.\n",
      "  'precision', 'predicted', average, warn_for)\n",
      "D:\\Programme\\Anaconda3\\lib\\site-packages\\sklearn\\metrics\\classification.py:1143: UndefinedMetricWarning: Precision is ill-defined and being set to 0.0 in labels with no predicted samples.\n",
      "  'precision', 'predicted', average, warn_for)\n",
      "D:\\Programme\\Anaconda3\\lib\\site-packages\\sklearn\\metrics\\classification.py:1143: UndefinedMetricWarning: Precision is ill-defined and being set to 0.0 in labels with no predicted samples.\n",
      "  'precision', 'predicted', average, warn_for)\n",
      "D:\\Programme\\Anaconda3\\lib\\site-packages\\sklearn\\metrics\\classification.py:1143: UndefinedMetricWarning: Precision is ill-defined and being set to 0.0 in labels with no predicted samples.\n",
      "  'precision', 'predicted', average, warn_for)\n",
      "D:\\Programme\\Anaconda3\\lib\\site-packages\\sklearn\\metrics\\classification.py:1143: UndefinedMetricWarning: Precision is ill-defined and being set to 0.0 in labels with no predicted samples.\n",
      "  'precision', 'predicted', average, warn_for)\n",
      "D:\\Programme\\Anaconda3\\lib\\site-packages\\sklearn\\metrics\\classification.py:1143: UndefinedMetricWarning: Precision is ill-defined and being set to 0.0 in labels with no predicted samples.\n",
      "  'precision', 'predicted', average, warn_for)\n",
      "D:\\Programme\\Anaconda3\\lib\\site-packages\\sklearn\\metrics\\classification.py:1143: UndefinedMetricWarning: Precision is ill-defined and being set to 0.0 in labels with no predicted samples.\n",
      "  'precision', 'predicted', average, warn_for)\n"
     ]
    },
    {
     "name": "stdout",
     "output_type": "stream",
     "text": [
      "Training Set -- Mean Accuracy 0.23451326500428654\n",
      "Test Set -- Mean Accuracy 0.13466013339866692\n",
      "Training Set -- Mean Precision 0.18278822338215617\n",
      "Test Set -- Mean Precision 0.08872071719130543\n",
      "Training Set -- Mean Recall 0.20929734552183304\n",
      "Test Set -- Mean Recall 0.1172222222222222\n"
     ]
    },
    {
     "name": "stderr",
     "output_type": "stream",
     "text": [
      "D:\\Programme\\Anaconda3\\lib\\site-packages\\sklearn\\metrics\\classification.py:1143: UndefinedMetricWarning: Precision is ill-defined and being set to 0.0 in labels with no predicted samples.\n",
      "  'precision', 'predicted', average, warn_for)\n",
      "D:\\Programme\\Anaconda3\\lib\\site-packages\\sklearn\\metrics\\classification.py:1143: UndefinedMetricWarning: Precision is ill-defined and being set to 0.0 in labels with no predicted samples.\n",
      "  'precision', 'predicted', average, warn_for)\n",
      "D:\\Programme\\Anaconda3\\lib\\site-packages\\sklearn\\metrics\\classification.py:1143: UndefinedMetricWarning: Precision is ill-defined and being set to 0.0 in labels with no predicted samples.\n",
      "  'precision', 'predicted', average, warn_for)\n",
      "D:\\Programme\\Anaconda3\\lib\\site-packages\\sklearn\\metrics\\classification.py:1143: UndefinedMetricWarning: Precision is ill-defined and being set to 0.0 in labels with no predicted samples.\n",
      "  'precision', 'predicted', average, warn_for)\n",
      "D:\\Programme\\Anaconda3\\lib\\site-packages\\sklearn\\metrics\\classification.py:1143: UndefinedMetricWarning: Precision is ill-defined and being set to 0.0 in labels with no predicted samples.\n",
      "  'precision', 'predicted', average, warn_for)\n",
      "D:\\Programme\\Anaconda3\\lib\\site-packages\\sklearn\\metrics\\classification.py:1143: UndefinedMetricWarning: Precision is ill-defined and being set to 0.0 in labels with no predicted samples.\n",
      "  'precision', 'predicted', average, warn_for)\n",
      "D:\\Programme\\Anaconda3\\lib\\site-packages\\sklearn\\metrics\\classification.py:1143: UndefinedMetricWarning: Precision is ill-defined and being set to 0.0 in labels with no predicted samples.\n",
      "  'precision', 'predicted', average, warn_for)\n",
      "D:\\Programme\\Anaconda3\\lib\\site-packages\\sklearn\\metrics\\classification.py:1143: UndefinedMetricWarning: Precision is ill-defined and being set to 0.0 in labels with no predicted samples.\n",
      "  'precision', 'predicted', average, warn_for)\n",
      "D:\\Programme\\Anaconda3\\lib\\site-packages\\sklearn\\metrics\\classification.py:1143: UndefinedMetricWarning: Precision is ill-defined and being set to 0.0 in labels with no predicted samples.\n",
      "  'precision', 'predicted', average, warn_for)\n",
      "D:\\Programme\\Anaconda3\\lib\\site-packages\\sklearn\\metrics\\classification.py:1143: UndefinedMetricWarning: Precision is ill-defined and being set to 0.0 in labels with no predicted samples.\n",
      "  'precision', 'predicted', average, warn_for)\n"
     ]
    },
    {
     "name": "stdout",
     "output_type": "stream",
     "text": [
      "Training Set -- Mean Accuracy 0.5783555684083639\n",
      "Test Set -- Mean Accuracy 0.2305120269564498\n",
      "Training Set -- Mean Precision 0.5743936334799156\n",
      "Test Set -- Mean Precision 0.20148677248677246\n",
      "Training Set -- Mean Recall 0.559453954942495\n",
      "Test Set -- Mean Recall 0.2197222222222222\n"
     ]
    },
    {
     "name": "stderr",
     "output_type": "stream",
     "text": [
      "D:\\Programme\\Anaconda3\\lib\\site-packages\\sklearn\\metrics\\classification.py:1143: UndefinedMetricWarning: Precision is ill-defined and being set to 0.0 in labels with no predicted samples.\n",
      "  'precision', 'predicted', average, warn_for)\n",
      "D:\\Programme\\Anaconda3\\lib\\site-packages\\sklearn\\metrics\\classification.py:1143: UndefinedMetricWarning: Precision is ill-defined and being set to 0.0 in labels with no predicted samples.\n",
      "  'precision', 'predicted', average, warn_for)\n",
      "D:\\Programme\\Anaconda3\\lib\\site-packages\\sklearn\\metrics\\classification.py:1143: UndefinedMetricWarning: Precision is ill-defined and being set to 0.0 in labels with no predicted samples.\n",
      "  'precision', 'predicted', average, warn_for)\n",
      "D:\\Programme\\Anaconda3\\lib\\site-packages\\sklearn\\metrics\\classification.py:1143: UndefinedMetricWarning: Precision is ill-defined and being set to 0.0 in labels with no predicted samples.\n",
      "  'precision', 'predicted', average, warn_for)\n",
      "D:\\Programme\\Anaconda3\\lib\\site-packages\\sklearn\\metrics\\classification.py:1143: UndefinedMetricWarning: Precision is ill-defined and being set to 0.0 in labels with no predicted samples.\n",
      "  'precision', 'predicted', average, warn_for)\n",
      "D:\\Programme\\Anaconda3\\lib\\site-packages\\sklearn\\metrics\\classification.py:1143: UndefinedMetricWarning: Precision is ill-defined and being set to 0.0 in labels with no predicted samples.\n",
      "  'precision', 'predicted', average, warn_for)\n",
      "D:\\Programme\\Anaconda3\\lib\\site-packages\\sklearn\\metrics\\classification.py:1143: UndefinedMetricWarning: Precision is ill-defined and being set to 0.0 in labels with no predicted samples.\n",
      "  'precision', 'predicted', average, warn_for)\n",
      "D:\\Programme\\Anaconda3\\lib\\site-packages\\sklearn\\metrics\\classification.py:1143: UndefinedMetricWarning: Precision is ill-defined and being set to 0.0 in labels with no predicted samples.\n",
      "  'precision', 'predicted', average, warn_for)\n",
      "D:\\Programme\\Anaconda3\\lib\\site-packages\\sklearn\\metrics\\classification.py:1143: UndefinedMetricWarning: Precision is ill-defined and being set to 0.0 in labels with no predicted samples.\n",
      "  'precision', 'predicted', average, warn_for)\n",
      "D:\\Programme\\Anaconda3\\lib\\site-packages\\sklearn\\metrics\\classification.py:1143: UndefinedMetricWarning: Precision is ill-defined and being set to 0.0 in labels with no predicted samples.\n",
      "  'precision', 'predicted', average, warn_for)\n"
     ]
    },
    {
     "name": "stdout",
     "output_type": "stream",
     "text": [
      "Training Set -- Mean Accuracy 0.9395063631643861\n",
      "Test Set -- Mean Accuracy 0.274301568640654\n",
      "Training Set -- Mean Precision 0.9421275713490893\n",
      "Test Set -- Mean Precision 0.26041269841269843\n",
      "Training Set -- Mean Recall 0.9359975726129184\n",
      "Test Set -- Mean Recall 0.26499999999999996\n"
     ]
    },
    {
     "name": "stderr",
     "output_type": "stream",
     "text": [
      "D:\\Programme\\Anaconda3\\lib\\site-packages\\sklearn\\metrics\\classification.py:1143: UndefinedMetricWarning: Precision is ill-defined and being set to 0.0 in labels with no predicted samples.\n",
      "  'precision', 'predicted', average, warn_for)\n",
      "D:\\Programme\\Anaconda3\\lib\\site-packages\\sklearn\\metrics\\classification.py:1143: UndefinedMetricWarning: Precision is ill-defined and being set to 0.0 in labels with no predicted samples.\n",
      "  'precision', 'predicted', average, warn_for)\n",
      "D:\\Programme\\Anaconda3\\lib\\site-packages\\sklearn\\metrics\\classification.py:1143: UndefinedMetricWarning: Precision is ill-defined and being set to 0.0 in labels with no predicted samples.\n",
      "  'precision', 'predicted', average, warn_for)\n",
      "D:\\Programme\\Anaconda3\\lib\\site-packages\\sklearn\\metrics\\classification.py:1143: UndefinedMetricWarning: Precision is ill-defined and being set to 0.0 in labels with no predicted samples.\n",
      "  'precision', 'predicted', average, warn_for)\n",
      "D:\\Programme\\Anaconda3\\lib\\site-packages\\sklearn\\metrics\\classification.py:1143: UndefinedMetricWarning: Precision is ill-defined and being set to 0.0 in labels with no predicted samples.\n",
      "  'precision', 'predicted', average, warn_for)\n",
      "D:\\Programme\\Anaconda3\\lib\\site-packages\\sklearn\\metrics\\classification.py:1143: UndefinedMetricWarning: Precision is ill-defined and being set to 0.0 in labels with no predicted samples.\n",
      "  'precision', 'predicted', average, warn_for)\n",
      "D:\\Programme\\Anaconda3\\lib\\site-packages\\sklearn\\metrics\\classification.py:1143: UndefinedMetricWarning: Precision is ill-defined and being set to 0.0 in labels with no predicted samples.\n",
      "  'precision', 'predicted', average, warn_for)\n",
      "D:\\Programme\\Anaconda3\\lib\\site-packages\\sklearn\\metrics\\classification.py:1143: UndefinedMetricWarning: Precision is ill-defined and being set to 0.0 in labels with no predicted samples.\n",
      "  'precision', 'predicted', average, warn_for)\n",
      "D:\\Programme\\Anaconda3\\lib\\site-packages\\sklearn\\metrics\\classification.py:1143: UndefinedMetricWarning: Precision is ill-defined and being set to 0.0 in labels with no predicted samples.\n",
      "  'precision', 'predicted', average, warn_for)\n"
     ]
    },
    {
     "name": "stdout",
     "output_type": "stream",
     "text": [
      "Training Set -- Mean Accuracy 1.0\n",
      "Test Set -- Mean Accuracy 0.30258632946365677\n",
      "Training Set -- Mean Precision 1.0\n",
      "Test Set -- Mean Precision 0.298984126984127\n",
      "Training Set -- Mean Recall 1.0\n",
      "Test Set -- Mean Recall 0.2966666666666667\n"
     ]
    },
    {
     "name": "stderr",
     "output_type": "stream",
     "text": [
      "D:\\Programme\\Anaconda3\\lib\\site-packages\\sklearn\\metrics\\classification.py:1143: UndefinedMetricWarning: Precision is ill-defined and being set to 0.0 in labels with no predicted samples.\n",
      "  'precision', 'predicted', average, warn_for)\n",
      "D:\\Programme\\Anaconda3\\lib\\site-packages\\sklearn\\metrics\\classification.py:1143: UndefinedMetricWarning: Precision is ill-defined and being set to 0.0 in labels with no predicted samples.\n",
      "  'precision', 'predicted', average, warn_for)\n",
      "D:\\Programme\\Anaconda3\\lib\\site-packages\\sklearn\\metrics\\classification.py:1143: UndefinedMetricWarning: Precision is ill-defined and being set to 0.0 in labels with no predicted samples.\n",
      "  'precision', 'predicted', average, warn_for)\n",
      "D:\\Programme\\Anaconda3\\lib\\site-packages\\sklearn\\metrics\\classification.py:1143: UndefinedMetricWarning: Precision is ill-defined and being set to 0.0 in labels with no predicted samples.\n",
      "  'precision', 'predicted', average, warn_for)\n",
      "D:\\Programme\\Anaconda3\\lib\\site-packages\\sklearn\\metrics\\classification.py:1143: UndefinedMetricWarning: Precision is ill-defined and being set to 0.0 in labels with no predicted samples.\n",
      "  'precision', 'predicted', average, warn_for)\n",
      "D:\\Programme\\Anaconda3\\lib\\site-packages\\sklearn\\metrics\\classification.py:1143: UndefinedMetricWarning: Precision is ill-defined and being set to 0.0 in labels with no predicted samples.\n",
      "  'precision', 'predicted', average, warn_for)\n",
      "D:\\Programme\\Anaconda3\\lib\\site-packages\\sklearn\\metrics\\classification.py:1143: UndefinedMetricWarning: Precision is ill-defined and being set to 0.0 in labels with no predicted samples.\n",
      "  'precision', 'predicted', average, warn_for)\n",
      "D:\\Programme\\Anaconda3\\lib\\site-packages\\sklearn\\metrics\\classification.py:1143: UndefinedMetricWarning: Precision is ill-defined and being set to 0.0 in labels with no predicted samples.\n",
      "  'precision', 'predicted', average, warn_for)\n",
      "D:\\Programme\\Anaconda3\\lib\\site-packages\\sklearn\\metrics\\classification.py:1143: UndefinedMetricWarning: Precision is ill-defined and being set to 0.0 in labels with no predicted samples.\n",
      "  'precision', 'predicted', average, warn_for)\n",
      "D:\\Programme\\Anaconda3\\lib\\site-packages\\sklearn\\metrics\\classification.py:1143: UndefinedMetricWarning: Precision is ill-defined and being set to 0.0 in labels with no predicted samples.\n",
      "  'precision', 'predicted', average, warn_for)\n"
     ]
    },
    {
     "name": "stdout",
     "output_type": "stream",
     "text": [
      "Training Set -- Mean Accuracy 1.0\n",
      "Test Set -- Mean Accuracy 0.3620990142644505\n",
      "Training Set -- Mean Precision 1.0\n",
      "Test Set -- Mean Precision 0.369260582010582\n",
      "Training Set -- Mean Recall 1.0\n",
      "Test Set -- Mean Recall 0.3516666666666667\n"
     ]
    },
    {
     "name": "stderr",
     "output_type": "stream",
     "text": [
      "D:\\Programme\\Anaconda3\\lib\\site-packages\\sklearn\\metrics\\classification.py:1143: UndefinedMetricWarning: Precision is ill-defined and being set to 0.0 in labels with no predicted samples.\n",
      "  'precision', 'predicted', average, warn_for)\n",
      "D:\\Programme\\Anaconda3\\lib\\site-packages\\sklearn\\metrics\\classification.py:1143: UndefinedMetricWarning: Precision is ill-defined and being set to 0.0 in labels with no predicted samples.\n",
      "  'precision', 'predicted', average, warn_for)\n",
      "D:\\Programme\\Anaconda3\\lib\\site-packages\\sklearn\\metrics\\classification.py:1143: UndefinedMetricWarning: Precision is ill-defined and being set to 0.0 in labels with no predicted samples.\n",
      "  'precision', 'predicted', average, warn_for)\n",
      "D:\\Programme\\Anaconda3\\lib\\site-packages\\sklearn\\metrics\\classification.py:1143: UndefinedMetricWarning: Precision is ill-defined and being set to 0.0 in labels with no predicted samples.\n",
      "  'precision', 'predicted', average, warn_for)\n",
      "D:\\Programme\\Anaconda3\\lib\\site-packages\\sklearn\\metrics\\classification.py:1143: UndefinedMetricWarning: Precision is ill-defined and being set to 0.0 in labels with no predicted samples.\n",
      "  'precision', 'predicted', average, warn_for)\n",
      "D:\\Programme\\Anaconda3\\lib\\site-packages\\sklearn\\metrics\\classification.py:1143: UndefinedMetricWarning: Precision is ill-defined and being set to 0.0 in labels with no predicted samples.\n",
      "  'precision', 'predicted', average, warn_for)\n",
      "D:\\Programme\\Anaconda3\\lib\\site-packages\\sklearn\\metrics\\classification.py:1143: UndefinedMetricWarning: Precision is ill-defined and being set to 0.0 in labels with no predicted samples.\n",
      "  'precision', 'predicted', average, warn_for)\n",
      "D:\\Programme\\Anaconda3\\lib\\site-packages\\sklearn\\metrics\\classification.py:1143: UndefinedMetricWarning: Precision is ill-defined and being set to 0.0 in labels with no predicted samples.\n",
      "  'precision', 'predicted', average, warn_for)\n",
      "D:\\Programme\\Anaconda3\\lib\\site-packages\\sklearn\\metrics\\classification.py:1143: UndefinedMetricWarning: Precision is ill-defined and being set to 0.0 in labels with no predicted samples.\n",
      "  'precision', 'predicted', average, warn_for)\n",
      "D:\\Programme\\Anaconda3\\lib\\site-packages\\sklearn\\metrics\\classification.py:1143: UndefinedMetricWarning: Precision is ill-defined and being set to 0.0 in labels with no predicted samples.\n",
      "  'precision', 'predicted', average, warn_for)\n"
     ]
    },
    {
     "name": "stdout",
     "output_type": "stream",
     "text": [
      "Training Set -- Mean Accuracy 1.0\n",
      "Test Set -- Mean Accuracy 0.3566391223773534\n",
      "Training Set -- Mean Precision 1.0\n",
      "Test Set -- Mean Precision 0.33665343915343915\n",
      "Training Set -- Mean Recall 1.0\n",
      "Test Set -- Mean Recall 0.3455555555555555\n"
     ]
    },
    {
     "name": "stderr",
     "output_type": "stream",
     "text": [
      "D:\\Programme\\Anaconda3\\lib\\site-packages\\sklearn\\metrics\\classification.py:1143: UndefinedMetricWarning: Precision is ill-defined and being set to 0.0 in labels with no predicted samples.\n",
      "  'precision', 'predicted', average, warn_for)\n",
      "D:\\Programme\\Anaconda3\\lib\\site-packages\\sklearn\\metrics\\classification.py:1143: UndefinedMetricWarning: Precision is ill-defined and being set to 0.0 in labels with no predicted samples.\n",
      "  'precision', 'predicted', average, warn_for)\n",
      "D:\\Programme\\Anaconda3\\lib\\site-packages\\sklearn\\metrics\\classification.py:1143: UndefinedMetricWarning: Precision is ill-defined and being set to 0.0 in labels with no predicted samples.\n",
      "  'precision', 'predicted', average, warn_for)\n",
      "D:\\Programme\\Anaconda3\\lib\\site-packages\\sklearn\\metrics\\classification.py:1143: UndefinedMetricWarning: Precision is ill-defined and being set to 0.0 in labels with no predicted samples.\n",
      "  'precision', 'predicted', average, warn_for)\n",
      "D:\\Programme\\Anaconda3\\lib\\site-packages\\sklearn\\metrics\\classification.py:1143: UndefinedMetricWarning: Precision is ill-defined and being set to 0.0 in labels with no predicted samples.\n",
      "  'precision', 'predicted', average, warn_for)\n",
      "D:\\Programme\\Anaconda3\\lib\\site-packages\\sklearn\\metrics\\classification.py:1143: UndefinedMetricWarning: Precision is ill-defined and being set to 0.0 in labels with no predicted samples.\n",
      "  'precision', 'predicted', average, warn_for)\n",
      "D:\\Programme\\Anaconda3\\lib\\site-packages\\sklearn\\metrics\\classification.py:1143: UndefinedMetricWarning: Precision is ill-defined and being set to 0.0 in labels with no predicted samples.\n",
      "  'precision', 'predicted', average, warn_for)\n",
      "D:\\Programme\\Anaconda3\\lib\\site-packages\\sklearn\\metrics\\classification.py:1143: UndefinedMetricWarning: Precision is ill-defined and being set to 0.0 in labels with no predicted samples.\n",
      "  'precision', 'predicted', average, warn_for)\n"
     ]
    },
    {
     "name": "stdout",
     "output_type": "stream",
     "text": [
      "Training Set -- Mean Accuracy 1.0\n",
      "Test Set -- Mean Accuracy 0.37013547276890846\n",
      "Training Set -- Mean Precision 1.0\n",
      "Test Set -- Mean Precision 0.3508253968253968\n",
      "Training Set -- Mean Recall 1.0\n",
      "Test Set -- Mean Recall 0.36111111111111105\n"
     ]
    },
    {
     "name": "stderr",
     "output_type": "stream",
     "text": [
      "D:\\Programme\\Anaconda3\\lib\\site-packages\\sklearn\\metrics\\classification.py:1143: UndefinedMetricWarning: Precision is ill-defined and being set to 0.0 in labels with no predicted samples.\n",
      "  'precision', 'predicted', average, warn_for)\n",
      "D:\\Programme\\Anaconda3\\lib\\site-packages\\sklearn\\metrics\\classification.py:1143: UndefinedMetricWarning: Precision is ill-defined and being set to 0.0 in labels with no predicted samples.\n",
      "  'precision', 'predicted', average, warn_for)\n",
      "D:\\Programme\\Anaconda3\\lib\\site-packages\\sklearn\\metrics\\classification.py:1143: UndefinedMetricWarning: Precision is ill-defined and being set to 0.0 in labels with no predicted samples.\n",
      "  'precision', 'predicted', average, warn_for)\n",
      "D:\\Programme\\Anaconda3\\lib\\site-packages\\sklearn\\metrics\\classification.py:1143: UndefinedMetricWarning: Precision is ill-defined and being set to 0.0 in labels with no predicted samples.\n",
      "  'precision', 'predicted', average, warn_for)\n",
      "D:\\Programme\\Anaconda3\\lib\\site-packages\\sklearn\\metrics\\classification.py:1143: UndefinedMetricWarning: Precision is ill-defined and being set to 0.0 in labels with no predicted samples.\n",
      "  'precision', 'predicted', average, warn_for)\n",
      "D:\\Programme\\Anaconda3\\lib\\site-packages\\sklearn\\metrics\\classification.py:1143: UndefinedMetricWarning: Precision is ill-defined and being set to 0.0 in labels with no predicted samples.\n",
      "  'precision', 'predicted', average, warn_for)\n",
      "D:\\Programme\\Anaconda3\\lib\\site-packages\\sklearn\\metrics\\classification.py:1143: UndefinedMetricWarning: Precision is ill-defined and being set to 0.0 in labels with no predicted samples.\n",
      "  'precision', 'predicted', average, warn_for)\n",
      "D:\\Programme\\Anaconda3\\lib\\site-packages\\sklearn\\metrics\\classification.py:1143: UndefinedMetricWarning: Precision is ill-defined and being set to 0.0 in labels with no predicted samples.\n",
      "  'precision', 'predicted', average, warn_for)\n",
      "D:\\Programme\\Anaconda3\\lib\\site-packages\\sklearn\\metrics\\classification.py:1143: UndefinedMetricWarning: Precision is ill-defined and being set to 0.0 in labels with no predicted samples.\n",
      "  'precision', 'predicted', average, warn_for)\n"
     ]
    },
    {
     "name": "stdout",
     "output_type": "stream",
     "text": [
      "Training Set -- Mean Accuracy 1.0\n",
      "Test Set -- Mean Accuracy 0.3631406851788886\n",
      "Training Set -- Mean Precision 1.0\n",
      "Test Set -- Mean Precision 0.3469444444444444\n",
      "Training Set -- Mean Recall 1.0\n",
      "Test Set -- Mean Recall 0.35194444444444445\n"
     ]
    },
    {
     "name": "stderr",
     "output_type": "stream",
     "text": [
      "D:\\Programme\\Anaconda3\\lib\\site-packages\\sklearn\\metrics\\classification.py:1143: UndefinedMetricWarning: Precision is ill-defined and being set to 0.0 in labels with no predicted samples.\n",
      "  'precision', 'predicted', average, warn_for)\n",
      "D:\\Programme\\Anaconda3\\lib\\site-packages\\sklearn\\metrics\\classification.py:1143: UndefinedMetricWarning: Precision is ill-defined and being set to 0.0 in labels with no predicted samples.\n",
      "  'precision', 'predicted', average, warn_for)\n",
      "D:\\Programme\\Anaconda3\\lib\\site-packages\\sklearn\\metrics\\classification.py:1143: UndefinedMetricWarning: Precision is ill-defined and being set to 0.0 in labels with no predicted samples.\n",
      "  'precision', 'predicted', average, warn_for)\n",
      "D:\\Programme\\Anaconda3\\lib\\site-packages\\sklearn\\metrics\\classification.py:1143: UndefinedMetricWarning: Precision is ill-defined and being set to 0.0 in labels with no predicted samples.\n",
      "  'precision', 'predicted', average, warn_for)\n",
      "D:\\Programme\\Anaconda3\\lib\\site-packages\\sklearn\\metrics\\classification.py:1143: UndefinedMetricWarning: Precision is ill-defined and being set to 0.0 in labels with no predicted samples.\n",
      "  'precision', 'predicted', average, warn_for)\n",
      "D:\\Programme\\Anaconda3\\lib\\site-packages\\sklearn\\metrics\\classification.py:1143: UndefinedMetricWarning: Precision is ill-defined and being set to 0.0 in labels with no predicted samples.\n",
      "  'precision', 'predicted', average, warn_for)\n",
      "D:\\Programme\\Anaconda3\\lib\\site-packages\\sklearn\\metrics\\classification.py:1143: UndefinedMetricWarning: Precision is ill-defined and being set to 0.0 in labels with no predicted samples.\n",
      "  'precision', 'predicted', average, warn_for)\n",
      "D:\\Programme\\Anaconda3\\lib\\site-packages\\sklearn\\metrics\\classification.py:1143: UndefinedMetricWarning: Precision is ill-defined and being set to 0.0 in labels with no predicted samples.\n",
      "  'precision', 'predicted', average, warn_for)\n",
      "D:\\Programme\\Anaconda3\\lib\\site-packages\\sklearn\\metrics\\classification.py:1143: UndefinedMetricWarning: Precision is ill-defined and being set to 0.0 in labels with no predicted samples.\n",
      "  'precision', 'predicted', average, warn_for)\n",
      "D:\\Programme\\Anaconda3\\lib\\site-packages\\sklearn\\metrics\\classification.py:1143: UndefinedMetricWarning: Precision is ill-defined and being set to 0.0 in labels with no predicted samples.\n",
      "  'precision', 'predicted', average, warn_for)\n"
     ]
    },
    {
     "name": "stdout",
     "output_type": "stream",
     "text": [
      "Training Set -- Mean Accuracy 1.0\n",
      "Test Set -- Mean Accuracy 0.36939689261286063\n",
      "Training Set -- Mean Precision 1.0\n",
      "Test Set -- Mean Precision 0.3466732804232804\n",
      "Training Set -- Mean Recall 1.0\n",
      "Test Set -- Mean Recall 0.3605555555555555\n"
     ]
    },
    {
     "name": "stderr",
     "output_type": "stream",
     "text": [
      "D:\\Programme\\Anaconda3\\lib\\site-packages\\sklearn\\metrics\\classification.py:1143: UndefinedMetricWarning: Precision is ill-defined and being set to 0.0 in labels with no predicted samples.\n",
      "  'precision', 'predicted', average, warn_for)\n",
      "D:\\Programme\\Anaconda3\\lib\\site-packages\\sklearn\\metrics\\classification.py:1143: UndefinedMetricWarning: Precision is ill-defined and being set to 0.0 in labels with no predicted samples.\n",
      "  'precision', 'predicted', average, warn_for)\n",
      "D:\\Programme\\Anaconda3\\lib\\site-packages\\sklearn\\metrics\\classification.py:1143: UndefinedMetricWarning: Precision is ill-defined and being set to 0.0 in labels with no predicted samples.\n",
      "  'precision', 'predicted', average, warn_for)\n",
      "D:\\Programme\\Anaconda3\\lib\\site-packages\\sklearn\\metrics\\classification.py:1143: UndefinedMetricWarning: Precision is ill-defined and being set to 0.0 in labels with no predicted samples.\n",
      "  'precision', 'predicted', average, warn_for)\n",
      "D:\\Programme\\Anaconda3\\lib\\site-packages\\sklearn\\metrics\\classification.py:1143: UndefinedMetricWarning: Precision is ill-defined and being set to 0.0 in labels with no predicted samples.\n",
      "  'precision', 'predicted', average, warn_for)\n",
      "D:\\Programme\\Anaconda3\\lib\\site-packages\\sklearn\\metrics\\classification.py:1143: UndefinedMetricWarning: Precision is ill-defined and being set to 0.0 in labels with no predicted samples.\n",
      "  'precision', 'predicted', average, warn_for)\n",
      "D:\\Programme\\Anaconda3\\lib\\site-packages\\sklearn\\metrics\\classification.py:1143: UndefinedMetricWarning: Precision is ill-defined and being set to 0.0 in labels with no predicted samples.\n",
      "  'precision', 'predicted', average, warn_for)\n",
      "D:\\Programme\\Anaconda3\\lib\\site-packages\\sklearn\\metrics\\classification.py:1143: UndefinedMetricWarning: Precision is ill-defined and being set to 0.0 in labels with no predicted samples.\n",
      "  'precision', 'predicted', average, warn_for)\n",
      "D:\\Programme\\Anaconda3\\lib\\site-packages\\sklearn\\metrics\\classification.py:1143: UndefinedMetricWarning: Precision is ill-defined and being set to 0.0 in labels with no predicted samples.\n",
      "  'precision', 'predicted', average, warn_for)\n"
     ]
    },
    {
     "name": "stdout",
     "output_type": "stream",
     "text": [
      "Training Set -- Mean Accuracy 1.0\n",
      "Test Set -- Mean Accuracy 0.37674679762911356\n",
      "Training Set -- Mean Precision 1.0\n",
      "Test Set -- Mean Precision 0.36427777777777776\n",
      "Training Set -- Mean Recall 1.0\n",
      "Test Set -- Mean Recall 0.3630555555555555\n"
     ]
    },
    {
     "name": "stderr",
     "output_type": "stream",
     "text": [
      "D:\\Programme\\Anaconda3\\lib\\site-packages\\sklearn\\metrics\\classification.py:1143: UndefinedMetricWarning: Precision is ill-defined and being set to 0.0 in labels with no predicted samples.\n",
      "  'precision', 'predicted', average, warn_for)\n",
      "D:\\Programme\\Anaconda3\\lib\\site-packages\\sklearn\\metrics\\classification.py:1143: UndefinedMetricWarning: Precision is ill-defined and being set to 0.0 in labels with no predicted samples.\n",
      "  'precision', 'predicted', average, warn_for)\n",
      "D:\\Programme\\Anaconda3\\lib\\site-packages\\sklearn\\metrics\\classification.py:1143: UndefinedMetricWarning: Precision is ill-defined and being set to 0.0 in labels with no predicted samples.\n",
      "  'precision', 'predicted', average, warn_for)\n",
      "D:\\Programme\\Anaconda3\\lib\\site-packages\\sklearn\\metrics\\classification.py:1143: UndefinedMetricWarning: Precision is ill-defined and being set to 0.0 in labels with no predicted samples.\n",
      "  'precision', 'predicted', average, warn_for)\n",
      "D:\\Programme\\Anaconda3\\lib\\site-packages\\sklearn\\metrics\\classification.py:1143: UndefinedMetricWarning: Precision is ill-defined and being set to 0.0 in labels with no predicted samples.\n",
      "  'precision', 'predicted', average, warn_for)\n",
      "D:\\Programme\\Anaconda3\\lib\\site-packages\\sklearn\\metrics\\classification.py:1143: UndefinedMetricWarning: Precision is ill-defined and being set to 0.0 in labels with no predicted samples.\n",
      "  'precision', 'predicted', average, warn_for)\n",
      "D:\\Programme\\Anaconda3\\lib\\site-packages\\sklearn\\metrics\\classification.py:1143: UndefinedMetricWarning: Precision is ill-defined and being set to 0.0 in labels with no predicted samples.\n",
      "  'precision', 'predicted', average, warn_for)\n",
      "D:\\Programme\\Anaconda3\\lib\\site-packages\\sklearn\\metrics\\classification.py:1143: UndefinedMetricWarning: Precision is ill-defined and being set to 0.0 in labels with no predicted samples.\n",
      "  'precision', 'predicted', average, warn_for)\n",
      "D:\\Programme\\Anaconda3\\lib\\site-packages\\sklearn\\metrics\\classification.py:1143: UndefinedMetricWarning: Precision is ill-defined and being set to 0.0 in labels with no predicted samples.\n",
      "  'precision', 'predicted', average, warn_for)\n"
     ]
    },
    {
     "name": "stdout",
     "output_type": "stream",
     "text": [
      "Training Set -- Mean Accuracy 1.0\n",
      "Test Set -- Mean Accuracy 0.3914213868866148\n",
      "Training Set -- Mean Precision 1.0\n",
      "Test Set -- Mean Precision 0.3954669312169312\n",
      "Training Set -- Mean Recall 1.0\n",
      "Test Set -- Mean Recall 0.3844444444444444\n"
     ]
    },
    {
     "name": "stderr",
     "output_type": "stream",
     "text": [
      "D:\\Programme\\Anaconda3\\lib\\site-packages\\sklearn\\metrics\\classification.py:1143: UndefinedMetricWarning: Precision is ill-defined and being set to 0.0 in labels with no predicted samples.\n",
      "  'precision', 'predicted', average, warn_for)\n",
      "D:\\Programme\\Anaconda3\\lib\\site-packages\\sklearn\\metrics\\classification.py:1143: UndefinedMetricWarning: Precision is ill-defined and being set to 0.0 in labels with no predicted samples.\n",
      "  'precision', 'predicted', average, warn_for)\n",
      "D:\\Programme\\Anaconda3\\lib\\site-packages\\sklearn\\metrics\\classification.py:1143: UndefinedMetricWarning: Precision is ill-defined and being set to 0.0 in labels with no predicted samples.\n",
      "  'precision', 'predicted', average, warn_for)\n",
      "D:\\Programme\\Anaconda3\\lib\\site-packages\\sklearn\\metrics\\classification.py:1143: UndefinedMetricWarning: Precision is ill-defined and being set to 0.0 in labels with no predicted samples.\n",
      "  'precision', 'predicted', average, warn_for)\n",
      "D:\\Programme\\Anaconda3\\lib\\site-packages\\sklearn\\metrics\\classification.py:1143: UndefinedMetricWarning: Precision is ill-defined and being set to 0.0 in labels with no predicted samples.\n",
      "  'precision', 'predicted', average, warn_for)\n",
      "D:\\Programme\\Anaconda3\\lib\\site-packages\\sklearn\\metrics\\classification.py:1143: UndefinedMetricWarning: Precision is ill-defined and being set to 0.0 in labels with no predicted samples.\n",
      "  'precision', 'predicted', average, warn_for)\n",
      "D:\\Programme\\Anaconda3\\lib\\site-packages\\sklearn\\metrics\\classification.py:1143: UndefinedMetricWarning: Precision is ill-defined and being set to 0.0 in labels with no predicted samples.\n",
      "  'precision', 'predicted', average, warn_for)\n",
      "D:\\Programme\\Anaconda3\\lib\\site-packages\\sklearn\\metrics\\classification.py:1143: UndefinedMetricWarning: Precision is ill-defined and being set to 0.0 in labels with no predicted samples.\n",
      "  'precision', 'predicted', average, warn_for)\n"
     ]
    },
    {
     "name": "stdout",
     "output_type": "stream",
     "text": [
      "Training Set -- Mean Accuracy 1.0\n",
      "Test Set -- Mean Accuracy 0.3821345577986398\n",
      "Training Set -- Mean Precision 1.0\n",
      "Test Set -- Mean Precision 0.3679603174603175\n",
      "Training Set -- Mean Recall 1.0\n",
      "Test Set -- Mean Recall 0.3738888888888888\n"
     ]
    },
    {
     "name": "stderr",
     "output_type": "stream",
     "text": [
      "D:\\Programme\\Anaconda3\\lib\\site-packages\\sklearn\\metrics\\classification.py:1143: UndefinedMetricWarning: Precision is ill-defined and being set to 0.0 in labels with no predicted samples.\n",
      "  'precision', 'predicted', average, warn_for)\n"
     ]
    },
    {
     "data": {
      "image/png": "[encoded data removed]",
      "text/plain": [
       "<Figure size 432x288 with 1 Axes>"
      ]
     },
     "metadata": {
      "needs_background": "light"
     },
     "output_type": "display_data"
    }
   ],
   "source": [
    "layers = [2,5,10,20,30,40,50,60,70,80,100,150]\n",
    "results = []\n",
    "for l in layers:\n",
    "    clf = MLPClassifier(solver='lbfgs', alpha=1,hidden_layer_sizes=(l,), random_state=1)\n",
    "    scoring = {'acc': 'accuracy','prec': 'precision_macro','rec': 'recall_macro'}\n",
    "    scores = cross_validate(clf, histogramLabels[0], histogramLabels[1], cv=10, scoring=scoring,return_train_score=True)\n",
    "    print(\"Training Set --\", \"Mean Accuracy\", scores['train_acc'].mean())\n",
    "    print(\"Test Set --\", \"Mean Accuracy\", scores['test_acc'].mean())\n",
    "    print(\"Training Set --\", \"Mean Precision\", scores['train_prec'].mean())\n",
    "    print(\"Test Set --\", \"Mean Precision\", scores['test_prec'].mean())\n",
    "    print(\"Training Set --\", \"Mean Recall\", scores['train_rec'].mean())\n",
    "    print(\"Test Set --\", \"Mean Recall\", scores['test_rec'].mean())\n",
    "    results.append(scores['test_acc'].mean())\n",
    "\n",
    "plt.plot(layers, results, \"r\", label=\"Test Accuracy\")\n",
    "plt.ylabel(\"accuracy\")\n",
    "plt.xlabel(\"Hidden Layers\")\n",
    "plt.title(\"Mean 10-fold cross-validated accuracy\")\n",
    "plt.show()"
   ]
  },
  {
   "cell_type": "code",
   "execution_count": 73,
   "metadata": {},
   "outputs": [
    {
     "name": "stderr",
     "output_type": "stream",
     "text": [
      "D:\\Programme\\Anaconda3\\lib\\site-packages\\sklearn\\metrics\\classification.py:1143: UndefinedMetricWarning: Precision is ill-defined and being set to 0.0 in labels with no predicted samples.\n",
      "  'precision', 'predicted', average, warn_for)\n",
      "D:\\Programme\\Anaconda3\\lib\\site-packages\\sklearn\\metrics\\classification.py:1143: UndefinedMetricWarning: Precision is ill-defined and being set to 0.0 in labels with no predicted samples.\n",
      "  'precision', 'predicted', average, warn_for)\n",
      "D:\\Programme\\Anaconda3\\lib\\site-packages\\sklearn\\metrics\\classification.py:1143: UndefinedMetricWarning: Precision is ill-defined and being set to 0.0 in labels with no predicted samples.\n",
      "  'precision', 'predicted', average, warn_for)\n",
      "D:\\Programme\\Anaconda3\\lib\\site-packages\\sklearn\\metrics\\classification.py:1143: UndefinedMetricWarning: Precision is ill-defined and being set to 0.0 in labels with no predicted samples.\n",
      "  'precision', 'predicted', average, warn_for)\n",
      "D:\\Programme\\Anaconda3\\lib\\site-packages\\sklearn\\metrics\\classification.py:1143: UndefinedMetricWarning: Precision is ill-defined and being set to 0.0 in labels with no predicted samples.\n",
      "  'precision', 'predicted', average, warn_for)\n",
      "D:\\Programme\\Anaconda3\\lib\\site-packages\\sklearn\\metrics\\classification.py:1143: UndefinedMetricWarning: Precision is ill-defined and being set to 0.0 in labels with no predicted samples.\n",
      "  'precision', 'predicted', average, warn_for)\n",
      "D:\\Programme\\Anaconda3\\lib\\site-packages\\sklearn\\metrics\\classification.py:1143: UndefinedMetricWarning: Precision is ill-defined and being set to 0.0 in labels with no predicted samples.\n",
      "  'precision', 'predicted', average, warn_for)\n"
     ]
    },
    {
     "name": "stdout",
     "output_type": "stream",
     "text": [
      "Training Set -- Mean Accuracy 1.0\n",
      "Test Set -- Mean Accuracy 0.3325206061746257\n",
      "Training Set -- Mean Precision 1.0\n",
      "Test Set -- Mean Precision 0.33644576719576713\n",
      "Training Set -- Mean Recall 1.0\n",
      "Test Set -- Mean Recall 0.31916666666666665\n"
     ]
    },
    {
     "name": "stderr",
     "output_type": "stream",
     "text": [
      "D:\\Programme\\Anaconda3\\lib\\site-packages\\sklearn\\metrics\\classification.py:1143: UndefinedMetricWarning: Precision is ill-defined and being set to 0.0 in labels with no predicted samples.\n",
      "  'precision', 'predicted', average, warn_for)\n",
      "D:\\Programme\\Anaconda3\\lib\\site-packages\\sklearn\\metrics\\classification.py:1143: UndefinedMetricWarning: Precision is ill-defined and being set to 0.0 in labels with no predicted samples.\n",
      "  'precision', 'predicted', average, warn_for)\n",
      "D:\\Programme\\Anaconda3\\lib\\site-packages\\sklearn\\metrics\\classification.py:1143: UndefinedMetricWarning: Precision is ill-defined and being set to 0.0 in labels with no predicted samples.\n",
      "  'precision', 'predicted', average, warn_for)\n",
      "D:\\Programme\\Anaconda3\\lib\\site-packages\\sklearn\\metrics\\classification.py:1143: UndefinedMetricWarning: Precision is ill-defined and being set to 0.0 in labels with no predicted samples.\n",
      "  'precision', 'predicted', average, warn_for)\n",
      "D:\\Programme\\Anaconda3\\lib\\site-packages\\sklearn\\metrics\\classification.py:1143: UndefinedMetricWarning: Precision is ill-defined and being set to 0.0 in labels with no predicted samples.\n",
      "  'precision', 'predicted', average, warn_for)\n",
      "D:\\Programme\\Anaconda3\\lib\\site-packages\\sklearn\\metrics\\classification.py:1143: UndefinedMetricWarning: Precision is ill-defined and being set to 0.0 in labels with no predicted samples.\n",
      "  'precision', 'predicted', average, warn_for)\n",
      "D:\\Programme\\Anaconda3\\lib\\site-packages\\sklearn\\metrics\\classification.py:1143: UndefinedMetricWarning: Precision is ill-defined and being set to 0.0 in labels with no predicted samples.\n",
      "  'precision', 'predicted', average, warn_for)\n"
     ]
    },
    {
     "name": "stdout",
     "output_type": "stream",
     "text": [
      "Training Set -- Mean Accuracy 1.0\n",
      "Test Set -- Mean Accuracy 0.34471625203034156\n",
      "Training Set -- Mean Precision 1.0\n",
      "Test Set -- Mean Precision 0.3400396825396825\n",
      "Training Set -- Mean Recall 1.0\n",
      "Test Set -- Mean Recall 0.33305555555555555\n"
     ]
    },
    {
     "name": "stderr",
     "output_type": "stream",
     "text": [
      "D:\\Programme\\Anaconda3\\lib\\site-packages\\sklearn\\metrics\\classification.py:1143: UndefinedMetricWarning: Precision is ill-defined and being set to 0.0 in labels with no predicted samples.\n",
      "  'precision', 'predicted', average, warn_for)\n",
      "D:\\Programme\\Anaconda3\\lib\\site-packages\\sklearn\\metrics\\classification.py:1143: UndefinedMetricWarning: Precision is ill-defined and being set to 0.0 in labels with no predicted samples.\n",
      "  'precision', 'predicted', average, warn_for)\n",
      "D:\\Programme\\Anaconda3\\lib\\site-packages\\sklearn\\metrics\\classification.py:1143: UndefinedMetricWarning: Precision is ill-defined and being set to 0.0 in labels with no predicted samples.\n",
      "  'precision', 'predicted', average, warn_for)\n",
      "D:\\Programme\\Anaconda3\\lib\\site-packages\\sklearn\\metrics\\classification.py:1143: UndefinedMetricWarning: Precision is ill-defined and being set to 0.0 in labels with no predicted samples.\n",
      "  'precision', 'predicted', average, warn_for)\n",
      "D:\\Programme\\Anaconda3\\lib\\site-packages\\sklearn\\metrics\\classification.py:1143: UndefinedMetricWarning: Precision is ill-defined and being set to 0.0 in labels with no predicted samples.\n",
      "  'precision', 'predicted', average, warn_for)\n",
      "D:\\Programme\\Anaconda3\\lib\\site-packages\\sklearn\\metrics\\classification.py:1143: UndefinedMetricWarning: Precision is ill-defined and being set to 0.0 in labels with no predicted samples.\n",
      "  'precision', 'predicted', average, warn_for)\n",
      "D:\\Programme\\Anaconda3\\lib\\site-packages\\sklearn\\metrics\\classification.py:1143: UndefinedMetricWarning: Precision is ill-defined and being set to 0.0 in labels with no predicted samples.\n",
      "  'precision', 'predicted', average, warn_for)\n",
      "D:\\Programme\\Anaconda3\\lib\\site-packages\\sklearn\\metrics\\classification.py:1143: UndefinedMetricWarning: Precision is ill-defined and being set to 0.0 in labels with no predicted samples.\n",
      "  'precision', 'predicted', average, warn_for)\n"
     ]
    },
    {
     "name": "stdout",
     "output_type": "stream",
     "text": [
      "Training Set -- Mean Accuracy 1.0\n",
      "Test Set -- Mean Accuracy 0.35913100102278456\n",
      "Training Set -- Mean Precision 1.0\n",
      "Test Set -- Mean Precision 0.35445634920634916\n",
      "Training Set -- Mean Recall 1.0\n",
      "Test Set -- Mean Recall 0.3516666666666667\n"
     ]
    },
    {
     "name": "stderr",
     "output_type": "stream",
     "text": [
      "D:\\Programme\\Anaconda3\\lib\\site-packages\\sklearn\\metrics\\classification.py:1143: UndefinedMetricWarning: Precision is ill-defined and being set to 0.0 in labels with no predicted samples.\n",
      "  'precision', 'predicted', average, warn_for)\n",
      "D:\\Programme\\Anaconda3\\lib\\site-packages\\sklearn\\metrics\\classification.py:1143: UndefinedMetricWarning: Precision is ill-defined and being set to 0.0 in labels with no predicted samples.\n",
      "  'precision', 'predicted', average, warn_for)\n",
      "D:\\Programme\\Anaconda3\\lib\\site-packages\\sklearn\\metrics\\classification.py:1143: UndefinedMetricWarning: Precision is ill-defined and being set to 0.0 in labels with no predicted samples.\n",
      "  'precision', 'predicted', average, warn_for)\n",
      "D:\\Programme\\Anaconda3\\lib\\site-packages\\sklearn\\metrics\\classification.py:1143: UndefinedMetricWarning: Precision is ill-defined and being set to 0.0 in labels with no predicted samples.\n",
      "  'precision', 'predicted', average, warn_for)\n",
      "D:\\Programme\\Anaconda3\\lib\\site-packages\\sklearn\\metrics\\classification.py:1143: UndefinedMetricWarning: Precision is ill-defined and being set to 0.0 in labels with no predicted samples.\n",
      "  'precision', 'predicted', average, warn_for)\n",
      "D:\\Programme\\Anaconda3\\lib\\site-packages\\sklearn\\metrics\\classification.py:1143: UndefinedMetricWarning: Precision is ill-defined and being set to 0.0 in labels with no predicted samples.\n",
      "  'precision', 'predicted', average, warn_for)\n",
      "D:\\Programme\\Anaconda3\\lib\\site-packages\\sklearn\\metrics\\classification.py:1143: UndefinedMetricWarning: Precision is ill-defined and being set to 0.0 in labels with no predicted samples.\n",
      "  'precision', 'predicted', average, warn_for)\n",
      "D:\\Programme\\Anaconda3\\lib\\site-packages\\sklearn\\metrics\\classification.py:1143: UndefinedMetricWarning: Precision is ill-defined and being set to 0.0 in labels with no predicted samples.\n",
      "  'precision', 'predicted', average, warn_for)\n",
      "D:\\Programme\\Anaconda3\\lib\\site-packages\\sklearn\\metrics\\classification.py:1143: UndefinedMetricWarning: Precision is ill-defined and being set to 0.0 in labels with no predicted samples.\n",
      "  'precision', 'predicted', average, warn_for)\n",
      "D:\\Programme\\Anaconda3\\lib\\site-packages\\sklearn\\metrics\\classification.py:1143: UndefinedMetricWarning: Precision is ill-defined and being set to 0.0 in labels with no predicted samples.\n",
      "  'precision', 'predicted', average, warn_for)\n"
     ]
    },
    {
     "name": "stdout",
     "output_type": "stream",
     "text": [
      "Training Set -- Mean Accuracy 1.0\n",
      "Test Set -- Mean Accuracy 0.3772910645340202\n",
      "Training Set -- Mean Precision 1.0\n",
      "Test Set -- Mean Precision 0.38155291005291003\n",
      "Training Set -- Mean Recall 1.0\n",
      "Test Set -- Mean Recall 0.3686111111111111\n"
     ]
    },
    {
     "name": "stderr",
     "output_type": "stream",
     "text": [
      "D:\\Programme\\Anaconda3\\lib\\site-packages\\sklearn\\metrics\\classification.py:1143: UndefinedMetricWarning: Precision is ill-defined and being set to 0.0 in labels with no predicted samples.\n",
      "  'precision', 'predicted', average, warn_for)\n",
      "D:\\Programme\\Anaconda3\\lib\\site-packages\\sklearn\\metrics\\classification.py:1143: UndefinedMetricWarning: Precision is ill-defined and being set to 0.0 in labels with no predicted samples.\n",
      "  'precision', 'predicted', average, warn_for)\n",
      "D:\\Programme\\Anaconda3\\lib\\site-packages\\sklearn\\metrics\\classification.py:1143: UndefinedMetricWarning: Precision is ill-defined and being set to 0.0 in labels with no predicted samples.\n",
      "  'precision', 'predicted', average, warn_for)\n",
      "D:\\Programme\\Anaconda3\\lib\\site-packages\\sklearn\\metrics\\classification.py:1143: UndefinedMetricWarning: Precision is ill-defined and being set to 0.0 in labels with no predicted samples.\n",
      "  'precision', 'predicted', average, warn_for)\n",
      "D:\\Programme\\Anaconda3\\lib\\site-packages\\sklearn\\metrics\\classification.py:1143: UndefinedMetricWarning: Precision is ill-defined and being set to 0.0 in labels with no predicted samples.\n",
      "  'precision', 'predicted', average, warn_for)\n",
      "D:\\Programme\\Anaconda3\\lib\\site-packages\\sklearn\\metrics\\classification.py:1143: UndefinedMetricWarning: Precision is ill-defined and being set to 0.0 in labels with no predicted samples.\n",
      "  'precision', 'predicted', average, warn_for)\n",
      "D:\\Programme\\Anaconda3\\lib\\site-packages\\sklearn\\metrics\\classification.py:1143: UndefinedMetricWarning: Precision is ill-defined and being set to 0.0 in labels with no predicted samples.\n",
      "  'precision', 'predicted', average, warn_for)\n",
      "D:\\Programme\\Anaconda3\\lib\\site-packages\\sklearn\\metrics\\classification.py:1143: UndefinedMetricWarning: Precision is ill-defined and being set to 0.0 in labels with no predicted samples.\n",
      "  'precision', 'predicted', average, warn_for)\n",
      "D:\\Programme\\Anaconda3\\lib\\site-packages\\sklearn\\metrics\\classification.py:1143: UndefinedMetricWarning: Precision is ill-defined and being set to 0.0 in labels with no predicted samples.\n",
      "  'precision', 'predicted', average, warn_for)\n"
     ]
    },
    {
     "name": "stdout",
     "output_type": "stream",
     "text": [
      "Training Set -- Mean Accuracy 1.0\n",
      "Test Set -- Mean Accuracy 0.3914213868866148\n",
      "Training Set -- Mean Precision 1.0\n",
      "Test Set -- Mean Precision 0.3954669312169312\n",
      "Training Set -- Mean Recall 1.0\n",
      "Test Set -- Mean Recall 0.3844444444444444\n"
     ]
    },
    {
     "name": "stderr",
     "output_type": "stream",
     "text": [
      "D:\\Programme\\Anaconda3\\lib\\site-packages\\sklearn\\metrics\\classification.py:1143: UndefinedMetricWarning: Precision is ill-defined and being set to 0.0 in labels with no predicted samples.\n",
      "  'precision', 'predicted', average, warn_for)\n",
      "D:\\Programme\\Anaconda3\\lib\\site-packages\\sklearn\\metrics\\classification.py:1143: UndefinedMetricWarning: Precision is ill-defined and being set to 0.0 in labels with no predicted samples.\n",
      "  'precision', 'predicted', average, warn_for)\n",
      "D:\\Programme\\Anaconda3\\lib\\site-packages\\sklearn\\metrics\\classification.py:1143: UndefinedMetricWarning: Precision is ill-defined and being set to 0.0 in labels with no predicted samples.\n",
      "  'precision', 'predicted', average, warn_for)\n",
      "D:\\Programme\\Anaconda3\\lib\\site-packages\\sklearn\\metrics\\classification.py:1143: UndefinedMetricWarning: Precision is ill-defined and being set to 0.0 in labels with no predicted samples.\n",
      "  'precision', 'predicted', average, warn_for)\n",
      "D:\\Programme\\Anaconda3\\lib\\site-packages\\sklearn\\metrics\\classification.py:1143: UndefinedMetricWarning: Precision is ill-defined and being set to 0.0 in labels with no predicted samples.\n",
      "  'precision', 'predicted', average, warn_for)\n",
      "D:\\Programme\\Anaconda3\\lib\\site-packages\\sklearn\\metrics\\classification.py:1143: UndefinedMetricWarning: Precision is ill-defined and being set to 0.0 in labels with no predicted samples.\n",
      "  'precision', 'predicted', average, warn_for)\n",
      "D:\\Programme\\Anaconda3\\lib\\site-packages\\sklearn\\metrics\\classification.py:1143: UndefinedMetricWarning: Precision is ill-defined and being set to 0.0 in labels with no predicted samples.\n",
      "  'precision', 'predicted', average, warn_for)\n",
      "D:\\Programme\\Anaconda3\\lib\\site-packages\\sklearn\\metrics\\classification.py:1143: UndefinedMetricWarning: Precision is ill-defined and being set to 0.0 in labels with no predicted samples.\n",
      "  'precision', 'predicted', average, warn_for)\n",
      "D:\\Programme\\Anaconda3\\lib\\site-packages\\sklearn\\metrics\\classification.py:1143: UndefinedMetricWarning: Precision is ill-defined and being set to 0.0 in labels with no predicted samples.\n",
      "  'precision', 'predicted', average, warn_for)\n",
      "D:\\Programme\\Anaconda3\\lib\\site-packages\\sklearn\\metrics\\classification.py:1143: UndefinedMetricWarning: Precision is ill-defined and being set to 0.0 in labels with no predicted samples.\n",
      "  'precision', 'predicted', average, warn_for)\n"
     ]
    },
    {
     "name": "stdout",
     "output_type": "stream",
     "text": [
      "Training Set -- Mean Accuracy 0.9271949134728097\n",
      "Test Set -- Mean Accuracy 0.39460630068831326\n",
      "Training Set -- Mean Precision 0.9383588283118895\n",
      "Test Set -- Mean Precision 0.37518915343915343\n",
      "Training Set -- Mean Recall 0.9228149908167541\n",
      "Test Set -- Mean Recall 0.3797222222222222\n"
     ]
    },
    {
     "name": "stderr",
     "output_type": "stream",
     "text": [
      "D:\\Programme\\Anaconda3\\lib\\site-packages\\sklearn\\metrics\\classification.py:1143: UndefinedMetricWarning: Precision is ill-defined and being set to 0.0 in labels with no predicted samples.\n",
      "  'precision', 'predicted', average, warn_for)\n",
      "D:\\Programme\\Anaconda3\\lib\\site-packages\\sklearn\\metrics\\classification.py:1143: UndefinedMetricWarning: Precision is ill-defined and being set to 0.0 in labels with no predicted samples.\n",
      "  'precision', 'predicted', average, warn_for)\n",
      "D:\\Programme\\Anaconda3\\lib\\site-packages\\sklearn\\metrics\\classification.py:1143: UndefinedMetricWarning: Precision is ill-defined and being set to 0.0 in labels with no predicted samples.\n",
      "  'precision', 'predicted', average, warn_for)\n",
      "D:\\Programme\\Anaconda3\\lib\\site-packages\\sklearn\\metrics\\classification.py:1143: UndefinedMetricWarning: Precision is ill-defined and being set to 0.0 in labels with no predicted samples.\n",
      "  'precision', 'predicted', average, warn_for)\n",
      "D:\\Programme\\Anaconda3\\lib\\site-packages\\sklearn\\metrics\\classification.py:1143: UndefinedMetricWarning: Precision is ill-defined and being set to 0.0 in labels with no predicted samples.\n",
      "  'precision', 'predicted', average, warn_for)\n",
      "D:\\Programme\\Anaconda3\\lib\\site-packages\\sklearn\\metrics\\classification.py:1143: UndefinedMetricWarning: Precision is ill-defined and being set to 0.0 in labels with no predicted samples.\n",
      "  'precision', 'predicted', average, warn_for)\n",
      "D:\\Programme\\Anaconda3\\lib\\site-packages\\sklearn\\metrics\\classification.py:1143: UndefinedMetricWarning: Precision is ill-defined and being set to 0.0 in labels with no predicted samples.\n",
      "  'precision', 'predicted', average, warn_for)\n",
      "D:\\Programme\\Anaconda3\\lib\\site-packages\\sklearn\\metrics\\classification.py:1143: UndefinedMetricWarning: Precision is ill-defined and being set to 0.0 in labels with no predicted samples.\n",
      "  'precision', 'predicted', average, warn_for)\n",
      "D:\\Programme\\Anaconda3\\lib\\site-packages\\sklearn\\metrics\\classification.py:1143: UndefinedMetricWarning: Precision is ill-defined and being set to 0.0 in labels with no predicted samples.\n",
      "  'precision', 'predicted', average, warn_for)\n",
      "D:\\Programme\\Anaconda3\\lib\\site-packages\\sklearn\\metrics\\classification.py:1143: UndefinedMetricWarning: Precision is ill-defined and being set to 0.0 in labels with no predicted samples.\n",
      "  'precision', 'predicted', average, warn_for)\n",
      "D:\\Programme\\Anaconda3\\lib\\site-packages\\sklearn\\metrics\\classification.py:1143: UndefinedMetricWarning: Precision is ill-defined and being set to 0.0 in labels with no predicted samples.\n",
      "  'precision', 'predicted', average, warn_for)\n",
      "D:\\Programme\\Anaconda3\\lib\\site-packages\\sklearn\\metrics\\classification.py:1143: UndefinedMetricWarning: Precision is ill-defined and being set to 0.0 in labels with no predicted samples.\n",
      "  'precision', 'predicted', average, warn_for)\n",
      "D:\\Programme\\Anaconda3\\lib\\site-packages\\sklearn\\metrics\\classification.py:1143: UndefinedMetricWarning: Precision is ill-defined and being set to 0.0 in labels with no predicted samples.\n",
      "  'precision', 'predicted', average, warn_for)\n",
      "D:\\Programme\\Anaconda3\\lib\\site-packages\\sklearn\\metrics\\classification.py:1143: UndefinedMetricWarning: Precision is ill-defined and being set to 0.0 in labels with no predicted samples.\n",
      "  'precision', 'predicted', average, warn_for)\n",
      "D:\\Programme\\Anaconda3\\lib\\site-packages\\sklearn\\metrics\\classification.py:1143: UndefinedMetricWarning: Precision is ill-defined and being set to 0.0 in labels with no predicted samples.\n",
      "  'precision', 'predicted', average, warn_for)\n",
      "D:\\Programme\\Anaconda3\\lib\\site-packages\\sklearn\\metrics\\classification.py:1143: UndefinedMetricWarning: Precision is ill-defined and being set to 0.0 in labels with no predicted samples.\n",
      "  'precision', 'predicted', average, warn_for)\n",
      "D:\\Programme\\Anaconda3\\lib\\site-packages\\sklearn\\metrics\\classification.py:1143: UndefinedMetricWarning: Precision is ill-defined and being set to 0.0 in labels with no predicted samples.\n",
      "  'precision', 'predicted', average, warn_for)\n",
      "D:\\Programme\\Anaconda3\\lib\\site-packages\\sklearn\\metrics\\classification.py:1143: UndefinedMetricWarning: Precision is ill-defined and being set to 0.0 in labels with no predicted samples.\n",
      "  'precision', 'predicted', average, warn_for)\n"
     ]
    },
    {
     "name": "stdout",
     "output_type": "stream",
     "text": [
      "Training Set -- Mean Accuracy 0.31714387549952516\n",
      "Test Set -- Mean Accuracy 0.2729699541295774\n",
      "Training Set -- Mean Precision 0.23558295114904187\n",
      "Test Set -- Mean Precision 0.16552013053900924\n",
      "Training Set -- Mean Recall 0.28154071920800505\n",
      "Test Set -- Mean Recall 0.24222222222222226\n"
     ]
    },
    {
     "name": "stderr",
     "output_type": "stream",
     "text": [
      "D:\\Programme\\Anaconda3\\lib\\site-packages\\sklearn\\metrics\\classification.py:1143: UndefinedMetricWarning: Precision is ill-defined and being set to 0.0 in labels with no predicted samples.\n",
      "  'precision', 'predicted', average, warn_for)\n",
      "D:\\Programme\\Anaconda3\\lib\\site-packages\\sklearn\\metrics\\classification.py:1143: UndefinedMetricWarning: Precision is ill-defined and being set to 0.0 in labels with no predicted samples.\n",
      "  'precision', 'predicted', average, warn_for)\n"
     ]
    },
    {
     "data": {
      "image/png": "[encoded data removed]",
      "text/plain": [
       "<Figure size 432x288 with 1 Axes>"
      ]
     },
     "metadata": {
      "needs_background": "light"
     },
     "output_type": "display_data"
    }
   ],
   "source": [
    "alphas = [0.0001,0.001,0.01,0.1,1,10,100]\n",
    "results = []\n",
    "for a in alphas:\n",
    "    clf = MLPClassifier(solver='lbfgs', alpha=a,hidden_layer_sizes=(100,), random_state=1)\n",
    "    scoring = {'acc': 'accuracy','prec': 'precision_macro','rec': 'recall_macro'}\n",
    "    scores = cross_validate(clf, histogramLabels[0], histogramLabels[1], cv=10, scoring=scoring,return_train_score=True)\n",
    "    print(\"Training Set --\", \"Mean Accuracy\", scores['train_acc'].mean())\n",
    "    print(\"Test Set --\", \"Mean Accuracy\", scores['test_acc'].mean())\n",
    "    print(\"Training Set --\", \"Mean Precision\", scores['train_prec'].mean())\n",
    "    print(\"Test Set --\", \"Mean Precision\", scores['test_prec'].mean())\n",
    "    print(\"Training Set --\", \"Mean Recall\", scores['train_rec'].mean())\n",
    "    print(\"Test Set --\", \"Mean Recall\", scores['test_rec'].mean())\n",
    "    results.append(scores['test_acc'].mean())\n",
    "\n",
    "plt.plot(alphas, results, \"r\", label=\"Test Accuracy\")\n",
    "plt.ylabel(\"accuracy\")\n",
    "plt.xlabel(\"Alpha\")\n",
    "plt.title(\"Mean 10-fold cross-validated accuracy\")\n",
    "plt.show()"
   ]
  },
  {
   "cell_type": "markdown",
   "metadata": {},
   "source": [
    "### Cars"
   ]
  },
  {
   "cell_type": "code",
   "execution_count": 48,
   "metadata": {
    "scrolled": true
   },
   "outputs": [],
   "source": [
    "#bov = BOV(no_clusters=100)\n",
    "#bov.start(\"images\\\\train\\\\\", \"images\\\\test\\\\\")\n",
    "#bov.start(\"../../../ex3/CarData/TrainImages/\", \"../../../ex3/CarData/TestImages/\")\n",
    "#bov.start(\"../../../ex3/FIDS30/train/\", \"../../../ex3/FIDS30/test/\")"
   ]
  }
 ],
 "metadata": {
  "kernelspec": {
   "display_name": "Python 3",
   "language": "python",
   "name": "python3"
  },
  "language_info": {
   "codemirror_mode": {
    "name": "ipython",
    "version": 3
   },
   "file_extension": ".py",
   "mimetype": "text/x-python",
   "name": "python",
   "nbconvert_exporter": "python",
   "pygments_lexer": "ipython3",
   "version": "3.7.1"
  }
 },
 "nbformat": 4,
 "nbformat_minor": 2
}
