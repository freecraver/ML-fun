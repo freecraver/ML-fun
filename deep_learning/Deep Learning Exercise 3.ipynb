{
 "cells": [
  {
   "cell_type": "markdown",
   "metadata": {},
   "source": [
    "# Deep Learning Evaluation (Machine Learning TU Vienna 2018)\n",
    "\n",
    "This notebook is used to evaluate Deep Learning for 2 different datasets:\n",
    "    1. http://data.vicos.si/datasets/FIDS30/FIDS30.zip\n",
    "    2. http://l2r.cs.uiuc.edu/~cogcomp/Data/Car/CarData.tar.gz\n",
    "    \n",
    "To run this notebook without the requirement of setting up all dependencies you can simply use following docker image:\n",
    "https://cloud.docker.com/u/freecraver/repository/docker/freecraver/keras\n",
    "\n",
    "Make sure to place this notebook in a shared folder and pass it as volume to the docker container at creation.\n",
    "Example command (host path assuming Windows OS): `docker run -it -v //D//your//folder//here:/tf/notebooks -p 8888:8888 --name mlex_group8 freecraver/keras`\n",
    "\n",
    "For GPU support you may substitute `freecraver/keras` with `tensorflow/tensorflow:latest-gpu-py3-jupyter` and install following modules manually via `pip install`:\n",
    "* keras\n",
    "* Pillow _(Image processing)_\n",
    "* sklearn _(Evaluation, Preprocessing)_\n",
    "* pandas _(Evaluation)_\n",
    "* requests _(only if dataset not present)_\n",
    "\n",
    "You still require an NVIDIA docker driver (https://github.com/NVIDIA/nvidia-docker). As the setup for such can be a cumbersome task, the default uses only CPU. Keep in mind that this leads to a major performance loss. (On a side note the tensorflow gpu image also has twice the size of the cpu one..)\n",
    "\n",
    "Recommend Min. Resource Requirements (for Docker):\n",
    "* 6 GB RAM"
   ]
  },
  {
   "cell_type": "code",
   "execution_count": 93,
   "metadata": {},
   "outputs": [],
   "source": [
    "import keras\n",
    "from keras.models import Sequential\n",
    "from keras.layers import Conv2D, MaxPooling2D, Dense, Dropout, Activation, Flatten\n",
    "from keras.layers.normalization import BatchNormalization\n",
    "\n",
    "import numpy as np\n",
    "import pandas as pd\n",
    "\n",
    "from PIL import Image\n",
    "\n",
    "from sklearn.model_selection import train_test_split\n",
    "from sklearn.metrics import accuracy_score\n",
    "\n",
    "import requests\n",
    "import zipfile\n",
    "import tarfile\n",
    "import io\n",
    "\n",
    "import os\n",
    "import glob\n",
    "\n",
    "import gc\n",
    "\n",
    "car_dir = 'res/car'\n",
    "fruit_dir = 'res/fruit'\n",
    "\n",
    "# create directories if they are not present already\n",
    "if not os.path.exists(car_dir):\n",
    "    os.makedirs(car_dir)\n",
    "if not os.path.exists(fruit_dir):\n",
    "    os.makedirs(fruit_dir)    "
   ]
  },
  {
   "cell_type": "markdown",
   "metadata": {},
   "source": [
    "## Fetch datasets\n",
    "\n",
    "This may take a while for the fruits dataset (450MB)\n",
    "\n",
    "__NOTE: if you already have the data on your local machine simply copy it into the shared folder to sapre the time required for download. Use the following paths:__  \n",
    "`res/car/` containing the extracted `CarData` folder  \n",
    "`res/fruit/` containing the extracted `FIDS30` folder"
   ]
  },
  {
   "cell_type": "code",
   "execution_count": 2,
   "metadata": {},
   "outputs": [
    {
     "name": "stdout",
     "output_type": "stream",
     "text": [
      "Using local car data\n",
      "Using local fruits data\n",
      "Finished fetching datasets\n"
     ]
    }
   ],
   "source": [
    "fruit_url = 'http://data.vicos.si/datasets/FIDS30/FIDS30.zip'\n",
    "car_url = 'http://l2r.cs.uiuc.edu/~cogcomp/Data/Car/CarData.tar.gz'\n",
    "\n",
    "car_data_path = os.path.join(car_dir,'CarData')\n",
    "fruits_data_path = os.path.join(fruit_dir, 'FIDS30')\n",
    "\n",
    "if os.path.exists(car_data_path):\n",
    "    print(\"Using local car data\")\n",
    "else:\n",
    "    print(\"Fetching car data...\")\n",
    "    r = requests.get(car_url)\n",
    "    t = tarfile.open(fileobj=io.BytesIO(r.content))\n",
    "    t.extractall(path=car_dir)\n",
    "    t.close()\n",
    "\n",
    "if os.path.exists(fruits_data_path):\n",
    "    print(\"Using local fruits data\")\n",
    "else:\n",
    "    print(\"Fetching fruit data...\")\n",
    "    r = requests.get(fruit_url)\n",
    "    z = zipfile.ZipFile(io.BytesIO(r.content))\n",
    "    z.extractall(path=fruit_dir)\n",
    "\n",
    "print(\"Finished fetching datasets\")"
   ]
  },
  {
   "cell_type": "markdown",
   "metadata": {},
   "source": [
    "## Retrieve images\n",
    "\n",
    "**IMPORTANT NOTE: If your kernel crashes at this point, you may have to increase the amount of alllocated RAM for your docker container**\n",
    "\n",
    "Also the dataset contains many files that are no common JPEGs (i.e. alpha channel, etc.) -> those images are converted to 3-channel JPEGs, for three images this does not work:\n",
    "* bananas_51.jpg\n",
    "* peaches_18.jpg\n",
    "* tomatoes_38.jpg\n",
    "\n",
    "Those 3 files are ignored\n"
   ]
  },
  {
   "cell_type": "code",
   "execution_count": 18,
   "metadata": {},
   "outputs": [
    {
     "data": {
      "text/plain": [
       "array([ 40., 100.])"
      ]
     },
     "execution_count": 18,
     "metadata": {},
     "output_type": "execute_result"
    }
   ],
   "source": [
    "np.mean([[i.shape[0],i.shape[1]] for i in car_images_train], axis=0)"
   ]
  },
  {
   "cell_type": "code",
   "execution_count": 20,
   "metadata": {},
   "outputs": [
    {
     "name": "stdout",
     "output_type": "stream",
     "text": [
      "Found 1050 car files\n",
      "Resizing to 100x40 images\n",
      "Resizing to 200x156 images\n",
      "Resized 967 fruit images\r"
     ]
    }
   ],
   "source": [
    "def resize_images(images, identifier, target_height = None, target_width = None):\n",
    "    \"\"\"\n",
    "    used to resize all images to the mean height/width\n",
    "    note that this is prone to generating distorted images\n",
    "    better results are expected with methods like pyramid pooling (https://arxiv.org/abs/1406.4729)\n",
    "    \"\"\"\n",
    "    if target_height is None or target_width is None:\n",
    "        target_size = 200\n",
    "        mean_shape = np.mean([[i.shape[0],i.shape[1]] for i in images], axis=0)\n",
    "        max_v = max(mean_shape[0], mean_shape[1])\n",
    "        # scale by preserving average ratio\n",
    "        target_height = int(target_size * mean_shape[0]/max_v)\n",
    "        target_width = int(target_size * mean_shape[1]/max_v)\n",
    "    \n",
    "    print(\"Resizing to {}x{} images\".format(target_width, target_height))\n",
    "    \n",
    "    for i in range(len(images)):\n",
    "        if target_height != images[i].shape[0] or target_width != images[i].shape[1]:\n",
    "            # only resize image if it has not already the correct size\n",
    "            images[i] = np.array(Image.fromarray(images[i]).resize((target_width, target_height), Image.ANTIALIAS))\n",
    "        print(\"Resized {} {} images\".format(i+1, identifier), end=\"\\r\")\n",
    "        \n",
    "    return images\n",
    "\n",
    "def get_car_images(folder = 'TrainImages'):\n",
    "    files = glob.glob(os.path.join(car_data_path,folder, '*.pgm'))\n",
    "    print(\"Found {} car files\".format(len(files)))\n",
    "    images = []\n",
    "    image_names = []\n",
    "\n",
    "    for filename in files:\n",
    "        image_names.append(os.path.basename(filename))\n",
    "        with Image.open(filename) as img:\n",
    "            images.append(np.array(img))\n",
    "    \n",
    "    images = np.stack(resize_images(images, 'car', target_width=100, target_height=40), axis=0)\n",
    "    \n",
    "    return images, image_names\n",
    "\n",
    "def get_fruit_images():\n",
    "    images = []\n",
    "    image_names = []\n",
    "    cnt=0\n",
    "    \n",
    "    for dirpath, dirnames, filenames in os.walk(fruits_data_path):\n",
    "        for filename in [f for f in filenames if f.endswith(\".jpg\")]:\n",
    "            cnt = cnt+1\n",
    "            with Image.open(os.path.join(dirpath,filename)) as img:\n",
    "                if img.format != \"JPEG\":\n",
    "                    # we only want 3 channels\n",
    "                    img = img.convert(\"RGB\")\n",
    "                np_img = np.array(img)\n",
    "                if len(np_img.shape) != 3 or np_img.shape[2] != 3:\n",
    "                    # incorrectly imported/converted RGB file\n",
    "                    continue\n",
    "                images.append(np_img)\n",
    "                image_names.append(os.path.split(dirpath)[-1] + \"_\" + filename)\n",
    "                print(\"Found {} fruit files\".format(len(image_names)), end=\"\\r\")\n",
    "                \n",
    "    images = np.stack(resize_images(images, 'fruit'), axis=0)\n",
    "    \n",
    "    return images, image_names\n",
    "    \n",
    "\n",
    "car_images, car_img_names = get_car_images()\n",
    "print(\"-\"*60)\n",
    "fruit_images, fruit_img_names = get_fruit_images() "
   ]
  },
  {
   "cell_type": "markdown",
   "metadata": {},
   "source": [
    "## Check import images"
   ]
  },
  {
   "cell_type": "code",
   "execution_count": 21,
   "metadata": {},
   "outputs": [
    {
     "name": "stdout",
     "output_type": "stream",
     "text": [
      "figs_11.jpg\n"
     ]
    },
    {
     "data": {
      "image/png": "[encoded data removed]",
      "text/plain": [
       "<PIL.Image.Image image mode=RGB size=200x156 at 0x7FD3D658BF60>"
      ]
     },
     "execution_count": 21,
     "metadata": {},
     "output_type": "execute_result"
    }
   ],
   "source": [
    "print(fruit_img_names[321])\n",
    "Image.fromarray(fruit_images[321])"
   ]
  },
  {
   "cell_type": "markdown",
   "metadata": {},
   "source": [
    "## Ground truth setup\n",
    "\n",
    "While the goal of the car use case is to predict if a car is present or not (binary), the goal of the fruit dataset is to predict which out of $n$ fruits is present in a picture (n-ary)"
   ]
  },
  {
   "cell_type": "code",
   "execution_count": 22,
   "metadata": {},
   "outputs": [
    {
     "name": "stdout",
     "output_type": "stream",
     "text": [
      "2 unique classes for cars\n",
      "30 unique classes for fruits\n"
     ]
    }
   ],
   "source": [
    "cls_car = [0 if name.startswith('neg') else 1 for name in car_img_names]\n",
    "cls_fruit = [name.split('_')[0] for name in fruit_img_names]\n",
    "\n",
    "print(\"{} unique classes for cars\".format(len(set(cls_car))))\n",
    "print(\"{} unique classes for fruits\".format(len(set(cls_fruit))))"
   ]
  },
  {
   "cell_type": "markdown",
   "metadata": {},
   "source": [
    "## Train/test split\n",
    "\n",
    "We split the fruits in a stratified fashion (i.e. preserving class label distribution) and load the test data for the car dataset"
   ]
  },
  {
   "cell_type": "code",
   "execution_count": 23,
   "metadata": {},
   "outputs": [
    {
     "name": "stdout",
     "output_type": "stream",
     "text": [
      "Found 170 car files\n",
      "Resizing to 100x40 images\n",
      "Resized 169 car images\r"
     ]
    }
   ],
   "source": [
    "car_images_train = car_images\n",
    "cls_car_train = cls_car\n",
    "car_images_test, car_img_names_t = get_car_images('TestImages')\n",
    "cls_car_test = [0 if name.startswith('neg') else 1 for name in car_img_names_t]\n",
    "\n",
    "fruit_images_train, fruit_images_test, cls_fruit_train, cls_fruit_test = train_test_split(fruit_images, cls_fruit, test_size=0.2, random_state=9253, stratify=cls_fruit)"
   ]
  },
  {
   "cell_type": "markdown",
   "metadata": {},
   "source": [
    "## Baseline values\n",
    "\n",
    "Show how good a dumb classifier that always predicts the most common class is"
   ]
  },
  {
   "cell_type": "code",
   "execution_count": 24,
   "metadata": {},
   "outputs": [
    {
     "name": "stdout",
     "output_type": "stream",
     "text": [
      "-------------------- \n",
      "Car Baseline\n",
      "Class 0: 500\n",
      "Class 1: 550\n",
      "Baseline accuracy: 0.5238095238095238\n",
      "-------------------- \n",
      "Fruits Baseline\n",
      "Class cherries: 26\n",
      "Class avocados: 21\n",
      "Class blueberries: 26\n",
      "Class cantaloupes: 25\n",
      "Class peaches: 21\n",
      "Class grapefruits: 25\n",
      "Class pomegranates: 24\n",
      "Class olives: 18\n",
      "Class blackberries: 29\n",
      "Class tomatoes: 36\n",
      "Class coconuts: 21\n",
      "Class oranges: 28\n",
      "Class pineapples: 27\n",
      "Class guava: 26\n",
      "Class kiwifruit: 29\n",
      "Class bananas: 33\n",
      "Class lemons: 23\n",
      "Class apricots: 24\n",
      "Class mangos: 27\n",
      "Class grapes: 30\n",
      "Class raspberries: 31\n",
      "Class figs: 21\n",
      "Class passionfruit: 18\n",
      "Class limes: 23\n",
      "Class apples: 30\n",
      "Class pears: 26\n",
      "Class watermelons: 25\n",
      "Class acerolas: 19\n",
      "Class strawberries: 37\n",
      "Class plums: 25\n",
      "Baseline accuracy: 0.04780361757105943\n"
     ]
    }
   ],
   "source": [
    "def print_baseline_stats(cls):\n",
    "    max_cnt = 0\n",
    "    for v in set(cls):\n",
    "        max_cnt = max(max_cnt, cls.count(v))\n",
    "        print(\"Class {}: {}\".format(v, cls.count(v)))\n",
    "\n",
    "    print(\"Baseline accuracy: {}\".format(max_cnt/len(cls)))\n",
    "    \n",
    "print(\"-\"*20, \"\\nCar Baseline\")\n",
    "print_baseline_stats(cls_car_train)\n",
    "\n",
    "print(\"-\"*20, \"\\nFruits Baseline\")\n",
    "print_baseline_stats(cls_fruit_train)"
   ]
  },
  {
   "cell_type": "markdown",
   "metadata": {},
   "source": [
    "## Standardization\n",
    "\n",
    "For the fruits dataset each color-channel is standardized independently, for the car dataset we only have grayscale images (i.e. 1 single channel)"
   ]
  },
  {
   "cell_type": "code",
   "execution_count": 25,
   "metadata": {},
   "outputs": [
    {
     "name": "stdout",
     "output_type": "stream",
     "text": [
      "{'std': 74.27669459504543, 'mean': 129.58246809523808}\n",
      "{'std': array([[[[74.5967228 , 85.5621107 , 96.07639164]]]]), 'mean': array([[[[181.13993093, 150.25755694, 119.42136967]]]])}\n",
      "Car Min-Max -1.744591204572555 1.6885179475006928\n",
      "Fruit Min-Max [-2.42825588 -1.75612261 -1.2429835 ] [0.99012485 1.22416853 1.41115448]\n"
     ]
    }
   ],
   "source": [
    "car_scaling = {'mean': car_images_train.mean(), 'std': car_images_train.std()}\n",
    "fruit_scaling = {'mean': fruit_images_train.mean(axis=(0,1,2), keepdims=True), \n",
    "                 'std': fruit_images_train.std(axis=(0,1,2), keepdims=True)}\n",
    "print(car_scaling)\n",
    "print(fruit_scaling)\n",
    "\n",
    "car_images_train = (car_images_train - car_scaling.get('mean')) / car_scaling.get('std')\n",
    "fruit_images_train = (fruit_images_train - fruit_scaling.get('mean')) / fruit_scaling.get('std')\n",
    "car_images_test = (car_images_test - car_scaling.get('mean')) / car_scaling.get('std')\n",
    "fruit_images_test = (fruit_images_test - fruit_scaling.get('mean')) / fruit_scaling.get('std')\n",
    "print(\"Car Min-Max\", car_images_train.min(),car_images_train.max())\n",
    "print(\"Fruit Min-Max\", fruit_images_train.min(axis=(0,1,2)), fruit_images_train.max(axis=(0,1,2)))"
   ]
  },
  {
   "cell_type": "markdown",
   "metadata": {},
   "source": [
    "### Adapt shape for Keras model\n",
    "\n",
    "Convert single channel (grayscale) array to a 4dim array for compliance reasons"
   ]
  },
  {
   "cell_type": "code",
   "execution_count": 27,
   "metadata": {},
   "outputs": [
    {
     "name": "stdout",
     "output_type": "stream",
     "text": [
      "Car-Shape (1050, 40, 100, 1)\n",
      "Fruit-Shape (774, 156, 200, 3)\n"
     ]
    }
   ],
   "source": [
    "car_images_train = car_images_train.reshape(car_images_train.shape[0], car_images_train.shape[1], car_images_train.shape[2], 1)\n",
    "car_images_test = car_images_test.reshape(car_images_test.shape[0], car_images_test.shape[1], car_images_test.shape[2], 1)\n",
    "print(\"Car-Shape\", car_images_train.shape)\n",
    "print(\"Fruit-Shape\", fruit_images_train.shape)"
   ]
  },
  {
   "cell_type": "markdown",
   "metadata": {},
   "source": [
    "## Create the CNN model\n",
    "\n",
    "We use the same model baseline for both datasets (i.e. the only difference is that the fruits dataset has 3 color channels)"
   ]
  },
  {
   "cell_type": "code",
   "execution_count": 30,
   "metadata": {},
   "outputs": [],
   "source": [
    "def create_model(input_shape, n_filters =16, kernel_size=3):\n",
    "    model = Sequential()\n",
    "    \n",
    "    # Layer 1\n",
    "    model.add(Conv2D(n_filters, kernel_size, input_shape=input_shape))\n",
    "    model.add(BatchNormalization())\n",
    "    model.add(Activation('relu'))  # ReLu activation\n",
    "    model.add(MaxPooling2D(pool_size=(2, 2))) # reducing image resolution by half\n",
    "    model.add(Dropout(0.3))  # random \"deletion\" of %-portion of units in each batch\n",
    "\n",
    "    # Layer 2\n",
    "    model.add(Conv2D(n_filters, kernel_size))\n",
    "    model.add(Activation('relu'))\n",
    "    model.add(Dropout(0.3))\n",
    "\n",
    "    model.add(Flatten()) # Note: Keras does automatic shape inference.\n",
    "    \n",
    "    # Full Layer\n",
    "    model.add(Dense(256))\n",
    "    model.add(Activation('relu'))\n",
    "    model.add(Dropout(0.1))\n",
    "\n",
    "    model.add(Dense(1,activation='sigmoid'))\n",
    "    \n",
    "    return model\n",
    "\n",
    "car_model = create_model(car_images_train.shape[1:])\n",
    "fruit_model = create_model(fruit_images_train.shape[1:])"
   ]
  },
  {
   "cell_type": "markdown",
   "metadata": {},
   "source": [
    "### Car model summary"
   ]
  },
  {
   "cell_type": "code",
   "execution_count": 31,
   "metadata": {},
   "outputs": [
    {
     "name": "stdout",
     "output_type": "stream",
     "text": [
      "_________________________________________________________________\n",
      "Layer (type)                 Output Shape              Param #   \n",
      "=================================================================\n",
      "conv2d_5 (Conv2D)            (None, 38, 98, 16)        160       \n",
      "_________________________________________________________________\n",
      "batch_normalization_3 (Batch (None, 38, 98, 16)        64        \n",
      "_________________________________________________________________\n",
      "activation_7 (Activation)    (None, 38, 98, 16)        0         \n",
      "_________________________________________________________________\n",
      "max_pooling2d_3 (MaxPooling2 (None, 19, 49, 16)        0         \n",
      "_________________________________________________________________\n",
      "dropout_7 (Dropout)          (None, 19, 49, 16)        0         \n",
      "_________________________________________________________________\n",
      "conv2d_6 (Conv2D)            (None, 17, 47, 16)        2320      \n",
      "_________________________________________________________________\n",
      "activation_8 (Activation)    (None, 17, 47, 16)        0         \n",
      "_________________________________________________________________\n",
      "dropout_8 (Dropout)          (None, 17, 47, 16)        0         \n",
      "_________________________________________________________________\n",
      "flatten_3 (Flatten)          (None, 12784)             0         \n",
      "_________________________________________________________________\n",
      "dense_5 (Dense)              (None, 256)               3272960   \n",
      "_________________________________________________________________\n",
      "activation_9 (Activation)    (None, 256)               0         \n",
      "_________________________________________________________________\n",
      "dropout_9 (Dropout)          (None, 256)               0         \n",
      "_________________________________________________________________\n",
      "dense_6 (Dense)              (None, 1)                 257       \n",
      "=================================================================\n",
      "Total params: 3,275,761\n",
      "Trainable params: 3,275,729\n",
      "Non-trainable params: 32\n",
      "_________________________________________________________________\n"
     ]
    }
   ],
   "source": [
    "car_model.summary()"
   ]
  },
  {
   "cell_type": "markdown",
   "metadata": {},
   "source": [
    "### Fruit model summary"
   ]
  },
  {
   "cell_type": "code",
   "execution_count": 32,
   "metadata": {},
   "outputs": [
    {
     "name": "stdout",
     "output_type": "stream",
     "text": [
      "_________________________________________________________________\n",
      "Layer (type)                 Output Shape              Param #   \n",
      "=================================================================\n",
      "conv2d_7 (Conv2D)            (None, 154, 198, 16)      448       \n",
      "_________________________________________________________________\n",
      "batch_normalization_4 (Batch (None, 154, 198, 16)      64        \n",
      "_________________________________________________________________\n",
      "activation_10 (Activation)   (None, 154, 198, 16)      0         \n",
      "_________________________________________________________________\n",
      "max_pooling2d_4 (MaxPooling2 (None, 77, 99, 16)        0         \n",
      "_________________________________________________________________\n",
      "dropout_10 (Dropout)         (None, 77, 99, 16)        0         \n",
      "_________________________________________________________________\n",
      "conv2d_8 (Conv2D)            (None, 75, 97, 16)        2320      \n",
      "_________________________________________________________________\n",
      "activation_11 (Activation)   (None, 75, 97, 16)        0         \n",
      "_________________________________________________________________\n",
      "dropout_11 (Dropout)         (None, 75, 97, 16)        0         \n",
      "_________________________________________________________________\n",
      "flatten_4 (Flatten)          (None, 116400)            0         \n",
      "_________________________________________________________________\n",
      "dense_7 (Dense)              (None, 256)               29798656  \n",
      "_________________________________________________________________\n",
      "activation_12 (Activation)   (None, 256)               0         \n",
      "_________________________________________________________________\n",
      "dropout_12 (Dropout)         (None, 256)               0         \n",
      "_________________________________________________________________\n",
      "dense_8 (Dense)              (None, 1)                 257       \n",
      "=================================================================\n",
      "Total params: 29,801,745\n",
      "Trainable params: 29,801,713\n",
      "Non-trainable params: 32\n",
      "_________________________________________________________________\n"
     ]
    }
   ],
   "source": [
    "fruit_model.summary()"
   ]
  },
  {
   "cell_type": "markdown",
   "metadata": {},
   "source": [
    "## Compile models\n",
    "Defining loss-function, optimizer (e.g. stochastics gradient descent), metrics"
   ]
  },
  {
   "cell_type": "code",
   "execution_count": 33,
   "metadata": {},
   "outputs": [],
   "source": [
    "car_model.compile(loss='binary_crossentropy', optimizer='sgd', metrics=['accuracy'])\n",
    "fruit_model.compile(loss='categorical_crossentropy', optimizer='sgd', metrics=['accuracy'])"
   ]
  },
  {
   "cell_type": "markdown",
   "metadata": {},
   "source": [
    "# Car CNN\n",
    "From this point on the two models will be handled separately (to save mem usage and for a clearer picture"
   ]
  },
  {
   "cell_type": "markdown",
   "metadata": {},
   "source": [
    "## Train model\n",
    "\n",
    "We decided to use 10% of training data as validation data"
   ]
  },
  {
   "cell_type": "code",
   "execution_count": 36,
   "metadata": {},
   "outputs": [
    {
     "name": "stdout",
     "output_type": "stream",
     "text": [
      "Train on 945 samples, validate on 105 samples\n",
      "Epoch 1/15\n",
      "945/945 [==============================] - 6s 6ms/step - loss: 0.0175 - acc: 0.9947 - val_loss: 0.0029 - val_acc: 1.0000\n",
      "Epoch 2/15\n",
      "945/945 [==============================] - 6s 6ms/step - loss: 0.0132 - acc: 0.9968 - val_loss: 0.0206 - val_acc: 0.9810\n",
      "Epoch 3/15\n",
      "945/945 [==============================] - 5s 6ms/step - loss: 0.0143 - acc: 0.9926 - val_loss: 0.0174 - val_acc: 0.9905\n",
      "Epoch 4/15\n",
      "945/945 [==============================] - 6s 6ms/step - loss: 0.0088 - acc: 0.9989 - val_loss: 0.0175 - val_acc: 0.9905\n",
      "Epoch 5/15\n",
      "945/945 [==============================] - 6s 6ms/step - loss: 0.0055 - acc: 1.0000 - val_loss: 0.0111 - val_acc: 0.9905\n",
      "Epoch 6/15\n",
      "945/945 [==============================] - 6s 6ms/step - loss: 0.0095 - acc: 0.9979 - val_loss: 0.0220 - val_acc: 0.9905\n",
      "Epoch 7/15\n",
      "945/945 [==============================] - 6s 6ms/step - loss: 0.0076 - acc: 0.9989 - val_loss: 0.0138 - val_acc: 0.9905\n",
      "Epoch 8/15\n",
      "945/945 [==============================] - 6s 6ms/step - loss: 0.0063 - acc: 0.9989 - val_loss: 0.0088 - val_acc: 0.9905\n",
      "Epoch 9/15\n",
      "945/945 [==============================] - 8s 8ms/step - loss: 0.0116 - acc: 0.9968 - val_loss: 0.0089 - val_acc: 1.0000\n",
      "Epoch 10/15\n",
      "945/945 [==============================] - 8s 8ms/step - loss: 0.0056 - acc: 1.0000 - val_loss: 0.0020 - val_acc: 1.0000\n",
      "Epoch 11/15\n",
      "945/945 [==============================] - 6s 6ms/step - loss: 0.0073 - acc: 0.9979 - val_loss: 0.0072 - val_acc: 1.0000\n",
      "Epoch 12/15\n",
      "945/945 [==============================] - 8s 8ms/step - loss: 0.0043 - acc: 1.0000 - val_loss: 0.0115 - val_acc: 0.9905\n",
      "Epoch 13/15\n",
      "945/945 [==============================] - 10s 11ms/step - loss: 0.0046 - acc: 0.9989 - val_loss: 0.0116 - val_acc: 0.9905\n",
      "Epoch 14/15\n",
      "945/945 [==============================] - 11s 12ms/step - loss: 0.0068 - acc: 0.9979 - val_loss: 0.0072 - val_acc: 1.0000\n",
      "Epoch 15/15\n",
      "945/945 [==============================] - 9s 10ms/step - loss: 0.0045 - acc: 0.9989 - val_loss: 0.0110 - val_acc: 0.9905\n"
     ]
    }
   ],
   "source": [
    "car_history = car_model.fit(car_images_train, cls_car_train, batch_size=32, epochs=15, validation_split=0.1) "
   ]
  },
  {
   "cell_type": "markdown",
   "metadata": {},
   "source": [
    "## Evaluation on test set"
   ]
  },
  {
   "cell_type": "code",
   "execution_count": 37,
   "metadata": {},
   "outputs": [],
   "source": [
    "car_pred = car_model.predict_classes(car_images_test)\n",
    "pd.Series(car_pred.flatten()).value_counts()"
   ]
  },
  {
   "cell_type": "code",
   "execution_count": 94,
   "metadata": {},
   "outputs": [
    {
     "data": {
      "text/plain": [
       "0.011764705882352941"
      ]
     },
     "execution_count": 94,
     "metadata": {},
     "output_type": "execute_result"
    }
   ],
   "source": [
    "accuracy_score(car_pred, cls_car_test)"
   ]
  },
  {
   "cell_type": "code",
   "execution_count": 96,
   "metadata": {},
   "outputs": [
    {
     "data": {
      "text/plain": [
       "[1,\n",
       " 1,\n",
       " 1,\n",
       " 1,\n",
       " 1,\n",
       " 1,\n",
       " 1,\n",
       " 1,\n",
       " 1,\n",
       " 1,\n",
       " 1,\n",
       " 1,\n",
       " 1,\n",
       " 1,\n",
       " 1,\n",
       " 1,\n",
       " 1,\n",
       " 1,\n",
       " 1,\n",
       " 1,\n",
       " 1,\n",
       " 1,\n",
       " 1,\n",
       " 1,\n",
       " 1,\n",
       " 1,\n",
       " 1,\n",
       " 1,\n",
       " 1,\n",
       " 1,\n",
       " 1,\n",
       " 1,\n",
       " 1,\n",
       " 1,\n",
       " 1,\n",
       " 1,\n",
       " 1,\n",
       " 1,\n",
       " 1,\n",
       " 1,\n",
       " 1,\n",
       " 1,\n",
       " 1,\n",
       " 1,\n",
       " 1,\n",
       " 1,\n",
       " 1,\n",
       " 1,\n",
       " 1,\n",
       " 1,\n",
       " 1,\n",
       " 1,\n",
       " 1,\n",
       " 1,\n",
       " 1,\n",
       " 1,\n",
       " 1,\n",
       " 1,\n",
       " 1,\n",
       " 1,\n",
       " 1,\n",
       " 1,\n",
       " 1,\n",
       " 1,\n",
       " 1,\n",
       " 1,\n",
       " 1,\n",
       " 1,\n",
       " 1,\n",
       " 1,\n",
       " 1,\n",
       " 1,\n",
       " 1,\n",
       " 1,\n",
       " 1,\n",
       " 1,\n",
       " 1,\n",
       " 1,\n",
       " 1,\n",
       " 1,\n",
       " 1,\n",
       " 1,\n",
       " 1,\n",
       " 1,\n",
       " 1,\n",
       " 1,\n",
       " 1,\n",
       " 1,\n",
       " 1,\n",
       " 1,\n",
       " 1,\n",
       " 1,\n",
       " 1,\n",
       " 1,\n",
       " 1,\n",
       " 1,\n",
       " 1,\n",
       " 1,\n",
       " 1,\n",
       " 1,\n",
       " 1,\n",
       " 1,\n",
       " 1,\n",
       " 1,\n",
       " 1,\n",
       " 1,\n",
       " 1,\n",
       " 1,\n",
       " 1,\n",
       " 1,\n",
       " 1,\n",
       " 1,\n",
       " 1,\n",
       " 1,\n",
       " 1,\n",
       " 1,\n",
       " 1,\n",
       " 1,\n",
       " 1,\n",
       " 1,\n",
       " 1,\n",
       " 1,\n",
       " 1,\n",
       " 1,\n",
       " 1,\n",
       " 1,\n",
       " 1,\n",
       " 1,\n",
       " 1,\n",
       " 1,\n",
       " 1,\n",
       " 1,\n",
       " 1,\n",
       " 1,\n",
       " 1,\n",
       " 1,\n",
       " 1,\n",
       " 1,\n",
       " 1,\n",
       " 1,\n",
       " 1,\n",
       " 1,\n",
       " 1,\n",
       " 1,\n",
       " 1,\n",
       " 1,\n",
       " 1,\n",
       " 1,\n",
       " 1,\n",
       " 1,\n",
       " 1,\n",
       " 1,\n",
       " 1,\n",
       " 1,\n",
       " 1,\n",
       " 1,\n",
       " 1,\n",
       " 1,\n",
       " 1,\n",
       " 1,\n",
       " 1,\n",
       " 1,\n",
       " 1,\n",
       " 1,\n",
       " 1,\n",
       " 1,\n",
       " 1,\n",
       " 1,\n",
       " 1,\n",
       " 1]"
      ]
     },
     "execution_count": 96,
     "metadata": {},
     "output_type": "execute_result"
    }
   ],
   "source": [
    "cls_car_test"
   ]
  },
  {
   "cell_type": "code",
   "execution_count": 97,
   "metadata": {},
   "outputs": [
    {
     "data": {
      "text/plain": [
       "(170, 40, 100, 1)"
      ]
     },
     "execution_count": 97,
     "metadata": {},
     "output_type": "execute_result"
    }
   ],
   "source": [
    "car_images_test.shape"
   ]
  },
  {
   "cell_type": "markdown",
   "metadata": {},
   "source": [
    "### Plotting training curve"
   ]
  },
  {
   "cell_type": "markdown",
   "metadata": {},
   "source": [
    "# Results"
   ]
  },
  {
   "cell_type": "code",
   "execution_count": null,
   "metadata": {},
   "outputs": [],
   "source": [
    "car_accuracy_wo_augmentation = 0.011764705882352941"
   ]
  },
  {
   "cell_type": "markdown",
   "metadata": {},
   "source": [
    "## Helpful utilities"
   ]
  },
  {
   "cell_type": "code",
   "execution_count": 100,
   "metadata": {},
   "outputs": [
    {
     "data": {
      "image/png": "[encoded data removed]",
      "text/plain": [
       "<PIL.Image.Image image mode=L size=100x40 at 0x7FD374657EB8>"
      ]
     },
     "execution_count": 100,
     "metadata": {},
     "output_type": "execute_result"
    }
   ],
   "source": [
    "# recreate image be reverting standardization\n",
    "Image.fromarray((car_images_test[83]*car_scaling.get('std')+car_scaling.get('mean')).astype('uint8').reshape(40,100))"
   ]
  },
  {
   "cell_type": "code",
   "execution_count": null,
   "metadata": {},
   "outputs": [],
   "source": []
  }
 ],
 "metadata": {
  "kernelspec": {
   "display_name": "Python 3",
   "language": "python",
   "name": "python3"
  },
  "language_info": {
   "codemirror_mode": {
    "name": "ipython",
    "version": 3
   },
   "file_extension": ".py",
   "mimetype": "text/x-python",
   "name": "python",
   "nbconvert_exporter": "python",
   "pygments_lexer": "ipython3",
   "version": "3.5.2"
  }
 },
 "nbformat": 4,
 "nbformat_minor": 2
}
