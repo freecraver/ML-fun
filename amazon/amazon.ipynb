{
 "cells": [
  {
   "cell_type": "code",
   "execution_count": 35,
   "metadata": {},
   "outputs": [
    {
     "data": {
      "text/html": [
       "<script type=\"text/javascript\">window.PlotlyConfig = {MathJaxConfig: 'local'};</script><script type=\"text/javascript\">if (window.MathJax) {MathJax.Hub.Config({SVG: {font: \"STIX-Web\"}});}</script><script>requirejs.config({paths: { 'plotly': ['https://cdn.plot.ly/plotly-latest.min']},});if(!window._Plotly) {require(['plotly'],function(plotly) {window._Plotly=plotly;});}</script>"
      ],
      "text/vnd.plotly.v1+html": [
       "<script type=\"text/javascript\">window.PlotlyConfig = {MathJaxConfig: 'local'};</script><script type=\"text/javascript\">if (window.MathJax) {MathJax.Hub.Config({SVG: {font: \"STIX-Web\"}});}</script><script>requirejs.config({paths: { 'plotly': ['https://cdn.plot.ly/plotly-latest.min']},});if(!window._Plotly) {require(['plotly'],function(plotly) {window._Plotly=plotly;});}</script>"
      ]
     },
     "metadata": {},
     "output_type": "display_data"
    }
   ],
   "source": [
    "import pandas as pd\n",
    "import numpy as np\n",
    "from sklearn.tree import DecisionTreeClassifier\n",
    "from sklearn.model_selection import train_test_split, cross_validate\n",
    "import matplotlib as mpl\n",
    "import matplotlib.pyplot as plt\n",
    "from sklearn.svm import SVC\n",
    "from sklearn.ensemble import RandomForestClassifier\n",
    "from sklearn.neural_network import MLPClassifier\n",
    "from fancyimpute import KNN\n",
    "\n",
    "import plotly.offline as py\n",
    "from plotly.offline import download_plotlyjs, init_notebook_mode\n",
    "import plotly.graph_objs as go\n",
    "\n",
    "init_notebook_mode(connected=True)\n",
    "\n",
    "train_path = \"res/amazonReviews.800.train.csv\"\n",
    "test_path = \"res/amazonReviews.700.test.csv\"\n",
    "result_folder = \"results/\"\n",
    "\n",
    "test_set_ratio = 0.1 "
   ]
  },
  {
   "cell_type": "code",
   "execution_count": 2,
   "metadata": {},
   "outputs": [
    {
     "data": {
      "text/html": [
       "<div>\n",
       "<style scoped>\n",
       "    .dataframe tbody tr th:only-of-type {\n",
       "        vertical-align: middle;\n",
       "    }\n",
       "\n",
       "    .dataframe tbody tr th {\n",
       "        vertical-align: top;\n",
       "    }\n",
       "\n",
       "    .dataframe thead th {\n",
       "        text-align: right;\n",
       "    }\n",
       "</style>\n",
       "<table border=\"1\" class=\"dataframe\">\n",
       "  <thead>\n",
       "    <tr style=\"text-align: right;\">\n",
       "      <th></th>\n",
       "      <th>ID</th>\n",
       "      <th>V1</th>\n",
       "      <th>V2</th>\n",
       "      <th>V3</th>\n",
       "      <th>V4</th>\n",
       "      <th>V5</th>\n",
       "      <th>V6</th>\n",
       "      <th>V7</th>\n",
       "      <th>V8</th>\n",
       "      <th>V9</th>\n",
       "      <th>...</th>\n",
       "      <th>V9992</th>\n",
       "      <th>V9993</th>\n",
       "      <th>V9994</th>\n",
       "      <th>V9995</th>\n",
       "      <th>V9996</th>\n",
       "      <th>V9997</th>\n",
       "      <th>V9998</th>\n",
       "      <th>V9999</th>\n",
       "      <th>V10000</th>\n",
       "      <th>Class</th>\n",
       "    </tr>\n",
       "  </thead>\n",
       "  <tbody>\n",
       "    <tr>\n",
       "      <th>0</th>\n",
       "      <td>545</td>\n",
       "      <td>5</td>\n",
       "      <td>4</td>\n",
       "      <td>3</td>\n",
       "      <td>2</td>\n",
       "      <td>2</td>\n",
       "      <td>3</td>\n",
       "      <td>1</td>\n",
       "      <td>1</td>\n",
       "      <td>2</td>\n",
       "      <td>...</td>\n",
       "      <td>0</td>\n",
       "      <td>0</td>\n",
       "      <td>0</td>\n",
       "      <td>0</td>\n",
       "      <td>0</td>\n",
       "      <td>0</td>\n",
       "      <td>0</td>\n",
       "      <td>1</td>\n",
       "      <td>0</td>\n",
       "      <td>Engineer</td>\n",
       "    </tr>\n",
       "    <tr>\n",
       "      <th>1</th>\n",
       "      <td>800</td>\n",
       "      <td>14</td>\n",
       "      <td>3</td>\n",
       "      <td>2</td>\n",
       "      <td>5</td>\n",
       "      <td>1</td>\n",
       "      <td>1</td>\n",
       "      <td>1</td>\n",
       "      <td>5</td>\n",
       "      <td>0</td>\n",
       "      <td>...</td>\n",
       "      <td>0</td>\n",
       "      <td>0</td>\n",
       "      <td>1</td>\n",
       "      <td>0</td>\n",
       "      <td>0</td>\n",
       "      <td>0</td>\n",
       "      <td>1</td>\n",
       "      <td>1</td>\n",
       "      <td>0</td>\n",
       "      <td>Kolln</td>\n",
       "    </tr>\n",
       "    <tr>\n",
       "      <th>2</th>\n",
       "      <td>1390</td>\n",
       "      <td>14</td>\n",
       "      <td>7</td>\n",
       "      <td>4</td>\n",
       "      <td>4</td>\n",
       "      <td>3</td>\n",
       "      <td>3</td>\n",
       "      <td>4</td>\n",
       "      <td>5</td>\n",
       "      <td>2</td>\n",
       "      <td>...</td>\n",
       "      <td>0</td>\n",
       "      <td>0</td>\n",
       "      <td>0</td>\n",
       "      <td>0</td>\n",
       "      <td>0</td>\n",
       "      <td>0</td>\n",
       "      <td>1</td>\n",
       "      <td>0</td>\n",
       "      <td>0</td>\n",
       "      <td>Vernon</td>\n",
       "    </tr>\n",
       "    <tr>\n",
       "      <th>3</th>\n",
       "      <td>1161</td>\n",
       "      <td>23</td>\n",
       "      <td>10</td>\n",
       "      <td>7</td>\n",
       "      <td>9</td>\n",
       "      <td>8</td>\n",
       "      <td>1</td>\n",
       "      <td>7</td>\n",
       "      <td>3</td>\n",
       "      <td>1</td>\n",
       "      <td>...</td>\n",
       "      <td>0</td>\n",
       "      <td>0</td>\n",
       "      <td>0</td>\n",
       "      <td>0</td>\n",
       "      <td>0</td>\n",
       "      <td>0</td>\n",
       "      <td>0</td>\n",
       "      <td>0</td>\n",
       "      <td>0</td>\n",
       "      <td>Nigam</td>\n",
       "    </tr>\n",
       "    <tr>\n",
       "      <th>4</th>\n",
       "      <td>23</td>\n",
       "      <td>13</td>\n",
       "      <td>3</td>\n",
       "      <td>3</td>\n",
       "      <td>6</td>\n",
       "      <td>1</td>\n",
       "      <td>5</td>\n",
       "      <td>0</td>\n",
       "      <td>3</td>\n",
       "      <td>3</td>\n",
       "      <td>...</td>\n",
       "      <td>0</td>\n",
       "      <td>0</td>\n",
       "      <td>0</td>\n",
       "      <td>0</td>\n",
       "      <td>1</td>\n",
       "      <td>0</td>\n",
       "      <td>0</td>\n",
       "      <td>1</td>\n",
       "      <td>0</td>\n",
       "      <td>Agresti</td>\n",
       "    </tr>\n",
       "    <tr>\n",
       "      <th>5</th>\n",
       "      <td>1386</td>\n",
       "      <td>11</td>\n",
       "      <td>16</td>\n",
       "      <td>7</td>\n",
       "      <td>9</td>\n",
       "      <td>9</td>\n",
       "      <td>6</td>\n",
       "      <td>0</td>\n",
       "      <td>2</td>\n",
       "      <td>2</td>\n",
       "      <td>...</td>\n",
       "      <td>0</td>\n",
       "      <td>0</td>\n",
       "      <td>0</td>\n",
       "      <td>0</td>\n",
       "      <td>0</td>\n",
       "      <td>0</td>\n",
       "      <td>1</td>\n",
       "      <td>0</td>\n",
       "      <td>0</td>\n",
       "      <td>Vernon</td>\n",
       "    </tr>\n",
       "    <tr>\n",
       "      <th>6</th>\n",
       "      <td>766</td>\n",
       "      <td>12</td>\n",
       "      <td>1</td>\n",
       "      <td>5</td>\n",
       "      <td>6</td>\n",
       "      <td>6</td>\n",
       "      <td>6</td>\n",
       "      <td>2</td>\n",
       "      <td>3</td>\n",
       "      <td>3</td>\n",
       "      <td>...</td>\n",
       "      <td>0</td>\n",
       "      <td>0</td>\n",
       "      <td>0</td>\n",
       "      <td>0</td>\n",
       "      <td>0</td>\n",
       "      <td>0</td>\n",
       "      <td>0</td>\n",
       "      <td>0</td>\n",
       "      <td>0</td>\n",
       "      <td>Koenig</td>\n",
       "    </tr>\n",
       "    <tr>\n",
       "      <th>7</th>\n",
       "      <td>1348</td>\n",
       "      <td>11</td>\n",
       "      <td>14</td>\n",
       "      <td>5</td>\n",
       "      <td>8</td>\n",
       "      <td>4</td>\n",
       "      <td>8</td>\n",
       "      <td>7</td>\n",
       "      <td>4</td>\n",
       "      <td>1</td>\n",
       "      <td>...</td>\n",
       "      <td>0</td>\n",
       "      <td>0</td>\n",
       "      <td>0</td>\n",
       "      <td>0</td>\n",
       "      <td>0</td>\n",
       "      <td>1</td>\n",
       "      <td>0</td>\n",
       "      <td>0</td>\n",
       "      <td>0</td>\n",
       "      <td>Sherwin</td>\n",
       "    </tr>\n",
       "    <tr>\n",
       "      <th>8</th>\n",
       "      <td>475</td>\n",
       "      <td>6</td>\n",
       "      <td>9</td>\n",
       "      <td>2</td>\n",
       "      <td>3</td>\n",
       "      <td>6</td>\n",
       "      <td>2</td>\n",
       "      <td>6</td>\n",
       "      <td>1</td>\n",
       "      <td>1</td>\n",
       "      <td>...</td>\n",
       "      <td>0</td>\n",
       "      <td>0</td>\n",
       "      <td>1</td>\n",
       "      <td>0</td>\n",
       "      <td>0</td>\n",
       "      <td>0</td>\n",
       "      <td>1</td>\n",
       "      <td>0</td>\n",
       "      <td>0</td>\n",
       "      <td>Cutey</td>\n",
       "    </tr>\n",
       "    <tr>\n",
       "      <th>9</th>\n",
       "      <td>132</td>\n",
       "      <td>1</td>\n",
       "      <td>2</td>\n",
       "      <td>6</td>\n",
       "      <td>0</td>\n",
       "      <td>0</td>\n",
       "      <td>0</td>\n",
       "      <td>8</td>\n",
       "      <td>1</td>\n",
       "      <td>2</td>\n",
       "      <td>...</td>\n",
       "      <td>0</td>\n",
       "      <td>0</td>\n",
       "      <td>0</td>\n",
       "      <td>0</td>\n",
       "      <td>0</td>\n",
       "      <td>0</td>\n",
       "      <td>0</td>\n",
       "      <td>0</td>\n",
       "      <td>0</td>\n",
       "      <td>Brody</td>\n",
       "    </tr>\n",
       "  </tbody>\n",
       "</table>\n",
       "<p>10 rows × 10002 columns</p>\n",
       "</div>"
      ],
      "text/plain": [
       "     ID  V1  V2  V3  V4  V5  V6  V7  V8  V9    ...     V9992  V9993  V9994  \\\n",
       "0   545   5   4   3   2   2   3   1   1   2    ...         0      0      0   \n",
       "1   800  14   3   2   5   1   1   1   5   0    ...         0      0      1   \n",
       "2  1390  14   7   4   4   3   3   4   5   2    ...         0      0      0   \n",
       "3  1161  23  10   7   9   8   1   7   3   1    ...         0      0      0   \n",
       "4    23  13   3   3   6   1   5   0   3   3    ...         0      0      0   \n",
       "5  1386  11  16   7   9   9   6   0   2   2    ...         0      0      0   \n",
       "6   766  12   1   5   6   6   6   2   3   3    ...         0      0      0   \n",
       "7  1348  11  14   5   8   4   8   7   4   1    ...         0      0      0   \n",
       "8   475   6   9   2   3   6   2   6   1   1    ...         0      0      1   \n",
       "9   132   1   2   6   0   0   0   8   1   2    ...         0      0      0   \n",
       "\n",
       "   V9995  V9996  V9997  V9998  V9999  V10000     Class  \n",
       "0      0      0      0      0      1       0  Engineer  \n",
       "1      0      0      0      1      1       0     Kolln  \n",
       "2      0      0      0      1      0       0    Vernon  \n",
       "3      0      0      0      0      0       0     Nigam  \n",
       "4      0      1      0      0      1       0   Agresti  \n",
       "5      0      0      0      1      0       0    Vernon  \n",
       "6      0      0      0      0      0       0    Koenig  \n",
       "7      0      0      1      0      0       0   Sherwin  \n",
       "8      0      0      0      1      0       0     Cutey  \n",
       "9      0      0      0      0      0       0     Brody  \n",
       "\n",
       "[10 rows x 10002 columns]"
      ]
     },
     "execution_count": 2,
     "metadata": {},
     "output_type": "execute_result"
    }
   ],
   "source": [
    "df_train = pd.read_csv(train_path)\n",
    "df_test = pd.read_csv(test_path)\n",
    "df_train.head(10)"
   ]
  },
  {
   "cell_type": "markdown",
   "metadata": {},
   "source": [
    "### Initialize Training data"
   ]
  },
  {
   "cell_type": "code",
   "execution_count": 3,
   "metadata": {},
   "outputs": [],
   "source": [
    "df_vars = df_train.loc[:, df_train.columns != 'Class']\n",
    "df_class = df_train['Class']\n",
    "\n",
    "X_train, X_test, y_train, y_test = train_test_split(df_vars, df_class, test_size=test_set_ratio, random_state=0)\n",
    "#clf = DecisionTreeClassifier(min_samples_split=7, random_state=13221323)\n",
    "clf = MLPClassifier(random_state=123093234)"
   ]
  },
  {
   "cell_type": "markdown",
   "metadata": {},
   "source": [
    "### Simple cross validation for well-founded results"
   ]
  },
  {
   "cell_type": "code",
   "execution_count": 4,
   "metadata": {},
   "outputs": [
    {
     "name": "stderr",
     "output_type": "stream",
     "text": [
      "E:\\Python\\Miniconda3\\lib\\site-packages\\sklearn\\neural_network\\multilayer_perceptron.py:564: UserWarning: Training interrupted by user.\n",
      "  warnings.warn(\"Training interrupted by user.\")\n",
      "E:\\Python\\Miniconda3\\lib\\site-packages\\sklearn\\neural_network\\multilayer_perceptron.py:564: UserWarning: Training interrupted by user.\n",
      "  warnings.warn(\"Training interrupted by user.\")\n"
     ]
    },
    {
     "data": {
      "text/plain": [
       "0.48883990073937794"
      ]
     },
     "execution_count": 4,
     "metadata": {},
     "output_type": "execute_result"
    }
   ],
   "source": [
    "scores = cross_validate(clf, df_vars, df_class, cv=5)\n",
    "scores['test_score']\n",
    "\n",
    "# dt criterion=gini\n",
    "# array([0.93854749, 0.9408284 , 0.93125   , 0.90728477, 0.96453901])"
   ]
  },
  {
   "cell_type": "markdown",
   "metadata": {},
   "source": [
    "### Hyper-parameter tuning"
   ]
  },
  {
   "cell_type": "code",
   "execution_count": 37,
   "metadata": {},
   "outputs": [
    {
     "data": {
      "image/png": "[encoded data removed]",
      "text/plain": [
       "<matplotlib.figure.Figure at 0x18342304a90>"
      ]
     },
     "metadata": {},
     "output_type": "display_data"
    }
   ],
   "source": [
    "min_samples_splits = [2,3,4,5,7,10,15,20,25]\n",
    "results = []\n",
    "for min_samples_split in min_samples_splits:\n",
    "    clf = DecisionTreeClassifier(min_samples_split=min_samples_split)\n",
    "    scores = cross_validate(clf, df_vars, df_class, cv=5)\n",
    "    results.append(scores['test_score'].mean())\n",
    "    \n",
    "plt.plot(min_samples_splits, results, \"r\", label=\"Test Accuracy\")\n",
    "plt.ylabel(\"accuracy\")\n",
    "plt.xlabel(\"min_samples_split\")\n",
    "plt.title(\"Mean 5-fold cross-validated accuracy\")\n",
    "plt.show()"
   ]
  },
  {
   "cell_type": "markdown",
   "metadata": {},
   "source": [
    "### Model fitting and sample testing"
   ]
  },
  {
   "cell_type": "code",
   "execution_count": 49,
   "metadata": {},
   "outputs": [
    {
     "data": {
      "text/plain": [
       "0.925"
      ]
     },
     "execution_count": 49,
     "metadata": {},
     "output_type": "execute_result"
    }
   ],
   "source": [
    "model = clf.fit(X_train, y_train)\n",
    "model.score(X_test, y_test)"
   ]
  },
  {
   "cell_type": "markdown",
   "metadata": {},
   "source": [
    "### Final prediction"
   ]
  },
  {
   "cell_type": "code",
   "execution_count": 50,
   "metadata": {},
   "outputs": [
    {
     "data": {
      "text/html": [
       "<div>\n",
       "<style scoped>\n",
       "    .dataframe tbody tr th:only-of-type {\n",
       "        vertical-align: middle;\n",
       "    }\n",
       "\n",
       "    .dataframe tbody tr th {\n",
       "        vertical-align: top;\n",
       "    }\n",
       "\n",
       "    .dataframe thead th {\n",
       "        text-align: right;\n",
       "    }\n",
       "</style>\n",
       "<table border=\"1\" class=\"dataframe\">\n",
       "  <thead>\n",
       "    <tr style=\"text-align: right;\">\n",
       "      <th></th>\n",
       "      <th>ID</th>\n",
       "      <th>class</th>\n",
       "    </tr>\n",
       "  </thead>\n",
       "  <tbody>\n",
       "    <tr>\n",
       "      <th>0</th>\n",
       "      <td>656</td>\n",
       "      <td>Harp</td>\n",
       "    </tr>\n",
       "    <tr>\n",
       "      <th>1</th>\n",
       "      <td>949</td>\n",
       "      <td>Mark</td>\n",
       "    </tr>\n",
       "    <tr>\n",
       "      <th>2</th>\n",
       "      <td>255</td>\n",
       "      <td>CFH</td>\n",
       "    </tr>\n",
       "    <tr>\n",
       "      <th>3</th>\n",
       "      <td>21</td>\n",
       "      <td>Agresti</td>\n",
       "    </tr>\n",
       "    <tr>\n",
       "      <th>4</th>\n",
       "      <td>1412</td>\n",
       "      <td>Vision</td>\n",
       "    </tr>\n",
       "    <tr>\n",
       "      <th>5</th>\n",
       "      <td>278</td>\n",
       "      <td>Chachra</td>\n",
       "    </tr>\n",
       "    <tr>\n",
       "      <th>6</th>\n",
       "      <td>81</td>\n",
       "      <td>Auken</td>\n",
       "    </tr>\n",
       "    <tr>\n",
       "      <th>7</th>\n",
       "      <td>1475</td>\n",
       "      <td>Wilson</td>\n",
       "    </tr>\n",
       "    <tr>\n",
       "      <th>8</th>\n",
       "      <td>955</td>\n",
       "      <td>Mark</td>\n",
       "    </tr>\n",
       "    <tr>\n",
       "      <th>9</th>\n",
       "      <td>1400</td>\n",
       "      <td>Vernon</td>\n",
       "    </tr>\n",
       "  </tbody>\n",
       "</table>\n",
       "</div>"
      ],
      "text/plain": [
       "     ID    class\n",
       "0   656     Harp\n",
       "1   949     Mark\n",
       "2   255      CFH\n",
       "3    21  Agresti\n",
       "4  1412   Vision\n",
       "5   278  Chachra\n",
       "6    81    Auken\n",
       "7  1475   Wilson\n",
       "8   955     Mark\n",
       "9  1400   Vernon"
      ]
     },
     "execution_count": 50,
     "metadata": {},
     "output_type": "execute_result"
    }
   ],
   "source": [
    "df_res = pd.DataFrame()\n",
    "df_res['ID'] = df_test['ID']\n",
    "df_res['class'] = pd.Series(model.predict(df_test))\n",
    "df_res.head(10)"
   ]
  },
  {
   "cell_type": "markdown",
   "metadata": {},
   "source": [
    "### Export"
   ]
  },
  {
   "cell_type": "code",
   "execution_count": 51,
   "metadata": {},
   "outputs": [],
   "source": [
    "export_file_name = result_folder + \"svm_linear.csv\"\n",
    "df_res.to_csv(export_file_name, index=False)"
   ]
  },
  {
   "cell_type": "markdown",
   "metadata": {},
   "source": [
    "### Easy comparison"
   ]
  },
  {
   "cell_type": "code",
   "execution_count": 33,
   "metadata": {},
   "outputs": [
    {
     "name": "stdout",
     "output_type": "stream",
     "text": [
      "Nearest Centroid -- Training Set -- Mean 0.7496791822186778 -- Min 0.7279005524861878 -- Max 0.7724039829302988\n",
      "Nearest Centroid -- Test Set -- Mean 0.6628582456264915 -- Min 0.5873015873015873 -- Max 0.7543859649122807\n",
      "Linear SVM -- Training Set -- Mean 1.0 -- Min 1.0 -- Max 1.0\n",
      "Linear SVM -- Test Set -- Mean 0.9560670435070409 -- Min 0.9191919191919192 -- Max 1.0\n",
      "Decision Tree -- Training Set -- Mean 1.0 -- Min 1.0 -- Max 1.0\n",
      "Decision Tree -- Test Set -- Mean 0.9458952341983844 -- Min 0.9 -- Max 1.0\n",
      "Naive Bayes -- Training Set -- Mean 1.0 -- Min 1.0 -- Max 1.0\n",
      "Naive Bayes -- Test Set -- Mean 0.35593122949313594 -- Min 0.2727272727272727 -- Max 0.42857142857142855\n"
     ]
    }
   ],
   "source": [
    "import traceback\n",
    "from sklearn.svm import SVC\n",
    "from sklearn.tree import DecisionTreeClassifier\n",
    "from sklearn.naive_bayes import GaussianNB\n",
    "from sklearn.neighbors.nearest_centroid import NearestCentroid\n",
    "\n",
    "df_vars = df_train.loc[:, df_train.columns != 'Class']\n",
    "df_class = df_train['Class']\n",
    "\n",
    "#df_vars = KNN(k=3).fit_transform(df_vars)\n",
    "\n",
    "names = [\"Nearest Centroid\", \"Linear SVM\",\n",
    "         \"Decision Tree\", \"Naive Bayes\"]\n",
    "\n",
    "classifiers = [\n",
    "    NearestCentroid(),\n",
    "    SVC(kernel=\"linear\"),\n",
    "    DecisionTreeClassifier(),\n",
    "    GaussianNB()]\n",
    "\n",
    "cl_scores = {}\n",
    "\n",
    "for name, clf in zip(names, classifiers):\n",
    "    try:\n",
    "        np.random.seed(32143421)\n",
    "        scores = cross_validate(clf, df_vars, df_class, cv=10, scoring='accuracy', return_train_score=True)\n",
    "        cl_scores[name] = scores\n",
    "        print(name,\"-- Training Set --\", \"Mean\", scores['train_score'].mean(), \"-- Min\", scores['train_score'].min(), \"-- Max\", scores['train_score'].max())\n",
    "        print(name,\"-- Test Set --\", \"Mean\", scores['test_score'].mean(), \"-- Min\", scores['test_score'].min(), \"-- Max\", scores['test_score'].max())\n",
    "    except:\n",
    "        print(\"Classification failed for\", name)\n",
    "        traceback.print_exc()"
   ]
  },
  {
   "cell_type": "code",
   "execution_count": 39,
   "metadata": {},
   "outputs": [
    {
     "data": {
      "application/vnd.plotly.v1+json": {
       "data": [
        {
         "boxpoints": "all",
         "name": "Nearest Centroid",
         "type": "box",
         "uid": "69e0029c-f956-482b-ad5a-b37e534cf1ad",
         "y": [
          0.6213592233009708,
          0.6565656565656566,
          0.5979381443298969,
          0.6808510638297872,
          0.7241379310344828,
          0.6578947368421053,
          0.7,
          0.5873015873015873,
          0.7543859649122807,
          0.6481481481481481
         ]
        },
        {
         "boxpoints": "all",
         "name": "Linear SVM",
         "type": "box",
         "uid": "37be58f0-05fb-4d89-9a3d-1b9155d2c64f",
         "y": [
          0.970873786407767,
          0.9191919191919192,
          0.9278350515463918,
          0.9468085106382979,
          0.9540229885057471,
          0.9736842105263158,
          0.9714285714285714,
          0.9523809523809523,
          1,
          0.9444444444444444
         ]
        },
        {
         "boxpoints": "all",
         "name": "Decision Tree",
         "type": "box",
         "uid": "ae44d158-2209-462a-bd23-3e13f2d2eebe",
         "y": [
          0.9611650485436893,
          0.9595959595959596,
          0.979381443298969,
          0.9574468085106383,
          0.9310344827586207,
          0.9078947368421053,
          0.9,
          0.9365079365079365,
          1,
          0.9259259259259259
         ]
        },
        {
         "boxpoints": "all",
         "name": "Naive Bayes",
         "type": "box",
         "uid": "01ea916b-7f7f-42df-a5c4-78f15b407ae6",
         "y": [
          0.32038834951456313,
          0.2727272727272727,
          0.32989690721649484,
          0.3829787234042553,
          0.3448275862068966,
          0.39473684210526316,
          0.4,
          0.42857142857142855,
          0.3333333333333333,
          0.35185185185185186
         ]
        }
       ],
       "layout": {
        "autosize": true,
        "title": "Accuracy on Test Set (Amazon Commerce Reviews)",
        "xaxis": {
         "autorange": true,
         "range": [
          -0.696,
          3.5
         ],
         "type": "category"
        },
        "yaxis": {
         "autorange": true,
         "range": [
          0.2323232323232323,
          1.0404040404040404
         ],
         "type": "linear"
        }
       }
      },
      "image/png": "[encoded data removed]",
      "text/html": [
       "<div id=\"d1153021-ef8d-40ba-a533-b34063003fec\" style=\"height: 525px; width: 100%;\" class=\"plotly-graph-div\"></div><script type=\"text/javascript\">require([\"plotly\"], function(Plotly) { window.PLOTLYENV=window.PLOTLYENV || {};window.PLOTLYENV.BASE_URL=\"https://plot.ly\";Plotly.newPlot(\"d1153021-ef8d-40ba-a533-b34063003fec\", [{\"boxpoints\": \"all\", \"name\": \"Nearest Centroid\", \"y\": [0.6213592233009708, 0.6565656565656566, 0.5979381443298969, 0.6808510638297872, 0.7241379310344828, 0.6578947368421053, 0.7, 0.5873015873015873, 0.7543859649122807, 0.6481481481481481], \"type\": \"box\", \"uid\": \"69e0029c-f956-482b-ad5a-b37e534cf1ad\"}, {\"boxpoints\": \"all\", \"name\": \"Linear SVM\", \"y\": [0.970873786407767, 0.9191919191919192, 0.9278350515463918, 0.9468085106382979, 0.9540229885057471, 0.9736842105263158, 0.9714285714285714, 0.9523809523809523, 1.0, 0.9444444444444444], \"type\": \"box\", \"uid\": \"37be58f0-05fb-4d89-9a3d-1b9155d2c64f\"}, {\"boxpoints\": \"all\", \"name\": \"Decision Tree\", \"y\": [0.9611650485436893, 0.9595959595959596, 0.979381443298969, 0.9574468085106383, 0.9310344827586207, 0.9078947368421053, 0.9, 0.9365079365079365, 1.0, 0.9259259259259259], \"type\": \"box\", \"uid\": \"ae44d158-2209-462a-bd23-3e13f2d2eebe\"}, {\"boxpoints\": \"all\", \"name\": \"Naive Bayes\", \"y\": [0.32038834951456313, 0.2727272727272727, 0.32989690721649484, 0.3829787234042553, 0.3448275862068966, 0.39473684210526316, 0.4, 0.42857142857142855, 0.3333333333333333, 0.35185185185185186], \"type\": \"box\", \"uid\": \"01ea916b-7f7f-42df-a5c4-78f15b407ae6\"}], {\"title\": \"Accuracy on Test Set (Amazon Commerce Reviews)\"}, {\"showLink\": true, \"linkText\": \"Export to plot.ly\"})});</script><script type=\"text/javascript\">window.addEventListener(\"resize\", function(){Plotly.Plots.resize(document.getElementById(\"d1153021-ef8d-40ba-a533-b34063003fec\"));});</script>"
      ],
      "text/vnd.plotly.v1+html": [
       "<div id=\"d1153021-ef8d-40ba-a533-b34063003fec\" style=\"height: 525px; width: 100%;\" class=\"plotly-graph-div\"></div><script type=\"text/javascript\">require([\"plotly\"], function(Plotly) { window.PLOTLYENV=window.PLOTLYENV || {};window.PLOTLYENV.BASE_URL=\"https://plot.ly\";Plotly.newPlot(\"d1153021-ef8d-40ba-a533-b34063003fec\", [{\"boxpoints\": \"all\", \"name\": \"Nearest Centroid\", \"y\": [0.6213592233009708, 0.6565656565656566, 0.5979381443298969, 0.6808510638297872, 0.7241379310344828, 0.6578947368421053, 0.7, 0.5873015873015873, 0.7543859649122807, 0.6481481481481481], \"type\": \"box\", \"uid\": \"69e0029c-f956-482b-ad5a-b37e534cf1ad\"}, {\"boxpoints\": \"all\", \"name\": \"Linear SVM\", \"y\": [0.970873786407767, 0.9191919191919192, 0.9278350515463918, 0.9468085106382979, 0.9540229885057471, 0.9736842105263158, 0.9714285714285714, 0.9523809523809523, 1.0, 0.9444444444444444], \"type\": \"box\", \"uid\": \"37be58f0-05fb-4d89-9a3d-1b9155d2c64f\"}, {\"boxpoints\": \"all\", \"name\": \"Decision Tree\", \"y\": [0.9611650485436893, 0.9595959595959596, 0.979381443298969, 0.9574468085106383, 0.9310344827586207, 0.9078947368421053, 0.9, 0.9365079365079365, 1.0, 0.9259259259259259], \"type\": \"box\", \"uid\": \"ae44d158-2209-462a-bd23-3e13f2d2eebe\"}, {\"boxpoints\": \"all\", \"name\": \"Naive Bayes\", \"y\": [0.32038834951456313, 0.2727272727272727, 0.32989690721649484, 0.3829787234042553, 0.3448275862068966, 0.39473684210526316, 0.4, 0.42857142857142855, 0.3333333333333333, 0.35185185185185186], \"type\": \"box\", \"uid\": \"01ea916b-7f7f-42df-a5c4-78f15b407ae6\"}], {\"title\": \"Accuracy on Test Set (Amazon Commerce Reviews)\"}, {\"showLink\": true, \"linkText\": \"Export to plot.ly\"})});</script><script type=\"text/javascript\">window.addEventListener(\"resize\", function(){Plotly.Plots.resize(document.getElementById(\"d1153021-ef8d-40ba-a533-b34063003fec\"));});</script>"
      ]
     },
     "metadata": {},
     "output_type": "display_data"
    }
   ],
   "source": [
    "traces = []\n",
    "for clf_name in names:\n",
    "    traces.append(go.Box(\n",
    "        y=cl_scores[clf_name]['test_score'],\n",
    "        boxpoints='all',\n",
    "        name=clf_name\n",
    "    ))\n",
    "    \n",
    "layout = go.Layout(title=\"Accuracy on Test Set (Amazon Commerce Reviews)\")\n",
    "    \n",
    "py.iplot(go.Figure(data=traces, layout=layout))"
   ]
  },
  {
   "cell_type": "code",
   "execution_count": null,
   "metadata": {},
   "outputs": [],
   "source": []
  }
 ],
 "metadata": {
  "kernelspec": {
   "display_name": "Python 3",
   "language": "python",
   "name": "python3"
  },
  "language_info": {
   "codemirror_mode": {
    "name": "ipython",
    "version": 3
   },
   "file_extension": ".py",
   "mimetype": "text/x-python",
   "name": "python",
   "nbconvert_exporter": "python",
   "pygments_lexer": "ipython3",
   "version": "3.6.7"
  }
 },
 "nbformat": 4,
 "nbformat_minor": 2
}
